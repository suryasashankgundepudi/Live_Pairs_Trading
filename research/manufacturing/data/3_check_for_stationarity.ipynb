{
 "cells": [
  {
   "cell_type": "markdown",
   "source": [
    "## Check for stationarity for each pair"
   ],
   "metadata": {
    "collapsed": false
   },
   "id": "bc0d1f232aa5e4bf"
  },
  {
   "cell_type": "code",
   "execution_count": 38,
   "outputs": [],
   "source": [
    "import yfinance as yf\n",
    "import random\n",
    "import json\n",
    "import statsmodels.api as sm\n",
    "import datetime\n",
    "import os\n",
    "import csv\n",
    "import copy\n",
    "from statsmodels.tsa.stattools import adfuller\n",
    "random.seed(1)"
   ],
   "metadata": {
    "collapsed": false,
    "ExecuteTime": {
     "end_time": "2023-09-29T11:48:33.112307Z",
     "start_time": "2023-09-29T11:48:33.063373Z"
    }
   },
   "id": "d80c86c5a8bd144d"
  },
  {
   "cell_type": "markdown",
   "source": [
    "## Load data obtained from the identify pairs notebook"
   ],
   "metadata": {
    "collapsed": false
   },
   "id": "8196c2f2c73a24dd"
  },
  {
   "cell_type": "code",
   "execution_count": 39,
   "outputs": [],
   "source": [
    "def load_pairs():\n",
    "    file_path = \"/Users/gabe/Desktop/FIM 500/Pairs Trading/Live_Pairs_Trading/research/manufacturing/data/pairs_names.json\"\n",
    "\n",
    "    # Read the JSON file as a dictionary\n",
    "    with open(file_path, \"r\") as json_file:\n",
    "        loaded_pairs_dic = json.load(json_file)\n",
    "\n",
    "    # Now, loaded_pairs_dic contains the dictionary from the JSON file\n",
    "    #print(loaded_pairs_dic)\n",
    "    return loaded_pairs_dic"
   ],
   "metadata": {
    "collapsed": false,
    "ExecuteTime": {
     "end_time": "2023-09-29T11:48:33.113822Z",
     "start_time": "2023-09-29T11:48:33.069886Z"
    }
   },
   "id": "4455999bffcddaf3"
  },
  {
   "cell_type": "code",
   "execution_count": 40,
   "outputs": [],
   "source": [
    "# Enable to use start & end dates:\n",
    "start = datetime.date.today() - datetime.timedelta(days=430)\n",
    "end = datetime.date.today() - datetime.timedelta(days=60)"
   ],
   "metadata": {
    "collapsed": false,
    "ExecuteTime": {
     "end_time": "2023-09-29T11:48:33.141858Z",
     "start_time": "2023-09-29T11:48:33.075849Z"
    }
   },
   "id": "9dcd3eb9d504ff1a"
  },
  {
   "cell_type": "markdown",
   "source": [
    "## Plotting price movement of two assets"
   ],
   "metadata": {
    "collapsed": false
   },
   "id": "9acf0df6db1143b"
  },
  {
   "cell_type": "code",
   "execution_count": 41,
   "outputs": [],
   "source": [
    "from plotly.subplots import make_subplots\n",
    "import plotly.graph_objects as go\n",
    "\n",
    "def plot_assets(asset1, asset2, ticker1, ticker2):\n",
    "    fig = make_subplots(rows=2,\n",
    "                        cols=1,\n",
    "                        subplot_titles=(\"asset2\", \"asset1\"))\n",
    "\n",
    "    fig.append_trace(go.Scatter(x=asset2.index,\n",
    "                                y=asset2,\n",
    "                                ),\n",
    "                     row=1, col=1)\n",
    "\n",
    "    fig.append_trace(go.Scatter(x=asset1.index,\n",
    "                                y=asset1,\n",
    "                                ),\n",
    "                     row=2, col=1)\n",
    "\n",
    "    # Update yaxis properties\n",
    "    fig.update_yaxes(title_text=\"Price\", row=1, col=1)\n",
    "    fig.update_xaxes(title_text=\"Date\",  row=1, col=1)\n",
    "    fig.update_yaxes(title_text=\"Price\", row=2, col=1)\n",
    "    fig.update_xaxes(title_text=\"Date\",  row=2, col=1)\n",
    "\n",
    "    #fig.show()\n",
    "    if not os.path.exists(\"img/\"):\n",
    "        os.mkdir(\"img/\")\n",
    "        print(\"Image Directory Created!\")\n",
    "\n",
    "    file_path = \"img/\" + ticker1 + \"_\" + ticker2 + \".html\"\n",
    "    fig.write_html(file_path)"
   ],
   "metadata": {
    "collapsed": false,
    "ExecuteTime": {
     "end_time": "2023-09-29T11:48:33.145245Z",
     "start_time": "2023-09-29T11:48:33.085546Z"
    }
   },
   "id": "e29fb1e23e39d137"
  },
  {
   "cell_type": "markdown",
   "source": [
    "## Run OLS Regression and calculating spread"
   ],
   "metadata": {
    "collapsed": false
   },
   "id": "b6b8ca01cf9c5c72"
  },
  {
   "cell_type": "code",
   "execution_count": 42,
   "outputs": [],
   "source": [
    "def regression_analysis(asset1, asset2, ticker1, ticker2):\n",
    "\n",
    "    # adding a constant variable to the asset1 time series for the intercept value \n",
    "    asset1 = sm.add_constant(asset1, prepend=False)\n",
    "\n",
    "    # Running the OLS function with asset2 as the dependent variable and asset1 as the dependent variable\n",
    "    ols = sm.OLS(asset2, asset1)\n",
    "\n",
    "    # Saving the results of the OLS model into a variable\n",
    "    output = ols.fit()\n",
    "    print(\"Completed Training\")\n",
    "\n",
    "    #print(output.params)\n",
    "    # Getting the beta from the OLS results. Close means the close price of asset1\n",
    "    beta = output.params[\"Close\"]\n",
    "\n",
    "    # Dropping the const column in the dependent variable\n",
    "    asset1.drop(columns=\"const\", inplace = True)\n",
    "\n",
    "    # Calculating spread\n",
    "    spread = asset2 - beta*asset1[\"Close\"]\n",
    "\n",
    "    fig = go.Figure(go.Scatter(y = spread))\n",
    "\n",
    "    fig.update_layout(title = \"Spread between \" + ticker2 + \" and \" + ticker1)\n",
    "\n",
    "    fig.update_xaxes(title_text=\"Date\")\n",
    "    fig.update_yaxes(title_text=\"Spread\")\n",
    "\n",
    "    file_path = \"img/Spread_\" + ticker1 + \"_\" + ticker2 + \".html\"\n",
    "    fig.write_html(file_path)\n",
    "\n",
    "    #fig.show()\n",
    "\n",
    "    return beta, spread"
   ],
   "metadata": {
    "collapsed": false,
    "ExecuteTime": {
     "end_time": "2023-09-29T11:48:33.153106Z",
     "start_time": "2023-09-29T11:48:33.097131Z"
    }
   },
   "id": "2fe4749c1aaf95fc"
  },
  {
   "cell_type": "markdown",
   "source": [
    "## Perform Augmented Dickey Fuller Test"
   ],
   "metadata": {
    "collapsed": false
   },
   "id": "fa1eb049063bd78e"
  },
  {
   "cell_type": "code",
   "execution_count": 43,
   "outputs": [],
   "source": [
    "from statsmodels.tsa.stattools import adfuller\n",
    "def run_adf_test(ticker1, ticker2, spread, pvalue_thres):\n",
    "    result = adfuller(spread)\n",
    "    does_pass = result[1] < pvalue_thres\n",
    "    if does_pass:\n",
    "        print(f'spread between {ticker1} and {ticker2} passed ADF stationarity test')\n",
    "    else:\n",
    "        print(f'spread between {ticker1} and {ticker2} failed ADF stationarity test')\n",
    "    return does_pass"
   ],
   "metadata": {
    "collapsed": false,
    "ExecuteTime": {
     "end_time": "2023-09-29T11:48:33.154161Z",
     "start_time": "2023-09-29T11:48:33.102283Z"
    }
   },
   "id": "b4e005eb40ca29f5"
  },
  {
   "cell_type": "markdown",
   "source": [
    "1. p-value > 0.05: Fail to reject the null hypothesis (H0), the data has a unit root and is non-stationary.\n",
    "2. p-value <= 0.05: Reject the null hypothesis (H0), the data does not have a unit root and is stationary.\n",
    "Since the p value is greater than 0.05 we fail to reject the null hypothesis, the time series is not stationary\n",
    "\n",
    "If it was accepted the code would be as follows\n",
    "\n",
    "accepted_pairs = []\n",
    "accepted_pairs.append(target_pair[0] + \"_\" + target_pair[1])\n",
    "You don't need to print out the values from ADF just check if the 5% level is less than or equal to 0.05 and save it into the list.\n",
    "\n",
    "Once the list is complete for all assets you would need to save it as a text file for later use"
   ],
   "metadata": {
    "collapsed": false
   },
   "id": "2cafde087d620679"
  },
  {
   "cell_type": "code",
   "execution_count": 44,
   "outputs": [
    {
     "name": "stdout",
     "output_type": "stream",
     "text": [
      "{'CAT': ['AER'], 'CPRT': ['CP'], 'CSX': ['CP'], 'DAL': ['CARR'], 'FAST': ['CP'], 'FDX': ['CP', 'FAST'], 'HON': ['EMR'], 'HWM': ['CP'], 'JCI': ['AER'], 'LUV': ['ADP'], 'MAS': ['CP'], 'NSC': ['LUV'], 'OTIS': ['CP'], 'PAYX': ['LUV'], 'PCAR': ['IR'], 'RYCEY': ['CP', 'GE', 'GFL', 'IR'], 'TRU': ['CP'], 'UAL': ['CP', 'ETN', 'IR', 'JCI', 'PCAR'], 'UNP': ['PAYX'], 'WM': ['TXT'], 'XYL': ['JCI']}\n",
      "CAT_AER\n",
      "[*********************100%%**********************]  1 of 1 completed\n",
      "[*********************100%%**********************]  1 of 1 completed\n",
      "Completed Training\n",
      "spread between CAT and AER passed ADF stationarity test\n",
      "CPRT_CP\n",
      "[*********************100%%**********************]  1 of 1 completed\n",
      "[*********************100%%**********************]  1 of 1 completed\n",
      "Completed Training\n",
      "spread between CPRT and CP passed ADF stationarity test\n",
      "CSX_CP\n",
      "[*********************100%%**********************]  1 of 1 completed\n",
      "[*********************100%%**********************]  1 of 1 completed\n",
      "Completed Training\n",
      "spread between CSX and CP passed ADF stationarity test\n",
      "DAL_CARR\n",
      "[*********************100%%**********************]  1 of 1 completed\n",
      "[*********************100%%**********************]  1 of 1 completed\n",
      "Completed Training\n",
      "spread between DAL and CARR failed ADF stationarity test\n",
      "FAST_CP\n",
      "[*********************100%%**********************]  1 of 1 completed\n",
      "[*********************100%%**********************]  1 of 1 completed\n",
      "Completed Training\n",
      "spread between FAST and CP passed ADF stationarity test\n",
      "FDX_CP\n",
      "[*********************100%%**********************]  1 of 1 completed\n",
      "[*********************100%%**********************]  1 of 1 completed\n",
      "Completed Training\n",
      "spread between FDX and CP passed ADF stationarity test\n",
      "FDX_FAST\n",
      "[*********************100%%**********************]  1 of 1 completed\n",
      "[*********************100%%**********************]  1 of 1 completed\n",
      "Completed Training\n",
      "spread between FDX and FAST passed ADF stationarity test\n",
      "HON_EMR\n",
      "[*********************100%%**********************]  1 of 1 completed\n",
      "[*********************100%%**********************]  1 of 1 completed\n",
      "Completed Training\n",
      "spread between HON and EMR passed ADF stationarity test\n",
      "HWM_CP\n",
      "[*********************100%%**********************]  1 of 1 completed\n",
      "[*********************100%%**********************]  1 of 1 completed\n",
      "Completed Training\n",
      "spread between HWM and CP passed ADF stationarity test\n",
      "JCI_AER\n",
      "[*********************100%%**********************]  1 of 1 completed\n",
      "[*********************100%%**********************]  1 of 1 completed\n",
      "Completed Training\n",
      "spread between JCI and AER passed ADF stationarity test\n",
      "LUV_ADP\n",
      "[*********************100%%**********************]  1 of 1 completed\n",
      "[*********************100%%**********************]  1 of 1 completed\n",
      "Completed Training\n",
      "spread between LUV and ADP passed ADF stationarity test\n",
      "MAS_CP\n",
      "[*********************100%%**********************]  1 of 1 completed\n",
      "[*********************100%%**********************]  1 of 1 completed\n",
      "Completed Training\n",
      "spread between MAS and CP passed ADF stationarity test\n",
      "NSC_LUV\n",
      "[*********************100%%**********************]  1 of 1 completed\n",
      "[*********************100%%**********************]  1 of 1 completed\n",
      "Completed Training\n",
      "spread between NSC and LUV passed ADF stationarity test\n",
      "OTIS_CP\n",
      "[*********************100%%**********************]  1 of 1 completed\n",
      "[*********************100%%**********************]  1 of 1 completed\n",
      "Completed Training\n",
      "spread between OTIS and CP passed ADF stationarity test\n",
      "PAYX_LUV\n",
      "[*********************100%%**********************]  1 of 1 completed\n",
      "[*********************100%%**********************]  1 of 1 completed\n",
      "Completed Training\n",
      "spread between PAYX and LUV passed ADF stationarity test\n",
      "PCAR_IR\n",
      "[*********************100%%**********************]  1 of 1 completed\n",
      "[*********************100%%**********************]  1 of 1 completed\n",
      "Completed Training\n",
      "spread between PCAR and IR passed ADF stationarity test\n",
      "RYCEY_CP\n",
      "[*********************100%%**********************]  1 of 1 completed\n",
      "[*********************100%%**********************]  1 of 1 completed\n",
      "Completed Training\n",
      "spread between RYCEY and CP passed ADF stationarity test\n",
      "RYCEY_GE\n",
      "[*********************100%%**********************]  1 of 1 completed\n",
      "[*********************100%%**********************]  1 of 1 completed\n",
      "Completed Training\n",
      "spread between RYCEY and GE passed ADF stationarity test\n",
      "RYCEY_GFL\n",
      "[*********************100%%**********************]  1 of 1 completed\n",
      "[*********************100%%**********************]  1 of 1 completed\n",
      "Completed Training\n",
      "spread between RYCEY and GFL failed ADF stationarity test\n",
      "RYCEY_IR\n",
      "[*********************100%%**********************]  1 of 1 completed\n",
      "[*********************100%%**********************]  1 of 1 completed\n",
      "Completed Training\n",
      "spread between RYCEY and IR passed ADF stationarity test\n",
      "TRU_CP\n",
      "[*********************100%%**********************]  1 of 1 completed\n",
      "[*********************100%%**********************]  1 of 1 completed\n",
      "Completed Training\n",
      "spread between TRU and CP passed ADF stationarity test\n",
      "UAL_CP\n",
      "[*********************100%%**********************]  1 of 1 completed\n",
      "[*********************100%%**********************]  1 of 1 completed\n",
      "Completed Training\n",
      "spread between UAL and CP passed ADF stationarity test\n",
      "UAL_ETN\n",
      "[*********************100%%**********************]  1 of 1 completed\n",
      "[*********************100%%**********************]  1 of 1 completed\n",
      "Completed Training\n",
      "spread between UAL and ETN failed ADF stationarity test\n",
      "UAL_IR\n",
      "[*********************100%%**********************]  1 of 1 completed\n",
      "[*********************100%%**********************]  1 of 1 completed\n",
      "Completed Training\n",
      "spread between UAL and IR passed ADF stationarity test\n",
      "UAL_JCI\n",
      "[*********************100%%**********************]  1 of 1 completed\n",
      "[*********************100%%**********************]  1 of 1 completed\n",
      "Completed Training\n",
      "spread between UAL and JCI failed ADF stationarity test\n",
      "UAL_PCAR\n",
      "[*********************100%%**********************]  1 of 1 completed\n",
      "[*********************100%%**********************]  1 of 1 completed\n",
      "Completed Training\n",
      "spread between UAL and PCAR passed ADF stationarity test\n",
      "UNP_PAYX\n",
      "[*********************100%%**********************]  1 of 1 completed\n",
      "[*********************100%%**********************]  1 of 1 completed\n",
      "Completed Training\n",
      "spread between UNP and PAYX passed ADF stationarity test\n",
      "WM_TXT\n",
      "[*********************100%%**********************]  1 of 1 completed\n",
      "[*********************100%%**********************]  1 of 1 completed\n",
      "Completed Training\n",
      "spread between WM and TXT passed ADF stationarity test\n",
      "XYL_JCI\n",
      "[*********************100%%**********************]  1 of 1 completed\n",
      "[*********************100%%**********************]  1 of 1 completed\n",
      "Completed Training\n",
      "spread between XYL and JCI passed ADF stationarity test\n",
      "25\n"
     ]
    }
   ],
   "source": [
    "def get_data(ticker, start, end):\n",
    "    return yf.download(ticker, start, end)['Close']\n",
    "\n",
    "def main():\n",
    "    final_pair_list = []\n",
    "    adf_pvalue_thres = 0.05\n",
    "    pair_to_spread = {}\n",
    "\n",
    "    pairs_dict = load_pairs()\n",
    "    print(pairs_dict)\n",
    "\n",
    "    for ticker1 in pairs_dict.keys():\n",
    "        tickers = copy.copy(pairs_dict[ticker1])\n",
    "        if isinstance(tickers, str):\n",
    "            tickers = [tickers]\n",
    "\n",
    "        for ticker2 in tickers:\n",
    "            pair_name = ticker1 + '_' + ticker2\n",
    "            print(pair_name)\n",
    "            asset1 = get_data(ticker1,start,end)\n",
    "            asset2 = get_data(ticker2,start,end)\n",
    "            plot_assets(asset1, asset2, ticker1, ticker2)\n",
    "            pair_to_spread[pair_name], spread = regression_analysis(asset1, asset2, ticker1, ticker2)\n",
    "            does_pass_adf = run_adf_test(ticker1,ticker2,spread, adf_pvalue_thres)\n",
    "            if does_pass_adf:\n",
    "                final_pair_list.append(ticker1+\"_\"+ticker2)\n",
    "\n",
    "    print(len(final_pair_list))\n",
    "    final_pair_file_path = \"/Users/gabe/Desktop/FIM 500/Pairs Trading/Live_Pairs_Trading/research/manufacturing/data/final_pair.csv\"\n",
    "    with open(final_pair_file_path, \"w\", newline=\"\") as csv_file:\n",
    "        writer = csv.writer(csv_file)\n",
    "        for pair in final_pair_list:\n",
    "            tickers = pair.split(\"_\")\n",
    "            writer.writerow([tickers[0],tickers[1]])\n",
    "\n",
    "main()"
   ],
   "metadata": {
    "collapsed": false,
    "ExecuteTime": {
     "end_time": "2023-09-29T11:48:48.962185Z",
     "start_time": "2023-09-29T11:48:33.125242Z"
    }
   },
   "id": "e4f43dce8e4fab84"
  }
 ],
 "metadata": {
  "kernelspec": {
   "display_name": "Python 3",
   "language": "python",
   "name": "python3"
  },
  "language_info": {
   "codemirror_mode": {
    "name": "ipython",
    "version": 2
   },
   "file_extension": ".py",
   "mimetype": "text/x-python",
   "name": "python",
   "nbconvert_exporter": "python",
   "pygments_lexer": "ipython2",
   "version": "2.7.6"
  }
 },
 "nbformat": 4,
 "nbformat_minor": 5
}
