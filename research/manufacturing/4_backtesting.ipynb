{
 "cells": [
  {
   "cell_type": "markdown",
   "source": [
    "## Backtesting the Strategy\n",
    "Here we will be looking at how the strategy has performed in the last 6 months and then using this we will decide if we need to move further or not.\n",
    "\n",
    "One addition to your previous code would be to add another column for the beta between the assets.\n",
    "\n",
    "This way we can get the hedge ratio.\n",
    "\n",
    "Here is a task list for those who want to code. Otherwise you can use mine as reference\n",
    "\n",
    "## Pairs Trading Strategy with Beta as Hedge Ratio: Task List\n",
    "# Data Preparation and Research\n",
    "Asset Pairs Selection: Identify and finalize the list of asset pairs for pairs trading. Record their hedge ratios (beta) based on historical data. Data Collection: Research and decide on the data source for real-time or historical price data for selected asset pairs.\n",
    "\n",
    "# Code Development\n",
    "Fetch Asset Data: Write code to fetch historical or real-time price data for the selected asset pairs. Calculate Spread: Implement logic to calculate the spread between each asset pair using the formula Spread = Asset2 − beta × Asset1 Spread=Asset2−β×Asset1. Z-Score Calculation: Calculate the z-score of the spread to standardize it. Signal Generation: Generate trading signals based on the calculated z-score. Define upper and lower thresholds for entering and exiting trades. Use Beta as Hedge Ratio: Implement logic to use beta as a hedge ratio while placing trades to make the portfolio market-neutral."
   ],
   "metadata": {
    "collapsed": false
   },
   "id": "5bc8330f7f5a51f4"
  },
  {
   "cell_type": "code",
   "execution_count": 2,
   "outputs": [],
   "source": [
    "# Importing additional necessary libraries for quant metrics and plotting\n",
    "from pyfolio.timeseries import perf_stats\n",
    "import plotly.graph_objs as go\n",
    "import os\n",
    "import pandas as pd\n",
    "import numpy as np\n",
    "from datetime import datetime\n",
    "from dateutil.relativedelta import relativedelta\n",
    "from scipy.stats import zscore\n",
    "import yfinance as yf\n",
    "import warnings\n",
    "\n",
    "# Ignore all warnings\n",
    "warnings.filterwarnings(\"ignore\")"
   ],
   "metadata": {
    "collapsed": false,
    "ExecuteTime": {
     "end_time": "2023-10-31T14:41:55.360895Z",
     "start_time": "2023-10-31T14:41:55.317091Z"
    }
   },
   "id": "c2b760c14f5aa3c8"
  },
  {
   "cell_type": "code",
   "execution_count": 3,
   "outputs": [],
   "source": [
    "def backtest(df_trading, asset1 : str, asset2 : str, beta: float):\n",
    "    metrics = {}\n",
    "\n",
    "    df_trading['spread'] = df_trading[asset2] - beta * df_trading[asset1]\n",
    "    df_trading['zscore'] = zscore(df_trading['spread'])\n",
    "\n",
    "    UL = df_trading['zscore'].mean() + df_trading['zscore'].std()\n",
    "    LL = df_trading['zscore'].mean() - df_trading['zscore'].std()\n",
    "\n",
    "    holding_position = False  # Flag to indicate if we are holding a position\n",
    "    df_trading['asset1_signal'] = 0\n",
    "    df_trading['asset2_signal'] = 0\n",
    "\n",
    "    for i in range(1, len(df_trading)):\n",
    "        if not holding_position:\n",
    "            if df_trading['zscore'].iloc[i] > UL:\n",
    "                df_trading['asset1_signal'].iloc[i] = -beta\n",
    "                df_trading['asset2_signal'].iloc[i] = 1\n",
    "                holding_position = True  # Now holding a position\n",
    "\n",
    "            elif df_trading['zscore'].iloc[i] < LL:\n",
    "                df_trading['asset1_signal'].iloc[i] = beta\n",
    "                df_trading['asset2_signal'].iloc[i] = -1\n",
    "                holding_position = True  # Now holding a position\n",
    "\n",
    "        elif holding_position:\n",
    "            if LL <= df_trading['zscore'].iloc[i] <= UL:\n",
    "                # Closing the trade\n",
    "                df_trading['asset1_signal'].iloc[i] = -df_trading['asset1_signal'].iloc[i-1]  # Reverse the last trade\n",
    "                df_trading['asset2_signal'].iloc[i] = -df_trading['asset2_signal'].iloc[i-1]\n",
    "                holding_position = False  # No longer holding a position\n",
    "\n",
    "        # Daily returns\n",
    "    df_trading['asset1_signal'] = df_trading['asset1_signal'].shift(1)\n",
    "    df_trading['asset2_signal'] = df_trading['asset2_signal'].shift(1)\n",
    "\n",
    "    df_trading['asset1_returns'] = df_trading[asset1].pct_change() * df_trading['asset1_signal']\n",
    "    df_trading['asset2_returns'] = df_trading[asset2].pct_change() * df_trading['asset2_signal']\n",
    "\n",
    "    df_trading['portfolio_returns'] = df_trading['asset1_returns'] + df_trading['asset2_returns']\n",
    "\n",
    "    # Quantitative metrics\n",
    "    stats = perf_stats(df_trading['portfolio_returns'].dropna())\n",
    "    metrics['CAGR'] = stats['Annual return']\n",
    "    metrics['Sharpe ratio'] = stats['Sharpe ratio']\n",
    "    metrics['Max Drawdown'] = stats['Max drawdown']\n",
    "    metrics['Number of Trades'] = df_trading['asset1_signal'].ne(0).sum()  # Counting non-zero entries\n",
    "\n",
    "    return metrics, df_trading"
   ],
   "metadata": {
    "collapsed": false,
    "ExecuteTime": {
     "end_time": "2023-10-31T14:41:55.391939Z",
     "start_time": "2023-10-31T14:41:55.328951Z"
    }
   },
   "id": "e293f920c89f44da"
  },
  {
   "cell_type": "code",
   "execution_count": 4,
   "outputs": [],
   "source": [
    "# Function to save the trading signals graph\n",
    "def save_plotly_graph(df, asset1, asset2):\n",
    "    # Create directory if it doesn't exist\n",
    "    if not os.path.exists('img/signals'):\n",
    "        os.makedirs('img/signals')\n",
    "\n",
    "    # Create the figure\n",
    "    fig = go.Figure()\n",
    "\n",
    "    # Add z-score trace\n",
    "    fig.add_trace(go.Scatter(x=df.index, y=df['zscore'], mode='lines', name='Z-Score'))\n",
    "\n",
    "    # Add upper and lower limits as dashed lines\n",
    "    UL = df['zscore'].mean() + df['zscore'].std()\n",
    "    LL = df['zscore'].mean() - df['zscore'].std()\n",
    "\n",
    "    fig.add_trace(go.Scatter(x=df.index, y=[UL]*len(df.index), mode='lines', name='Upper Limit', line=dict(dash='dash')))\n",
    "    fig.add_trace(go.Scatter(x=df.index, y=[LL]*len(df.index), mode='lines', name='Lower Limit', line=dict(dash='dash')))\n",
    "\n",
    "    # Add buy and sell signals\n",
    "    fig.add_trace(go.Scatter(x=df.index, y=df['zscore'].where(df['asset1_signal'] > 0),\n",
    "                             mode='markers', name='Buy Signal', marker=dict(color='green', symbol='triangle-up')))\n",
    "\n",
    "    fig.add_trace(go.Scatter(x=df.index, y=df['zscore'].where(df['asset1_signal'] < 0),\n",
    "                             mode='markers', name='Sell Signal', marker=dict(color='red', symbol='triangle-down')))\n",
    "\n",
    "    # Layout options\n",
    "    fig.update_layout(title=f'Trading Signals for {asset1} and {asset2}',\n",
    "                      xaxis_title='Date',\n",
    "                      yaxis_title='Z-Score')\n",
    "\n",
    "    # Save the figure\n",
    "    fig.write_html(f'img/signals/{asset1}_{asset2}.html')"
   ],
   "metadata": {
    "collapsed": false,
    "ExecuteTime": {
     "end_time": "2023-10-31T14:41:55.392280Z",
     "start_time": "2023-10-31T14:41:55.338263Z"
    }
   },
   "id": "49216fa2602cb2ec"
  },
  {
   "cell_type": "code",
   "execution_count": 5,
   "outputs": [],
   "source": [
    "# Main function\n",
    "def main(csv_path: str):\n",
    "    # Read the CSV file\n",
    "    asset_pairs = pd.read_csv(csv_path)\n",
    "\n",
    "    # Initialize metrics DataFrame\n",
    "    metrics_df = pd.DataFrame(columns=['Pair Name', 'CAGR', 'Sharpe Ratio', 'Number of Trades', 'Max Drawdown'])\n",
    "\n",
    "    # Date range for backtesting (Last 6 months)\n",
    "    end = datetime.now().date()\n",
    "    start = (datetime.now() - relativedelta(months=6)).date()\n",
    "\n",
    "    for index, row in asset_pairs.iterrows():\n",
    "        print(\"Running Backtest for Asset Pair\")\n",
    "        asset1 = row['Asset1']\n",
    "        asset2 = row['Asset2']\n",
    "        beta = row['Beta']\n",
    "        print(\"Downloading Data\")\n",
    "        # Download data\n",
    "        asset1_data = yf.download(asset1, start=start, end=end, progress=False)['Adj Close']\n",
    "        asset2_data = yf.download(asset2, start=start, end=end, progress=False)['Adj Close']\n",
    "\n",
    "        # DataFrame for backtesting\n",
    "        df_trading = pd.DataFrame({asset1: asset1_data, asset2: asset2_data})\n",
    "        print(\"Running Backtest metrics\")\n",
    "        # Backtest and get metrics and signals\n",
    "        metrics, signals_df = backtest(df_trading, asset1, asset2, beta)\n",
    "\n",
    "        new_row = pd.DataFrame({\n",
    "            'Pair Name': [f'{asset1}_{asset2}'],\n",
    "            'CAGR': [metrics['CAGR']],\n",
    "            'Sharpe Ratio': [metrics['Sharpe ratio']],\n",
    "            'Number of Trades': [metrics['Number of Trades']],\n",
    "            'Max Drawdown': [metrics['Max Drawdown']]\n",
    "        })\n",
    "\n",
    "        metrics_df = pd.concat([metrics_df, new_row], ignore_index=True)\n",
    "\n",
    "\n",
    "        # Save the Plotly graph\n",
    "        save_plotly_graph(signals_df, asset1, asset2)\n",
    "\n",
    "    # Save the metrics DataFrame\n",
    "    metrics_df.to_csv('data/backtest.csv', index = False)"
   ],
   "metadata": {
    "collapsed": false,
    "ExecuteTime": {
     "end_time": "2023-10-31T14:41:55.392585Z",
     "start_time": "2023-10-31T14:41:55.351140Z"
    }
   },
   "id": "e6389de5d9edba68"
  },
  {
   "cell_type": "code",
   "execution_count": 6,
   "outputs": [
    {
     "name": "stdout",
     "output_type": "stream",
     "text": [
      "Running Backtest for Asset Pair\n",
      "Downloading Data\n",
      "Running Backtest metrics\n",
      "Running Backtest for Asset Pair\n",
      "Downloading Data\n",
      "Running Backtest metrics\n",
      "Running Backtest for Asset Pair\n",
      "Downloading Data\n",
      "Running Backtest metrics\n",
      "Running Backtest for Asset Pair\n",
      "Downloading Data\n",
      "Running Backtest metrics\n",
      "Running Backtest for Asset Pair\n",
      "Downloading Data\n",
      "Running Backtest metrics\n",
      "Running Backtest for Asset Pair\n",
      "Downloading Data\n",
      "Running Backtest metrics\n",
      "Running Backtest for Asset Pair\n",
      "Downloading Data\n",
      "Running Backtest metrics\n",
      "Running Backtest for Asset Pair\n",
      "Downloading Data\n",
      "Running Backtest metrics\n",
      "Running Backtest for Asset Pair\n",
      "Downloading Data\n",
      "Running Backtest metrics\n",
      "Running Backtest for Asset Pair\n",
      "Downloading Data\n",
      "Running Backtest metrics\n",
      "Running Backtest for Asset Pair\n",
      "Downloading Data\n",
      "Running Backtest metrics\n",
      "Running Backtest for Asset Pair\n",
      "Downloading Data\n",
      "Running Backtest metrics\n",
      "Running Backtest for Asset Pair\n",
      "Downloading Data\n",
      "Running Backtest metrics\n"
     ]
    }
   ],
   "source": [
    "main(\"/Users/gabe/Desktop/FIM 500/Pairs Trading/Live_Pairs_Trading/research/manufacturing/data/final_pairs.csv\")"
   ],
   "metadata": {
    "collapsed": false,
    "ExecuteTime": {
     "end_time": "2023-10-31T14:42:02.642335Z",
     "start_time": "2023-10-31T14:41:55.358336Z"
    }
   },
   "id": "6df517a462b9dbfe"
  },
  {
   "cell_type": "code",
   "execution_count": 7,
   "outputs": [],
   "source": [
    "backtest_df = pd.read_csv(\"data/backtest.csv\")"
   ],
   "metadata": {
    "collapsed": false,
    "ExecuteTime": {
     "end_time": "2023-10-31T14:43:29.494253Z",
     "start_time": "2023-10-31T14:43:29.484134Z"
    }
   },
   "id": "fa889587352975ec"
  },
  {
   "cell_type": "code",
   "execution_count": 8,
   "outputs": [
    {
     "data": {
      "text/plain": "   Pair Name      CAGR  Sharpe Ratio  Number of Trades  Max Drawdown\n0     CSX_CP -0.002166      0.009283                14     -0.035479\n1     EMR_DE  0.383708      2.347223                15     -0.038874\n2    FAST_CP -0.053387     -1.587192                 6     -0.034318\n3     FDX_CP  0.034424      0.821413                 8     -0.021590\n4   FDX_FAST  0.048542      1.359948                 8     -0.014827\n5     MAS_CP -0.060352     -1.645778                 8     -0.034316\n6    NSC_LUV -0.079429     -1.043302                11     -0.070280\n7    OTIS_CP  0.002632      0.141068                 7     -0.009017\n8    RTX_LMT -0.136589     -1.560015                12     -0.070801\n9     TXT_DE  0.063396      0.618392                 8     -0.061907\n10  UNP_PAYX -0.152093     -1.703788                25     -0.079182\n11   VRT_MAS  0.099514      1.900799                 8     -0.008306\n12   XYL_JCI  0.131070      1.922470                12     -0.008876",
      "text/html": "<div>\n<style scoped>\n    .dataframe tbody tr th:only-of-type {\n        vertical-align: middle;\n    }\n\n    .dataframe tbody tr th {\n        vertical-align: top;\n    }\n\n    .dataframe thead th {\n        text-align: right;\n    }\n</style>\n<table border=\"1\" class=\"dataframe\">\n  <thead>\n    <tr style=\"text-align: right;\">\n      <th></th>\n      <th>Pair Name</th>\n      <th>CAGR</th>\n      <th>Sharpe Ratio</th>\n      <th>Number of Trades</th>\n      <th>Max Drawdown</th>\n    </tr>\n  </thead>\n  <tbody>\n    <tr>\n      <th>0</th>\n      <td>CSX_CP</td>\n      <td>-0.002166</td>\n      <td>0.009283</td>\n      <td>14</td>\n      <td>-0.035479</td>\n    </tr>\n    <tr>\n      <th>1</th>\n      <td>EMR_DE</td>\n      <td>0.383708</td>\n      <td>2.347223</td>\n      <td>15</td>\n      <td>-0.038874</td>\n    </tr>\n    <tr>\n      <th>2</th>\n      <td>FAST_CP</td>\n      <td>-0.053387</td>\n      <td>-1.587192</td>\n      <td>6</td>\n      <td>-0.034318</td>\n    </tr>\n    <tr>\n      <th>3</th>\n      <td>FDX_CP</td>\n      <td>0.034424</td>\n      <td>0.821413</td>\n      <td>8</td>\n      <td>-0.021590</td>\n    </tr>\n    <tr>\n      <th>4</th>\n      <td>FDX_FAST</td>\n      <td>0.048542</td>\n      <td>1.359948</td>\n      <td>8</td>\n      <td>-0.014827</td>\n    </tr>\n    <tr>\n      <th>5</th>\n      <td>MAS_CP</td>\n      <td>-0.060352</td>\n      <td>-1.645778</td>\n      <td>8</td>\n      <td>-0.034316</td>\n    </tr>\n    <tr>\n      <th>6</th>\n      <td>NSC_LUV</td>\n      <td>-0.079429</td>\n      <td>-1.043302</td>\n      <td>11</td>\n      <td>-0.070280</td>\n    </tr>\n    <tr>\n      <th>7</th>\n      <td>OTIS_CP</td>\n      <td>0.002632</td>\n      <td>0.141068</td>\n      <td>7</td>\n      <td>-0.009017</td>\n    </tr>\n    <tr>\n      <th>8</th>\n      <td>RTX_LMT</td>\n      <td>-0.136589</td>\n      <td>-1.560015</td>\n      <td>12</td>\n      <td>-0.070801</td>\n    </tr>\n    <tr>\n      <th>9</th>\n      <td>TXT_DE</td>\n      <td>0.063396</td>\n      <td>0.618392</td>\n      <td>8</td>\n      <td>-0.061907</td>\n    </tr>\n    <tr>\n      <th>10</th>\n      <td>UNP_PAYX</td>\n      <td>-0.152093</td>\n      <td>-1.703788</td>\n      <td>25</td>\n      <td>-0.079182</td>\n    </tr>\n    <tr>\n      <th>11</th>\n      <td>VRT_MAS</td>\n      <td>0.099514</td>\n      <td>1.900799</td>\n      <td>8</td>\n      <td>-0.008306</td>\n    </tr>\n    <tr>\n      <th>12</th>\n      <td>XYL_JCI</td>\n      <td>0.131070</td>\n      <td>1.922470</td>\n      <td>12</td>\n      <td>-0.008876</td>\n    </tr>\n  </tbody>\n</table>\n</div>"
     },
     "execution_count": 8,
     "metadata": {},
     "output_type": "execute_result"
    }
   ],
   "source": [
    "backtest_df"
   ],
   "metadata": {
    "collapsed": false,
    "ExecuteTime": {
     "end_time": "2023-10-31T14:43:34.309420Z",
     "start_time": "2023-10-31T14:43:34.290778Z"
    }
   },
   "id": "80df460b1bb17f21"
  },
  {
   "cell_type": "code",
   "execution_count": null,
   "outputs": [],
   "source": [],
   "metadata": {
    "collapsed": false
   },
   "id": "a7afaa7d75064748"
  }
 ],
 "metadata": {
  "kernelspec": {
   "display_name": "Python 3",
   "language": "python",
   "name": "python3"
  },
  "language_info": {
   "codemirror_mode": {
    "name": "ipython",
    "version": 2
   },
   "file_extension": ".py",
   "mimetype": "text/x-python",
   "name": "python",
   "nbconvert_exporter": "python",
   "pygments_lexer": "ipython2",
   "version": "2.7.6"
  }
 },
 "nbformat": 4,
 "nbformat_minor": 5
}
