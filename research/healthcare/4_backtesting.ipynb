{
 "cells": [
  {
   "cell_type": "markdown",
   "source": [
    "# Backtesting the Strategy"
   ],
   "metadata": {
    "collapsed": false
   },
   "id": "a45c12960be962fa"
  },
  {
   "cell_type": "code",
   "execution_count": 74,
   "outputs": [],
   "source": [
    "# Importing additional necessary libraries for quant metrics and plotting\n",
    "from pyfolio.timeseries import perf_stats\n",
    "import plotly.graph_objs as go\n",
    "import os\n",
    "import pandas as pd\n",
    "import numpy as np\n",
    "from datetime import datetime\n",
    "from dateutil.relativedelta import relativedelta\n",
    "from scipy.stats import zscore\n",
    "import yfinance as yf\n",
    "import warnings\n",
    "\n",
    "# Ignore all warnings\n",
    "warnings.filterwarnings(\"ignore\")\n"
   ],
   "metadata": {
    "collapsed": false,
    "ExecuteTime": {
     "end_time": "2023-10-31T18:33:32.294132Z",
     "start_time": "2023-10-31T18:33:32.074736Z"
    }
   },
   "id": "90ca615780843a9a"
  },
  {
   "cell_type": "code",
   "execution_count": 75,
   "outputs": [],
   "source": [
    "def backtest(df_trading, asset1 : str, asset2 : str, beta: float):\n",
    "    metrics = {}\n",
    "\n",
    "    df_trading['spread'] = df_trading[asset2] - beta * df_trading[asset1]\n",
    "    df_trading['zscore'] = zscore(df_trading['spread'])\n",
    "\n",
    "    UL = df_trading['zscore'].mean() + df_trading['zscore'].std()\n",
    "    LL = df_trading['zscore'].mean() - df_trading['zscore'].std()\n",
    "\n",
    "    holding_position = False  # Flag to indicate if we are holding a position\n",
    "    df_trading['asset1_signal'] = 0\n",
    "    df_trading['asset2_signal'] = 0\n",
    "\n",
    "    for i in range(1, len(df_trading)):\n",
    "        if not holding_position:\n",
    "            if df_trading['zscore'].iloc[i] > UL:\n",
    "                df_trading['asset1_signal'].iloc[i] = -beta\n",
    "                df_trading['asset2_signal'].iloc[i] = 1\n",
    "                holding_position = True  # Now holding a position\n",
    "\n",
    "            elif df_trading['zscore'].iloc[i] < LL:\n",
    "                df_trading['asset1_signal'].iloc[i] = beta\n",
    "                df_trading['asset2_signal'].iloc[i] = -1\n",
    "                holding_position = True  # Now holding a position\n",
    "\n",
    "        elif holding_position:\n",
    "            if LL <= df_trading['zscore'].iloc[i] <= UL:\n",
    "                # Closing the trade\n",
    "                df_trading['asset1_signal'].iloc[i] = -df_trading['asset1_signal'].iloc[i-1]  # Reverse the last trade\n",
    "                df_trading['asset2_signal'].iloc[i] = -df_trading['asset2_signal'].iloc[i-1]\n",
    "                holding_position = False  # No longer holding a position\n",
    "\n",
    "        # Daily returns\n",
    "    df_trading['asset1_signal'] = df_trading['asset1_signal'].shift(1)\n",
    "    df_trading['asset2_signal'] = df_trading['asset2_signal'].shift(1)\n",
    "\n",
    "    df_trading['asset1_returns'] = df_trading[asset1].pct_change() * df_trading['asset1_signal']\n",
    "    df_trading['asset2_returns'] = df_trading[asset2].pct_change() * df_trading['asset2_signal']\n",
    "\n",
    "    df_trading['portfolio_returns'] = df_trading['asset1_returns'] + df_trading['asset2_returns']\n",
    "\n",
    "    # Quantitative metrics\n",
    "    stats = perf_stats(df_trading['portfolio_returns'].dropna())\n",
    "    metrics['CAGR'] = stats['Annual return']\n",
    "    metrics['Sharpe ratio'] = stats['Sharpe ratio']\n",
    "    metrics['Max Drawdown'] = stats['Max drawdown']\n",
    "    metrics['Number of Trades'] = df_trading['asset1_signal'].ne(0).sum()  # Counting non-zero entries\n",
    "\n",
    "    return metrics, df_trading"
   ],
   "metadata": {
    "collapsed": false,
    "ExecuteTime": {
     "end_time": "2023-10-31T18:33:32.302056Z",
     "start_time": "2023-10-31T18:33:32.077670Z"
    }
   },
   "id": "8a67f69e7a90d7bb"
  },
  {
   "cell_type": "code",
   "execution_count": 76,
   "outputs": [],
   "source": [
    "# Function to save the trading signals graph\n",
    "def save_plotly_graph(df, asset1, asset2):\n",
    "    # Create directory if it doesn't exist\n",
    "    if not os.path.exists('img/signals'):\n",
    "        os.makedirs('img/signals')\n",
    "\n",
    "    # Create the figure\n",
    "    fig = go.Figure()\n",
    "\n",
    "    # Add z-score trace\n",
    "    fig.add_trace(go.Scatter(x=df.index, y=df['zscore'], mode='lines', name='Z-Score'))\n",
    "\n",
    "    # Add upper and lower limits as dashed lines\n",
    "    UL = df['zscore'].mean() + df['zscore'].std()\n",
    "    LL = df['zscore'].mean() - df['zscore'].std()\n",
    "\n",
    "    fig.add_trace(go.Scatter(x=df.index, y=[UL]*len(df.index), mode='lines', name='Upper Limit', line=dict(dash='dash')))\n",
    "    fig.add_trace(go.Scatter(x=df.index, y=[LL]*len(df.index), mode='lines', name='Lower Limit', line=dict(dash='dash')))\n",
    "\n",
    "    # Add buy and sell signals\n",
    "    fig.add_trace(go.Scatter(x=df.index, y=df['zscore'].where(df['asset1_signal'] > 0),\n",
    "                             mode='markers', name='Buy Signal', marker=dict(color='green', symbol='triangle-up')))\n",
    "\n",
    "    fig.add_trace(go.Scatter(x=df.index, y=df['zscore'].where(df['asset1_signal'] < 0),\n",
    "                             mode='markers', name='Sell Signal', marker=dict(color='red', symbol='triangle-down')))\n",
    "\n",
    "    # Layout options\n",
    "    fig.update_layout(title=f'Trading Signals for {asset1} and {asset2}',\n",
    "                      xaxis_title='Date',\n",
    "                      yaxis_title='Z-Score')\n",
    "\n",
    "    # Save the figure\n",
    "    fig.write_html(f'img/signals/{asset1}_{asset2}.html')\n",
    "\n",
    "    "
   ],
   "metadata": {
    "collapsed": false,
    "ExecuteTime": {
     "end_time": "2023-10-31T18:33:32.302484Z",
     "start_time": "2023-10-31T18:33:32.086461Z"
    }
   },
   "id": "721c3658276b1d78"
  },
  {
   "cell_type": "code",
   "execution_count": 77,
   "outputs": [],
   "source": [
    "# Main function\n",
    "def main(csv_path: str):\n",
    "    # Read the CSV file\n",
    "    asset_pairs = pd.read_csv(csv_path)\n",
    "    \n",
    "    # Initialize metrics DataFrame\n",
    "    metrics_df = pd.DataFrame(columns=['Pair Name', 'CAGR', 'Sharpe Ratio', 'Number of Trades', 'Max Drawdown'])\n",
    "\n",
    "    # Date range for backtesting (Last 6 months)\n",
    "    end = datetime.now().date()\n",
    "    start = (datetime.now() - relativedelta(months=6)).date()\n",
    "\n",
    "    for index, row in asset_pairs.iterrows():\n",
    "        asset1 = row['Asset1']\n",
    "        asset2 = row['Asset2']\n",
    "        beta = row['Beta']\n",
    "        print(\"Running Backtest for Asset Pair {asset2} - {beta} * {asset1}\".format(asset1=asset1,asset2=asset2,beta=beta))\n",
    "        print(\"Downloading Data\")\n",
    "        # Download data\n",
    "        asset1_data = yf.download(asset1, start=start, end=end, progress=False)['Adj Close']\n",
    "        asset2_data = yf.download(asset2, start=start, end=end, progress=False)['Adj Close']\n",
    "\n",
    "        # DataFrame for backtesting\n",
    "        df_trading = pd.DataFrame({asset1: asset1_data, asset2: asset2_data})\n",
    "        print(\"Running Backtest metrics\")\n",
    "        # Backtest and get metrics and signals\n",
    "        metrics, signals_df = backtest(df_trading, asset1, asset2, beta)\n",
    "\n",
    "        new_row = pd.DataFrame({\n",
    "        'Pair Name': [f'{asset1}_{asset2}'],\n",
    "        'CAGR': [metrics['CAGR']],\n",
    "        'Sharpe Ratio': [metrics['Sharpe ratio']],\n",
    "        'Number of Trades': [metrics['Number of Trades']],\n",
    "        'Max Drawdown': [metrics['Max Drawdown']]\n",
    "        })\n",
    "\n",
    "        metrics_df = pd.concat([metrics_df, new_row], ignore_index=True)\n",
    "\n",
    "\n",
    "        # Save the Plotly graph\n",
    "        save_plotly_graph(signals_df, asset1, asset2)\n",
    "\n",
    "    # Save the metrics DataFrame\n",
    "    metrics_df.to_csv('data/backtest.csv', index=False)"
   ],
   "metadata": {
    "collapsed": false,
    "ExecuteTime": {
     "end_time": "2023-10-31T18:33:32.303091Z",
     "start_time": "2023-10-31T18:33:32.091596Z"
    }
   },
   "id": "f048f499476b7caf"
  },
  {
   "cell_type": "code",
   "execution_count": 78,
   "outputs": [
    {
     "name": "stdout",
     "output_type": "stream",
     "text": [
      "Running Backtest for Asset Pair CAH - 0.5084909890953054 * COR\n",
      "Downloading Data\n",
      "Running Backtest metrics\n",
      "Running Backtest for Asset Pair BSX - -0.3258377429197281 * CVS\n",
      "Downloading Data\n",
      "Running Backtest metrics\n",
      "Running Backtest for Asset Pair CNC - 0.6287906927485161 * CVS\n",
      "Downloading Data\n",
      "Running Backtest metrics\n",
      "Running Backtest for Asset Pair BIIB - -1.0250640824360562 * DHR\n",
      "Downloading Data\n",
      "Running Backtest metrics\n",
      "Running Backtest for Asset Pair DHR - -0.5908277961593145 * DXCM\n",
      "Downloading Data\n",
      "Running Backtest metrics\n",
      "Running Backtest for Asset Pair AMGN - 0.552141142200434 * ELV\n",
      "Downloading Data\n",
      "Running Backtest metrics\n",
      "Running Backtest for Asset Pair BSX - 0.1494420459553779 * HCA\n",
      "Downloading Data\n",
      "Running Backtest metrics\n",
      "Running Backtest for Asset Pair DHR - -0.2511815428804966 * HCA\n",
      "Downloading Data\n",
      "Running Backtest metrics\n",
      "Running Backtest for Asset Pair GSK - 1.7630776257727432 * HLN\n",
      "Downloading Data\n",
      "Running Backtest metrics\n",
      "Running Backtest for Asset Pair HCA - 27.933099291546444 * HLN\n",
      "Downloading Data\n",
      "Running Backtest metrics\n",
      "Running Backtest for Asset Pair GSK - 0.0893907518723032 * HZNP\n",
      "Downloading Data\n",
      "Running Backtest metrics\n",
      "Running Backtest for Asset Pair HUM - 0.8965225691701093 * ILMN\n",
      "Downloading Data\n",
      "Running Backtest metrics\n",
      "Running Backtest for Asset Pair CAH - 0.1700564626006889 * ISRG\n",
      "Downloading Data\n",
      "Running Backtest metrics\n",
      "Running Backtest for Asset Pair COR - 0.3286844348582047 * ISRG\n",
      "Downloading Data\n",
      "Running Backtest metrics\n",
      "Running Backtest for Asset Pair ILMN - -0.1302832352524211 * ISRG\n",
      "Downloading Data\n",
      "Running Backtest metrics\n",
      "Running Backtest for Asset Pair ILMN - -0.1575098161452914 * LLY\n",
      "Downloading Data\n",
      "Running Backtest metrics\n",
      "Running Backtest for Asset Pair EW - 1.1965837771111345 * MDT\n",
      "Downloading Data\n",
      "Running Backtest metrics\n",
      "Running Backtest for Asset Pair GSK - 0.1990032923990203 * MRK\n",
      "Downloading Data\n",
      "Running Backtest metrics\n",
      "Running Backtest for Asset Pair A - 0.4218334969267059 * MRNA\n",
      "Downloading Data\n",
      "Running Backtest metrics\n",
      "Running Backtest for Asset Pair ELV - 0.575346440010259 * MRNA\n",
      "Downloading Data\n",
      "Running Backtest metrics\n",
      "Running Backtest for Asset Pair ILMN - 0.3131868053885449 * MRNA\n",
      "Downloading Data\n",
      "Running Backtest metrics\n",
      "Running Backtest for Asset Pair BSX - 0.3380358830073299 * NVO\n",
      "Downloading Data\n",
      "Running Backtest metrics\n",
      "Running Backtest for Asset Pair DHR - -0.5643111933766676 * NVO\n",
      "Downloading Data\n",
      "Running Backtest metrics\n",
      "Running Backtest for Asset Pair ILMN - -0.4894402709687933 * NVO\n",
      "Downloading Data\n",
      "Running Backtest metrics\n",
      "Running Backtest for Asset Pair BSX - 0.4524594697343921 * NVS\n",
      "Downloading Data\n",
      "Running Backtest metrics\n",
      "Running Backtest for Asset Pair ILMN - -0.7127849274105283 * NVS\n",
      "Downloading Data\n",
      "Running Backtest metrics\n",
      "Running Backtest for Asset Pair ELV - 4.027491338445827 * PFE\n",
      "Downloading Data\n",
      "Running Backtest metrics\n",
      "Running Backtest for Asset Pair ILMN - 1.4529902733157185 * PFE\n",
      "Downloading Data\n",
      "Running Backtest metrics\n",
      "Running Backtest for Asset Pair ILMN - 0.6577344985261658 * RMD\n",
      "Downloading Data\n",
      "Running Backtest metrics\n",
      "Running Backtest for Asset Pair ELV - -0.5650324431509143 * SGEN\n",
      "Downloading Data\n",
      "Running Backtest metrics\n",
      "Running Backtest for Asset Pair BSX - 0.8131335619833641 * SNY\n",
      "Downloading Data\n",
      "Running Backtest metrics\n",
      "Running Backtest for Asset Pair HCA - 5.202592710020144 * SNY\n",
      "Downloading Data\n",
      "Running Backtest metrics\n",
      "Running Backtest for Asset Pair HLN - 0.1742194382425213 * SNY\n",
      "Downloading Data\n",
      "Running Backtest metrics\n",
      "Running Backtest for Asset Pair BSX - 0.1429233138433669 * SYK\n",
      "Downloading Data\n",
      "Running Backtest metrics\n",
      "Running Backtest for Asset Pair CVS - -0.3492325503455152 * SYK\n",
      "Downloading Data\n",
      "Running Backtest metrics\n",
      "Running Backtest for Asset Pair DHR - -0.2465935239792451 * SYK\n",
      "Downloading Data\n",
      "Running Backtest metrics\n",
      "Running Backtest for Asset Pair GSK - 0.0491976737438005 * SYK\n",
      "Downloading Data\n",
      "Running Backtest metrics\n",
      "Running Backtest for Asset Pair HCA - 0.9245049902444614 * SYK\n",
      "Downloading Data\n",
      "Running Backtest metrics\n",
      "Running Backtest for Asset Pair HLN - 0.0294226689105976 * SYK\n",
      "Downloading Data\n",
      "Running Backtest metrics\n",
      "Running Backtest for Asset Pair RHHBY - -0.0348029522628634 * SYK\n",
      "Downloading Data\n",
      "Running Backtest metrics\n",
      "Running Backtest for Asset Pair SNY - 0.1603777619783421 * SYK\n",
      "Downloading Data\n",
      "Running Backtest metrics\n",
      "Running Backtest for Asset Pair GSK - 1.348308292513065 * TAK\n",
      "Downloading Data\n",
      "Running Backtest metrics\n",
      "Running Backtest for Asset Pair ELV - -1.0525742061035075 * ZTS\n",
      "Downloading Data\n",
      "Running Backtest metrics\n",
      "Running Backtest for Asset Pair ILMN - -0.485580819384232 * ZTS\n",
      "Downloading Data\n",
      "Running Backtest metrics\n"
     ]
    }
   ],
   "source": [
    "main(\"data/final_pairs.csv\")"
   ],
   "metadata": {
    "collapsed": false,
    "ExecuteTime": {
     "end_time": "2023-10-31T18:33:52.259297Z",
     "start_time": "2023-10-31T18:33:32.098972Z"
    }
   },
   "id": "4da39da330d923a5"
  },
  {
   "cell_type": "code",
   "execution_count": 79,
   "outputs": [],
   "source": [
    "backtest_df = pd.read_csv(\"data/backtest.csv\")"
   ],
   "metadata": {
    "collapsed": false,
    "ExecuteTime": {
     "end_time": "2023-10-31T18:33:52.263944Z",
     "start_time": "2023-10-31T18:33:52.075423Z"
    }
   },
   "id": "28565e47ef411566"
  },
  {
   "cell_type": "code",
   "execution_count": 80,
   "outputs": [
    {
     "data": {
      "text/plain": "    Pair Name      CAGR  Sharpe Ratio  Number of Trades  Max Drawdown\n0     COR_CAH -0.004317     -0.071588                21     -0.033178\n1     CVS_BSX -0.014810     -0.069277                18     -0.060694\n2     CVS_CNC -0.126068     -2.090277                16     -0.084898\n3    DHR_BIIB  0.062167      0.932127                10     -0.023677\n4    DXCM_DHR  0.033573      0.362039                 8     -0.050084\n5    ELV_AMGN -0.074249     -3.100509                11     -0.041641\n6     HCA_BSX -0.077956     -1.191575                15     -0.039769\n7     HCA_DHR -0.084176     -1.685206                17     -0.055241\n8     HLN_GSK -0.018792     -0.131563                10     -0.070173\n9     HLN_HCA  0.268340      0.619305                 4     -0.256295\n10   HZNP_GSK  0.000000           NaN                 1      0.000000\n11   ILMN_HUM  0.106564      2.378755                 5      0.000000\n12   ISRG_CAH  0.076379      1.318528                 7     -0.022444\n13   ISRG_COR  0.099384      2.675001                 6      0.000000\n14  ISRG_ILMN -0.133258     -0.987228                 9     -0.101685\n15   LLY_ILMN -0.156674     -1.011795                12     -0.136104\n16     MDT_EW -0.007759     -0.156060                11     -0.040359\n17    MRK_GSK -0.047521     -0.621849                 7     -0.047846\n18     MRNA_A -0.006349     -0.075727                14     -0.027858\n19   MRNA_ELV -0.233831     -1.901482                23     -0.186681\n20  MRNA_ILMN -0.138552     -1.174729                 9     -0.089499\n21    NVO_BSX  0.061963      0.803792                 8     -0.028809\n22    NVO_DHR -0.129379     -1.476692                13     -0.114855\n23   NVO_ILMN -0.039803     -0.483195                 8     -0.063781\n24    NVS_BSX -0.089602     -0.789029                16     -0.080736\n25   NVS_ILMN -0.021859     -0.308870                 8     -0.050575\n26    PFE_ELV -0.467202     -2.058417                19     -0.270070\n27   PFE_ILMN  0.049686      0.974617                 6     -0.020084\n28   RMD_ILMN -0.439520     -3.220711                21     -0.277530\n29   SGEN_ELV -0.226244     -2.208657                22     -0.138877\n30    SNY_BSX -0.016114     -0.093761                19     -0.076503\n31    SNY_HCA -0.084645     -1.455300                 4     -0.043258\n32    SNY_HLN -0.302506     -3.335197                22     -0.191499\n33    SYK_BSX -0.050025     -1.099866                22     -0.039522\n34    SYK_CVS -0.092318     -1.006463                21     -0.072226\n35    SYK_DHR  0.000578      0.038160                17     -0.030007\n36    SYK_GSK -0.149853     -1.789809                14     -0.107609\n37    SYK_HCA -0.006181     -0.093577                11     -0.022567\n38    SYK_HLN  0.033171      0.497935                15     -0.036746\n39  SYK_RHHBY -0.096780     -1.653371                17     -0.062394\n40    SYK_SNY -0.100010     -1.716978                13     -0.059385\n41    TAK_GSK -0.019496     -0.065071                14     -0.101472\n42    ZTS_ELV -0.151327     -0.870941                18     -0.124070\n43   ZTS_ILMN -0.140569     -0.798230                12     -0.116470",
      "text/html": "<div>\n<style scoped>\n    .dataframe tbody tr th:only-of-type {\n        vertical-align: middle;\n    }\n\n    .dataframe tbody tr th {\n        vertical-align: top;\n    }\n\n    .dataframe thead th {\n        text-align: right;\n    }\n</style>\n<table border=\"1\" class=\"dataframe\">\n  <thead>\n    <tr style=\"text-align: right;\">\n      <th></th>\n      <th>Pair Name</th>\n      <th>CAGR</th>\n      <th>Sharpe Ratio</th>\n      <th>Number of Trades</th>\n      <th>Max Drawdown</th>\n    </tr>\n  </thead>\n  <tbody>\n    <tr>\n      <th>0</th>\n      <td>COR_CAH</td>\n      <td>-0.004317</td>\n      <td>-0.071588</td>\n      <td>21</td>\n      <td>-0.033178</td>\n    </tr>\n    <tr>\n      <th>1</th>\n      <td>CVS_BSX</td>\n      <td>-0.014810</td>\n      <td>-0.069277</td>\n      <td>18</td>\n      <td>-0.060694</td>\n    </tr>\n    <tr>\n      <th>2</th>\n      <td>CVS_CNC</td>\n      <td>-0.126068</td>\n      <td>-2.090277</td>\n      <td>16</td>\n      <td>-0.084898</td>\n    </tr>\n    <tr>\n      <th>3</th>\n      <td>DHR_BIIB</td>\n      <td>0.062167</td>\n      <td>0.932127</td>\n      <td>10</td>\n      <td>-0.023677</td>\n    </tr>\n    <tr>\n      <th>4</th>\n      <td>DXCM_DHR</td>\n      <td>0.033573</td>\n      <td>0.362039</td>\n      <td>8</td>\n      <td>-0.050084</td>\n    </tr>\n    <tr>\n      <th>5</th>\n      <td>ELV_AMGN</td>\n      <td>-0.074249</td>\n      <td>-3.100509</td>\n      <td>11</td>\n      <td>-0.041641</td>\n    </tr>\n    <tr>\n      <th>6</th>\n      <td>HCA_BSX</td>\n      <td>-0.077956</td>\n      <td>-1.191575</td>\n      <td>15</td>\n      <td>-0.039769</td>\n    </tr>\n    <tr>\n      <th>7</th>\n      <td>HCA_DHR</td>\n      <td>-0.084176</td>\n      <td>-1.685206</td>\n      <td>17</td>\n      <td>-0.055241</td>\n    </tr>\n    <tr>\n      <th>8</th>\n      <td>HLN_GSK</td>\n      <td>-0.018792</td>\n      <td>-0.131563</td>\n      <td>10</td>\n      <td>-0.070173</td>\n    </tr>\n    <tr>\n      <th>9</th>\n      <td>HLN_HCA</td>\n      <td>0.268340</td>\n      <td>0.619305</td>\n      <td>4</td>\n      <td>-0.256295</td>\n    </tr>\n    <tr>\n      <th>10</th>\n      <td>HZNP_GSK</td>\n      <td>0.000000</td>\n      <td>NaN</td>\n      <td>1</td>\n      <td>0.000000</td>\n    </tr>\n    <tr>\n      <th>11</th>\n      <td>ILMN_HUM</td>\n      <td>0.106564</td>\n      <td>2.378755</td>\n      <td>5</td>\n      <td>0.000000</td>\n    </tr>\n    <tr>\n      <th>12</th>\n      <td>ISRG_CAH</td>\n      <td>0.076379</td>\n      <td>1.318528</td>\n      <td>7</td>\n      <td>-0.022444</td>\n    </tr>\n    <tr>\n      <th>13</th>\n      <td>ISRG_COR</td>\n      <td>0.099384</td>\n      <td>2.675001</td>\n      <td>6</td>\n      <td>0.000000</td>\n    </tr>\n    <tr>\n      <th>14</th>\n      <td>ISRG_ILMN</td>\n      <td>-0.133258</td>\n      <td>-0.987228</td>\n      <td>9</td>\n      <td>-0.101685</td>\n    </tr>\n    <tr>\n      <th>15</th>\n      <td>LLY_ILMN</td>\n      <td>-0.156674</td>\n      <td>-1.011795</td>\n      <td>12</td>\n      <td>-0.136104</td>\n    </tr>\n    <tr>\n      <th>16</th>\n      <td>MDT_EW</td>\n      <td>-0.007759</td>\n      <td>-0.156060</td>\n      <td>11</td>\n      <td>-0.040359</td>\n    </tr>\n    <tr>\n      <th>17</th>\n      <td>MRK_GSK</td>\n      <td>-0.047521</td>\n      <td>-0.621849</td>\n      <td>7</td>\n      <td>-0.047846</td>\n    </tr>\n    <tr>\n      <th>18</th>\n      <td>MRNA_A</td>\n      <td>-0.006349</td>\n      <td>-0.075727</td>\n      <td>14</td>\n      <td>-0.027858</td>\n    </tr>\n    <tr>\n      <th>19</th>\n      <td>MRNA_ELV</td>\n      <td>-0.233831</td>\n      <td>-1.901482</td>\n      <td>23</td>\n      <td>-0.186681</td>\n    </tr>\n    <tr>\n      <th>20</th>\n      <td>MRNA_ILMN</td>\n      <td>-0.138552</td>\n      <td>-1.174729</td>\n      <td>9</td>\n      <td>-0.089499</td>\n    </tr>\n    <tr>\n      <th>21</th>\n      <td>NVO_BSX</td>\n      <td>0.061963</td>\n      <td>0.803792</td>\n      <td>8</td>\n      <td>-0.028809</td>\n    </tr>\n    <tr>\n      <th>22</th>\n      <td>NVO_DHR</td>\n      <td>-0.129379</td>\n      <td>-1.476692</td>\n      <td>13</td>\n      <td>-0.114855</td>\n    </tr>\n    <tr>\n      <th>23</th>\n      <td>NVO_ILMN</td>\n      <td>-0.039803</td>\n      <td>-0.483195</td>\n      <td>8</td>\n      <td>-0.063781</td>\n    </tr>\n    <tr>\n      <th>24</th>\n      <td>NVS_BSX</td>\n      <td>-0.089602</td>\n      <td>-0.789029</td>\n      <td>16</td>\n      <td>-0.080736</td>\n    </tr>\n    <tr>\n      <th>25</th>\n      <td>NVS_ILMN</td>\n      <td>-0.021859</td>\n      <td>-0.308870</td>\n      <td>8</td>\n      <td>-0.050575</td>\n    </tr>\n    <tr>\n      <th>26</th>\n      <td>PFE_ELV</td>\n      <td>-0.467202</td>\n      <td>-2.058417</td>\n      <td>19</td>\n      <td>-0.270070</td>\n    </tr>\n    <tr>\n      <th>27</th>\n      <td>PFE_ILMN</td>\n      <td>0.049686</td>\n      <td>0.974617</td>\n      <td>6</td>\n      <td>-0.020084</td>\n    </tr>\n    <tr>\n      <th>28</th>\n      <td>RMD_ILMN</td>\n      <td>-0.439520</td>\n      <td>-3.220711</td>\n      <td>21</td>\n      <td>-0.277530</td>\n    </tr>\n    <tr>\n      <th>29</th>\n      <td>SGEN_ELV</td>\n      <td>-0.226244</td>\n      <td>-2.208657</td>\n      <td>22</td>\n      <td>-0.138877</td>\n    </tr>\n    <tr>\n      <th>30</th>\n      <td>SNY_BSX</td>\n      <td>-0.016114</td>\n      <td>-0.093761</td>\n      <td>19</td>\n      <td>-0.076503</td>\n    </tr>\n    <tr>\n      <th>31</th>\n      <td>SNY_HCA</td>\n      <td>-0.084645</td>\n      <td>-1.455300</td>\n      <td>4</td>\n      <td>-0.043258</td>\n    </tr>\n    <tr>\n      <th>32</th>\n      <td>SNY_HLN</td>\n      <td>-0.302506</td>\n      <td>-3.335197</td>\n      <td>22</td>\n      <td>-0.191499</td>\n    </tr>\n    <tr>\n      <th>33</th>\n      <td>SYK_BSX</td>\n      <td>-0.050025</td>\n      <td>-1.099866</td>\n      <td>22</td>\n      <td>-0.039522</td>\n    </tr>\n    <tr>\n      <th>34</th>\n      <td>SYK_CVS</td>\n      <td>-0.092318</td>\n      <td>-1.006463</td>\n      <td>21</td>\n      <td>-0.072226</td>\n    </tr>\n    <tr>\n      <th>35</th>\n      <td>SYK_DHR</td>\n      <td>0.000578</td>\n      <td>0.038160</td>\n      <td>17</td>\n      <td>-0.030007</td>\n    </tr>\n    <tr>\n      <th>36</th>\n      <td>SYK_GSK</td>\n      <td>-0.149853</td>\n      <td>-1.789809</td>\n      <td>14</td>\n      <td>-0.107609</td>\n    </tr>\n    <tr>\n      <th>37</th>\n      <td>SYK_HCA</td>\n      <td>-0.006181</td>\n      <td>-0.093577</td>\n      <td>11</td>\n      <td>-0.022567</td>\n    </tr>\n    <tr>\n      <th>38</th>\n      <td>SYK_HLN</td>\n      <td>0.033171</td>\n      <td>0.497935</td>\n      <td>15</td>\n      <td>-0.036746</td>\n    </tr>\n    <tr>\n      <th>39</th>\n      <td>SYK_RHHBY</td>\n      <td>-0.096780</td>\n      <td>-1.653371</td>\n      <td>17</td>\n      <td>-0.062394</td>\n    </tr>\n    <tr>\n      <th>40</th>\n      <td>SYK_SNY</td>\n      <td>-0.100010</td>\n      <td>-1.716978</td>\n      <td>13</td>\n      <td>-0.059385</td>\n    </tr>\n    <tr>\n      <th>41</th>\n      <td>TAK_GSK</td>\n      <td>-0.019496</td>\n      <td>-0.065071</td>\n      <td>14</td>\n      <td>-0.101472</td>\n    </tr>\n    <tr>\n      <th>42</th>\n      <td>ZTS_ELV</td>\n      <td>-0.151327</td>\n      <td>-0.870941</td>\n      <td>18</td>\n      <td>-0.124070</td>\n    </tr>\n    <tr>\n      <th>43</th>\n      <td>ZTS_ILMN</td>\n      <td>-0.140569</td>\n      <td>-0.798230</td>\n      <td>12</td>\n      <td>-0.116470</td>\n    </tr>\n  </tbody>\n</table>\n</div>"
     },
     "execution_count": 80,
     "metadata": {},
     "output_type": "execute_result"
    }
   ],
   "source": [
    "backtest_df"
   ],
   "metadata": {
    "collapsed": false,
    "ExecuteTime": {
     "end_time": "2023-10-31T18:33:52.293428Z",
     "start_time": "2023-10-31T18:33:52.082327Z"
    }
   },
   "id": "809e24acdfcaf023"
  },
  {
   "cell_type": "code",
   "execution_count": 80,
   "outputs": [],
   "source": [],
   "metadata": {
    "collapsed": false,
    "ExecuteTime": {
     "end_time": "2023-10-31T18:33:52.293758Z",
     "start_time": "2023-10-31T18:33:52.086181Z"
    }
   },
   "id": "427140dcc24f3ed3"
  }
 ],
 "metadata": {
  "kernelspec": {
   "display_name": "Python 3",
   "language": "python",
   "name": "python3"
  },
  "language_info": {
   "codemirror_mode": {
    "name": "ipython",
    "version": 2
   },
   "file_extension": ".py",
   "mimetype": "text/x-python",
   "name": "python",
   "nbconvert_exporter": "python",
   "pygments_lexer": "ipython2",
   "version": "2.7.6"
  }
 },
 "nbformat": 4,
 "nbformat_minor": 5
}
