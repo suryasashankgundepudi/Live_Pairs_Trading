{
 "cells": [
  {
   "cell_type": "code",
   "execution_count": 1,
   "outputs": [],
   "source": [
    "#Yuki's Code"
   ],
   "metadata": {
    "collapsed": false,
    "ExecuteTime": {
     "end_time": "2023-09-20T13:26:47.276047600Z",
     "start_time": "2023-09-20T13:26:47.263958Z"
    }
   },
   "id": "2b2f70a31eaf5072"
  },
  {
   "cell_type": "code",
   "execution_count": 2,
   "outputs": [],
   "source": [
    "import os\n",
    "\n",
    "# Importing the necessary modules\n",
    "import pandas as pd\n",
    "import time\n",
    "import warnings\n",
    "from selenium import webdriver\n",
    "from selenium.webdriver.chrome.service import Service\n",
    "from selenium.webdriver.chrome.options import Options\n",
    "from webdriver_manager.chrome import ChromeDriverManager\n",
    "\n",
    "warnings.filterwarnings('ignore')\n",
    "\n",
    "# Setting up the options for the webdriver\n",
    "options = Options()\n",
    "options.add_experimental_option(\"detach\", True)\n",
    "driver = webdriver.Chrome(service=Service(ChromeDriverManager().install()),\n",
    "                          options=options)"
   ],
   "metadata": {
    "collapsed": false,
    "ExecuteTime": {
     "end_time": "2023-09-20T13:26:57.679756600Z",
     "start_time": "2023-09-20T13:26:47.293825400Z"
    }
   },
   "id": "380b67a9ade0e263"
  },
  {
   "cell_type": "code",
   "execution_count": 3,
   "outputs": [],
   "source": [
    "def get_yahoo_table(yahoo_link, xpath):\n",
    "    \"\"\"Load a Yahoo Finance page and extract a table as a pandas DataFrame.\n",
    "\n",
    "    :param yahoo_link: Yahoo Finance link to the page\n",
    "    :param xpath: XPath of the table element\n",
    "\n",
    "    :return: pandas DataFrame containing the table data\n",
    "    \"\"\"\n",
    "    # Open a web browser to the provided Yahoo Finance link\n",
    "    driver.get(yahoo_link)\n",
    "\n",
    "    # Wait for the page to fully load (you might need to adjust the time)\n",
    "    time.sleep(5)\n",
    "\n",
    "    # Try to find the table on the page using the provided description (XPath)\n",
    "    try:\n",
    "        table_element = driver.find_element('xpath', xpath)\n",
    "    except:\n",
    "        # If the table is not found, show a message and return nothing\n",
    "        print(\"Table element not found.\")\n",
    "        return None\n",
    "\n",
    "    # Get the contents of the table in a format that computers can understand\n",
    "    table_html = table_element.get_attribute('outerHTML')\n",
    "\n",
    "    # Convert the table's contents into a structured format that can be easily worked with\n",
    "    table_df = pd.read_html(table_html)[0]\n",
    "\n",
    "    # Return the structured table as a result\n",
    "    return table_df\n"
   ],
   "metadata": {
    "collapsed": false,
    "ExecuteTime": {
     "end_time": "2023-09-20T13:26:57.680754200Z",
     "start_time": "2023-09-20T13:26:56.914802900Z"
    }
   },
   "id": "dd01b3e627a94950"
  },
  {
   "cell_type": "code",
   "execution_count": 4,
   "outputs": [],
   "source": [
    "# You will get this link by going to yahoo finance and doing the screener thing\n",
    "yahoo_link = \"https://finance.yahoo.com/screener/unsaved/17df28c0-89e0-407c-97c1-5bcde95af4a7?offset=0&count=100\"\n",
    "\n",
    "# This should be the same for everyone but if you face issue drop a whatsapp message in the group\n",
    "table_xpath = \"/html/body/div[1]/div/div/div[1]/div/div[2]/div/div/div[6]/div/div/section/div/div[2]/div[1]\"\n",
    "\n",
    "table_data = get_yahoo_table(yahoo_link, table_xpath)\n"
   ],
   "metadata": {
    "collapsed": false,
    "ExecuteTime": {
     "end_time": "2023-09-20T13:27:12.168938800Z",
     "start_time": "2023-09-20T13:26:56.915799500Z"
    }
   },
   "id": "38b74a4df1b6da1d"
  },
  {
   "cell_type": "code",
   "execution_count": 5,
   "outputs": [
    {
     "data": {
      "text/plain": "(100, 10)"
     },
     "execution_count": 5,
     "metadata": {},
     "output_type": "execute_result"
    }
   ],
   "source": [
    "table_data.shape"
   ],
   "metadata": {
    "collapsed": false,
    "ExecuteTime": {
     "end_time": "2023-09-20T13:27:12.287865500Z",
     "start_time": "2023-09-20T13:27:12.172928900Z"
    }
   },
   "id": "4679e8a706ca68e"
  },
  {
   "cell_type": "code",
   "execution_count": 6,
   "outputs": [
    {
     "name": "stdout",
     "output_type": "stream",
     "text": [
      "Data Directory Created!\n"
     ]
    }
   ],
   "source": [
    "if not os.path.exists(\"data/\"):\n",
    "    os.mkdir(\"data/\")\n",
    "    print(\"Data Directory Created!\")"
   ],
   "metadata": {
    "collapsed": false,
    "ExecuteTime": {
     "end_time": "2023-09-20T13:27:12.296226200Z",
     "start_time": "2023-09-20T13:27:12.195528100Z"
    }
   },
   "id": "f9fe4c9406096868"
  },
  {
   "cell_type": "code",
   "execution_count": 7,
   "outputs": [],
   "source": [
    "file_name = \"utilities.csv\"\n",
    "table_data.to_csv(\"data/\" + file_name)"
   ],
   "metadata": {
    "collapsed": false,
    "ExecuteTime": {
     "end_time": "2023-09-20T13:27:12.297223300Z",
     "start_time": "2023-09-20T13:27:12.214525400Z"
    }
   },
   "id": "fbed5070141de9b9"
  },
  {
   "cell_type": "code",
   "execution_count": 8,
   "outputs": [
    {
     "data": {
      "text/plain": "Index(['Symbol', 'Name', 'Price (Intraday)', 'Change', '% Change', 'Volume',\n       'Avg Vol (3 month)', 'Market Cap', 'PE Ratio (TTM)', '52 Week Range'],\n      dtype='object')"
     },
     "execution_count": 8,
     "metadata": {},
     "output_type": "execute_result"
    }
   ],
   "source": [
    "table_data.columns"
   ],
   "metadata": {
    "collapsed": false,
    "ExecuteTime": {
     "end_time": "2023-09-20T13:27:12.298222300Z",
     "start_time": "2023-09-20T13:27:12.243432900Z"
    }
   },
   "id": "4ad058cd08168277"
  }
 ],
 "metadata": {
  "kernelspec": {
   "display_name": "Python 3",
   "language": "python",
   "name": "python3"
  },
  "language_info": {
   "codemirror_mode": {
    "name": "ipython",
    "version": 2
   },
   "file_extension": ".py",
   "mimetype": "text/x-python",
   "name": "python",
   "nbconvert_exporter": "python",
   "pygments_lexer": "ipython2",
   "version": "2.7.6"
  }
 },
 "nbformat": 4,
 "nbformat_minor": 5
}
