{
 "cells": [
  {
   "cell_type": "markdown",
   "source": [
    "# Check for Stationarity for each pair"
   ],
   "metadata": {
    "collapsed": false
   },
   "id": "2dc9d868b5897f9d"
  },
  {
   "cell_type": "code",
   "execution_count": 24,
   "id": "initial_id",
   "metadata": {
    "collapsed": true,
    "ExecuteTime": {
     "end_time": "2023-09-19T22:14:45.237540100Z",
     "start_time": "2023-09-19T22:14:45.229558Z"
    }
   },
   "outputs": [],
   "source": [
    "import yfinance as yf\n",
    "import random\n",
    "import json\n",
    "import statsmodels.api as sm\n",
    "import datetime\n",
    "import os \n",
    "random.seed(1)"
   ]
  },
  {
   "cell_type": "code",
   "execution_count": 25,
   "outputs": [
    {
     "name": "stdout",
     "output_type": "stream",
     "text": [
      "{'CMS': ['CEG'], 'CNP': ['AEE'], 'DUK': ['AEP', 'CEG'], 'EIX': ['CEG'], 'ES': ['AEP', 'CEG'], 'EVRG': ['CEG', 'CNP'], 'LNT': ['DTE'], 'NI': ['CEG'], 'PCG': ['D'], 'PEG': ['CEG', 'NI'], 'PPL': ['CEG', 'FE'], 'SO': ['CEG'], 'SRE': ['AEP', 'DUK', 'PCG'], 'VST': ['CEG'], 'WEC': ['CEG', 'EVRG'], 'XEL': ['CEG', 'DUK', 'SRE']}\n"
     ]
    }
   ],
   "source": [
    "file_path = \"data/pairs_names.json\"\n",
    "\n",
    "# Read the JSON file as a dictionary\n",
    "with open(file_path, \"r\") as json_file:\n",
    "    loaded_pairs_dic = json.load(json_file)\n",
    "\n",
    "# Now, loaded_pairs_dic contains the dictionary from the JSON file\n",
    "print(loaded_pairs_dic)\n"
   ],
   "metadata": {
    "collapsed": false,
    "ExecuteTime": {
     "end_time": "2023-09-19T22:14:45.383884200Z",
     "start_time": "2023-09-19T22:14:45.365308Z"
    }
   },
   "id": "5d9c1bddfbb948d7"
  },
  {
   "cell_type": "code",
   "execution_count": 26,
   "outputs": [
    {
     "data": {
      "text/plain": "['CMS', 'CEG']"
     },
     "execution_count": 26,
     "metadata": {},
     "output_type": "execute_result"
    }
   ],
   "source": [
    "target_pair = [\"CMS\" , loaded_pairs_dic[\"CMS\"][0]]\n",
    "target_pair"
   ],
   "metadata": {
    "collapsed": false,
    "ExecuteTime": {
     "end_time": "2023-09-19T22:14:45.541039100Z",
     "start_time": "2023-09-19T22:14:45.517097800Z"
    }
   },
   "id": "e855effed79e6c75"
  },
  {
   "cell_type": "code",
   "execution_count": 27,
   "outputs": [],
   "source": [
    "# Enable to use start & end dates:\n",
    "start = datetime.date.today() - datetime.timedelta(days=430)\n",
    "end = datetime.date.today() - datetime.timedelta(days=60)"
   ],
   "metadata": {
    "collapsed": false,
    "ExecuteTime": {
     "end_time": "2023-09-19T22:14:45.666481700Z",
     "start_time": "2023-09-19T22:14:45.653506800Z"
    }
   },
   "id": "d0ecee7dd3af3c8c"
  },
  {
   "cell_type": "code",
   "execution_count": 28,
   "outputs": [
    {
     "name": "stdout",
     "output_type": "stream",
     "text": [
      "[*********************100%%**********************]  1 of 1 completed\n",
      "[*********************100%%**********************]  1 of 1 completed\n"
     ]
    }
   ],
   "source": [
    "asset1 = yf.download(target_pair[0], start = start, end = end)[\"Close\"]\n",
    "asset2 = yf.download(target_pair[1], start = start, end = end)[\"Close\"]"
   ],
   "metadata": {
    "collapsed": false,
    "ExecuteTime": {
     "end_time": "2023-09-19T22:14:47.179630Z",
     "start_time": "2023-09-19T22:14:46.544630200Z"
    }
   },
   "id": "1e64950c4e7923e7"
  },
  {
   "cell_type": "markdown",
   "source": [
    "# Plotting"
   ],
   "metadata": {
    "collapsed": false
   },
   "id": "7af8be95d42bdc4"
  },
  {
   "cell_type": "code",
   "execution_count": 29,
   "outputs": [],
   "source": [
    "from plotly.subplots import make_subplots\n",
    "import plotly.graph_objects as go\n",
    "\n",
    "fig = make_subplots(rows=2,\n",
    "                    cols=1,\n",
    "                    subplot_titles=(\"asset2\", \"asset1\"))\n",
    "\n",
    "fig.append_trace(go.Scatter(x=asset2.index,\n",
    "                            y=asset2,\n",
    "                            ),\n",
    "                 row=1, col=1)\n",
    "\n",
    "fig.append_trace(go.Scatter(x=asset1.index,\n",
    "                            y=asset1,\n",
    "                            ),\n",
    "                 row=2, col=1)\n",
    "\n",
    "# Update yaxis properties\n",
    "fig.update_yaxes(title_text=\"Price\", row=1, col=1)\n",
    "fig.update_xaxes(title_text=\"Date\",  row=1, col=1)\n",
    "fig.update_yaxes(title_text=\"Price\", row=2, col=1)\n",
    "fig.update_xaxes(title_text=\"Date\",  row=2, col=1)\n",
    "\n",
    "if not os.path.exists(\"img/\"):\n",
    "    os.mkdir(\"img/\")\n",
    "    print(\"Image Directory Created!\")\n",
    "\n",
    "file_path = \"img/\" + target_pair[0] + \"_\" + target_pair[1] + \".html\" \n",
    "fig.write_html(file_path)"
   ],
   "metadata": {
    "collapsed": false,
    "ExecuteTime": {
     "end_time": "2023-09-19T22:14:47.686837400Z",
     "start_time": "2023-09-19T22:14:47.605352200Z"
    }
   },
   "id": "d4c567600ecc37d8"
  },
  {
   "cell_type": "markdown",
   "source": [
    "# Run OLS Regression and calculating spread\n",
    "Since we are not using the recent 60 days data let us not split into training and testing"
   ],
   "metadata": {
    "collapsed": false
   },
   "id": "8b07ab41d2bbf157"
  },
  {
   "cell_type": "code",
   "execution_count": 30,
   "outputs": [],
   "source": [
    "dictionary_spread = {}"
   ],
   "metadata": {
    "collapsed": false,
    "ExecuteTime": {
     "end_time": "2023-09-19T22:14:48.386349600Z",
     "start_time": "2023-09-19T22:14:48.375850Z"
    }
   },
   "id": "a55b792a85cf0bd4"
  },
  {
   "cell_type": "code",
   "execution_count": 32,
   "outputs": [
    {
     "name": "stdout",
     "output_type": "stream",
     "text": [
      "Completed Training\n"
     ]
    }
   ],
   "source": [
    "# adding a constant variable to the asset1 time series for the intercept value \n",
    "asset1 = sm.add_constant(asset1, prepend=False)\n",
    "\n",
    "# Running the OLS function with asset2 as the dependent variable and asset1 as the dependent variable\n",
    "ols = sm.OLS(asset2, asset1)\n",
    "\n",
    "# Saving the results of the OLS model into a variable\n",
    "output = ols.fit()\n",
    "print(\"Completed Training\")\n",
    "\n",
    "\n",
    "# Getting the beta from the OLS results\n",
    "beta = output.params[\"Close\"]\n",
    "\n",
    "# Dropping the const column in the dependent variable\n",
    "asset1.drop(columns=\"const\", inplace = True)\n",
    "\n",
    "# Calculating spread\n",
    "spread = asset2 - beta*asset1[\"Close\"]\n",
    "\n",
    "fig = go.Figure(go.Scatter(y = spread))\n",
    "\n",
    "fig.update_layout(title = \"Spread between \" + target_pair[1] + \" and \" + target_pair[0])\n",
    "\n",
    "fig.update_xaxes(title_text=\"Date\")\n",
    "fig.update_yaxes(title_text=\"Spread\")\n",
    "\n",
    "file_path = \"img/Spread_\" + target_pair[0] + \"_\" + target_pair[1] + \".html\"\n",
    "fig.write_html(file_path)\n",
    "\n",
    "\n",
    "dictionary_spread[target_pair[0] + \"_\" + target_pair[1]] = beta"
   ],
   "metadata": {
    "collapsed": false,
    "ExecuteTime": {
     "end_time": "2023-09-19T22:15:29.145291700Z",
     "start_time": "2023-09-19T22:15:29.079932100Z"
    }
   },
   "id": "958a0dfee16012da"
  },
  {
   "cell_type": "markdown",
   "source": [
    "# Perform Augmented Dickey Fuller Test"
   ],
   "metadata": {
    "collapsed": false
   },
   "id": "211dc825cb22e51b"
  },
  {
   "cell_type": "code",
   "execution_count": 33,
   "outputs": [
    {
     "name": "stdout",
     "output_type": "stream",
     "text": [
      "ADF Statistic: -3.373731\n",
      "\n",
      "p-value: 0.011888\n"
     ]
    }
   ],
   "source": [
    "from statsmodels.tsa.stattools import adfuller\n",
    "\n",
    "#perform augmented Dickey-Fuller test\n",
    "result = adfuller(spread)\n",
    "\n",
    "print('ADF Statistic: %f\\n' % result[0])\n",
    "print('p-value: %f\\n' % result[1])"
   ],
   "metadata": {
    "collapsed": false,
    "ExecuteTime": {
     "end_time": "2023-09-19T22:15:30.527322700Z",
     "start_time": "2023-09-19T22:15:30.508930400Z"
    }
   },
   "id": "4a3211d437c30642"
  },
  {
   "cell_type": "markdown",
   "source": [
    "1. p-value > 0.05: Fail to reject the null hypothesis (H0), the data has a unit root and is non-stationary.\n",
    "2. p-value <= 0.05: Reject the null hypothesis (H0), the data does not have a unit root and is stationary.\n",
    "\n",
    "**Since the p value is greater than 0.05 we fail to reject the null hypothesis, the time series is not stationary**\n",
    "\n",
    "If it was accepted the code would be as follows\n",
    "```python\n",
    "accepted_pairs = []\n",
    "accepted_pairs.append(target_pair[0] + \"_\" + target_pair[1]) \n",
    "```\n",
    "\n",
    "You don't need to print out the values from ADF just check if the 5% level is less than or equal to 0.05 and save it into the list. \n",
    "\n",
    "\n",
    "Once the list is complete for all assets you would need to save it as a text file and read for later use\n",
    "\n",
    "```python \n",
    "# How to save list\n",
    "\n",
    "import csv\n",
    "\n",
    "my_list = [1, 2, 3, 4, 5]\n",
    "\n",
    "# Specify the file path\n",
    "file_path = \"my_list.csv\"\n",
    "\n",
    "# Save the list to a CSV file\n",
    "with open(file_path, \"w\", newline=\"\") as csv_file:\n",
    "    writer = csv.writer(csv_file)\n",
    "    writer.writerow(my_list)\n",
    "```\n",
    "\n",
    "\n",
    "Now your pseudocode for entire file would look like this\n",
    "```\n",
    "DECLARE ALL OVERALL VARIABLES - LOADED_PAIRS, DICTIONARY_TO_HOLD_SPREAD_FOR_EACH_PAIR, FINAL_PAIRS_LIST\n",
    "\n",
    "DEFINE FUNCTION FOR GETTTING YAHOO FINANCE DATA - GET_DATA(NAME)\n",
    "DEFINE FUNCITON FOR PLOTTING AND SAVING EACH TIME SERIES - PLOT_ASSETS(ASSET1, ASSET2)\n",
    "DEFINE FUNCTION FOR RUNNING THE REGRESSION, PLOTTING SPREAD AND RETURNING THE SPREAD - REGRESSION_ANALYSIS(ASSET1, ASSET2)\n",
    "DEFINE FUNCTION FOR RUNNING ADF TEST AND RETURNING THE ACCEPTED PAIR IF NOT REJECTED - RUN_ADF_TEST(SPREAD) # THE ADF TEST SHOULD ALSO PRINT FAILED OR PASSED FOR EACH TEST\n",
    "\n",
    "FOR LOOP WITH KEYS FROM DICTIONARY\n",
    "    FOR LOOP RUNNING THROUGH EACH VALUE OF THE LIST FROM EACH ELEMENT IN DICTIONARY\n",
    "        ASSET1 = GET_DATA(ASSET1)\n",
    "        PRINT(\"DOWNLADED\")\n",
    "        ASSET2 = GET_DATA(ASSET2)\n",
    "        PRINT(\"DOWNLOADED\")\n",
    "        PLOT_ASSETS(ASSET1, ASSET2)\n",
    "        PRINT(\"PLOTTED\")\n",
    "        DICTIONARY_TO_HOLD_PAIR[ASSET1_ASSET2], SPREAD = REGRESSION_ANALYSIS(ASSET1, ASSET2)\n",
    "        PRINT(\"COMPLETED REGRESSION ANALYSIS\")\n",
    "        FINAL_PAIRS_LIST.append(RUN_ADF_TEST(SPREAD))  \"ASSET1_ASSET2\"  \n",
    "        PRINT(\"COMPLETED TEST\")\n",
    "\n",
    "SAVE DICTIONARY_TO_HOLD_SPREAD IN DATA DIRECTORY\n",
    "```"
   ],
   "metadata": {
    "collapsed": false
   },
   "id": "9999f6dfcc20f914"
  },
  {
   "cell_type": "code",
   "execution_count": null,
   "outputs": [],
   "source": [],
   "metadata": {
    "collapsed": false
   },
   "id": "bb87889ef6e5b1b7"
  }
 ],
 "metadata": {
  "kernelspec": {
   "display_name": "Python 3",
   "language": "python",
   "name": "python3"
  },
  "language_info": {
   "codemirror_mode": {
    "name": "ipython",
    "version": 2
   },
   "file_extension": ".py",
   "mimetype": "text/x-python",
   "name": "python",
   "nbconvert_exporter": "python",
   "pygments_lexer": "ipython2",
   "version": "2.7.6"
  }
 },
 "nbformat": 4,
 "nbformat_minor": 5
}
