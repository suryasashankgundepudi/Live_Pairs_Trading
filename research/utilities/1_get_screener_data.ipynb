{
 "cells": [
  {
   "cell_type": "markdown",
   "source": [
    "# Reading Stock Screeners based on Industry \n",
    "\n",
    "What we aim to do here is to get a list of all the companies and their technicals/fundamentals. \n",
    "\n",
    "## Steps followed\n",
    "1. Import necessary libraries and setup chromedriver\n",
    "2. Define a function that will get the Yahoo Finance\n",
    "    1. Load the page\n",
    "    2. Find the table in the page\n",
    "    3. Extract the table\n",
    "    4. Read the table as a dataframe \n",
    "3. Save the dataframe"
   ],
   "metadata": {
    "collapsed": false
   },
   "id": "8d0e6c51fe3fdfa1"
  },
  {
   "cell_type": "code",
   "execution_count": 1,
   "outputs": [],
   "source": [
    "import os\n",
    "\n",
    "# Importing the necessary modules\n",
    "import pandas as pd\n",
    "import time\n",
    "import warnings\n",
    "from selenium import webdriver\n",
    "from selenium.webdriver.chrome.service import Service\n",
    "from selenium.webdriver.chrome.options import Options\n",
    "from webdriver_manager.chrome import ChromeDriverManager\n",
    "from selenium.webdriver.common.by import By\n",
    "\n",
    "warnings.filterwarnings('ignore')"
   ],
   "metadata": {
    "collapsed": false,
    "ExecuteTime": {
     "end_time": "2023-09-19T22:19:59.955909200Z",
     "start_time": "2023-09-19T22:19:59.711597100Z"
    }
   },
   "id": "392ac019e4439d98"
  },
  {
   "cell_type": "code",
   "execution_count": 2,
   "outputs": [],
   "source": [
    "# Setting up the options for the webdriver\n",
    "options = Options()\n",
    "options.add_experimental_option(\"detach\", True)\n",
    "driver = webdriver.Chrome(service=Service(ChromeDriverManager().install()),\n",
    "                          options=options)"
   ],
   "metadata": {
    "collapsed": false,
    "ExecuteTime": {

    }
   },
   "id": "6138ae6b478abc14"
  },
  {
   "cell_type": "code",
   "outputs": [],
   "source": [
    "def get_yahoo_table(yahoo_link, xpath):\n",
    "    \"\"\"Load a Yahoo Finance page and extract a table as a pandas DataFrame.\n",
    "\n",
    "    :param yahoo_link: Yahoo Finance link to the page\n",
    "    :param xpath: XPath of the table element\n",
    "\n",
    "    :return: pandas DataFrame containing the table data\n",
    "    \"\"\"\n",
    "    # Open a web browser to the provided Yahoo Finance link\n",
    "    driver.get(yahoo_link)\n",
    "\n",
    "    # Wait for the page to fully load (you might need to adjust the time)\n",
    "    time.sleep(5)\n",
    "    driver.execute_script(\"window.scrollBy(0, 500);\")\n",
    "    driver.find_element(\"xpath\", '//*[@id=\"scr-res-table\"]/div[1]/table/thead/tr/th[6]').click()\n",
    "    time.sleep(5)\n",
    "    driver.find_element(\"xpath\", '//*[@id=\"scr-res-table\"]/div[1]/table/thead/tr/th[6]').click()\n",
    "    time.sleep(5)\n",
    "\n",
    "\n",
    "    # Try to find the table on the page using the provided description (XPath)\n",
    "    try:\n",
    "        table_element = driver.find_element('xpath', xpath)\n",
    "    except:\n",
    "        # If the table is not found, show a message and return nothing\n",
    "        print(\"Table element not found.\")\n",
    "        return None\n",
    "\n",
    "    # Get the contents of the table in a format that computers can understand\n",
    "    table_html = table_element.get_attribute('outerHTML')\n",
    "\n",
    "    # Convert th/e table's contents into a structured format that can be easily worked with\n",
    "    table_df = pd.read_html(table_html)[0]\n",
    "\n",
    "    # Return the structured table as a result\n",
    "    return table_df"
   ],
   "metadata": {
    "collapsed": false,
    "ExecuteTime": {
    }
   },
   "id": "ec711351647c4476"
  },
  {
   "cell_type": "code",

    "# This should be the same for everyone but if you face issue drop a whatsapp message in the group\n",
    "table_xpath = '//*[@id=\"scr-res-table\"]/div[1]/table'\n",
    "\n",
    "\n",
    "table_data = get_yahoo_table(yahoo_link, table_xpath)\n"
   ],
   "metadata": {
    "collapsed": false,
    "ExecuteTime": {

    }
   },
   "id": "3a969616c39efa51"
  },
  {
   "cell_type": "code",

   "source": [
    "table_data"
   ],
   "metadata": {
    "collapsed": false,
    "ExecuteTime": {

    }
   },
   "id": "f4918cd5c7ab592e"
  },
  {
   "cell_type": "code",

    }
   ],
   "source": [
    "table_data.shape"
   ],
   "metadata": {
    "collapsed": false,
    "ExecuteTime": {

    }
   },
   "id": "c700c19b2d08d314"
  },
  {
   "cell_type": "code",

   "outputs": [],
   "source": [
    "if not os.path.exists(\"data/\"):\n",
    "    os.mkdir(\"data/\")\n",
    "    print(\"Data Directory Created!\")"
   ],
   "metadata": {
    "collapsed": false,
    "ExecuteTime": {

    }
   },
   "id": "eb2a4ff9e0d8e871"
  },
  {
   "cell_type": "code",

   "outputs": [],
   "source": [
    "file_name = \"utilities.csv\"\n",
    "table_data.to_csv(\"data/\" + file_name)"
   ],
   "metadata": {
    "collapsed": false,
    "ExecuteTime": {

    }
   },
   "id": "2068c73576404928"
  },
  {
   "cell_type": "code",

   "source": [
    "table_data.columns"
   ],
   "metadata": {
    "collapsed": false,
    "ExecuteTime": {

    }
   },
   "id": "87d10d7f69677fc5"
  },
  {
   "cell_type": "code",
   "execution_count": 9,
   "outputs": [],
   "source": [],
   "metadata": {
    "collapsed": false,
    "ExecuteTime": {

    }
   },
   "id": "6ce76b203d47d98"
  }
 ],
 "metadata": {
  "kernelspec": {
   "display_name": "Python 3",
   "language": "python",
   "name": "python3"
  },
  "language_info": {
   "codemirror_mode": {
    "name": "ipython",
    "version": 2
   },
   "file_extension": ".py",
   "mimetype": "text/x-python",
   "name": "python",
   "nbconvert_exporter": "python",
   "pygments_lexer": "ipython2",
   "version": "2.7.6"
  }
 },
 "nbformat": 4,
 "nbformat_minor": 5
}
