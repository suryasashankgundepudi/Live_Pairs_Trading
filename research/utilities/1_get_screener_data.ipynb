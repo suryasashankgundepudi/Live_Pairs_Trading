{
 "cells": [
  {
   "cell_type": "markdown",
   "source": [
    "# Reading Stock Screeners based on Industry \n",
    "\n",
    "What we aim to do here is to get a list of all the companies and their technicals/fundamentals. \n",
    "\n",
    "## Steps followed\n",
    "1. Import necessary libraries and setup chromedriver\n",
    "2. Define a function that will get the Yahoo Finance\n",
    "    1. Load the page\n",
    "    2. Find the table in the page\n",
    "    3. Extract the table\n",
    "    4. Read the table as a dataframe \n",
    "3. Save the dataframe"
   ],
   "metadata": {
    "collapsed": false
   },
   "id": "8d0e6c51fe3fdfa1"
  },
  {
   "cell_type": "code",
   "execution_count": 9,
   "outputs": [],
   "source": [
    "import os\n",
    "\n",
    "# Importing the necessary modules\n",
    "import pandas as pd\n",
    "import time\n",
    "import warnings\n",
    "from selenium import webdriver\n",
    "from selenium.webdriver.chrome.service import Service\n",
    "from selenium.webdriver.chrome.options import Options\n",
    "from webdriver_manager.chrome import ChromeDriverManager\n",
    "\n",
    "warnings.filterwarnings('ignore')\n",
    "\n",
    "# Setting up the options for the webdriver\n",
    "options = Options()\n",
    "options.add_experimental_option(\"detach\", True)\n",
    "driver = webdriver.Chrome(service=Service(ChromeDriverManager().install()),\n",
    "                          options=options)\n"
   ],
   "metadata": {
    "collapsed": false,
    "ExecuteTime": {
     "end_time": "2023-09-12T15:25:40.202744900Z",
     "start_time": "2023-09-12T15:25:34.697777900Z"
    }
   },
   "id": "392ac019e4439d98"
  },
  {
   "cell_type": "code",
   "execution_count": 10,
   "outputs": [],
   "source": [
    "def get_yahoo_table(yahoo_link, xpath):\n",
    "    \"\"\"Load a Yahoo Finance page and extract a table as a pandas DataFrame.\n",
    "\n",
    "    :param yahoo_link: Yahoo Finance link to the page\n",
    "    :param xpath: XPath of the table element\n",
    "\n",
    "    :return: pandas DataFrame containing the table data\n",
    "    \"\"\"\n",
    "    # Open a web browser to the provided Yahoo Finance link\n",
    "    driver.get(yahoo_link)\n",
    "\n",
    "    # Wait for the page to fully load (you might need to adjust the time)\n",
    "    time.sleep(5)\n",
    "\n",
    "    # Try to find the table on the page using the provided description (XPath)\n",
    "    try:\n",
    "        table_element = driver.find_element('xpath', xpath)\n",
    "    except:\n",
    "        # If the table is not found, show a message and return nothing\n",
    "        print(\"Table element not found.\")\n",
    "        return None\n",
    "\n",
    "    # Get the contents of the table in a format that computers can understand\n",
    "    table_html = table_element.get_attribute('outerHTML')\n",
    "\n",
    "    # Convert the table's contents into a structured format that can be easily worked with\n",
    "    table_df = pd.read_html(table_html)[0]\n",
    "\n",
    "    # Return the structured table as a result\n",
    "    return table_df"
   ],
   "metadata": {
    "collapsed": false,
    "ExecuteTime": {
     "end_time": "2023-09-12T15:25:40.210852500Z",
     "start_time": "2023-09-12T15:25:40.207959600Z"
    }
   },
   "id": "ec711351647c4476"
  },
  {
   "cell_type": "code",
   "execution_count": 11,
   "outputs": [],
   "source": [
    "# You will get this link by going to yahoo finance and doing the screener thing\n",
    "yahoo_link = \"https://finance.yahoo.com/screener/unsaved/fb6601c2-fcd4-4fd3-bf4a-74a421cc1455?offset=0&count=100\"\n",
    "\n",
    "# This should be the same for everyone but if you face issue drop a whatsapp message in the group\n",
    "table_xpath = \"/html/body/div[1]/div/div/div[1]/div/div[2]/div/div/div[6]/div/div/section/div/div[2]/div[1]\"\n",
    "\n",
    "table_data = get_yahoo_table(yahoo_link, table_xpath)\n"
   ],
   "metadata": {
    "collapsed": false,
    "ExecuteTime": {
     "end_time": "2023-09-12T15:25:49.345641800Z",
     "start_time": "2023-09-12T15:25:40.212847400Z"
    }
   },
   "id": "3a969616c39efa51"
  },
  {
   "cell_type": "code",
   "execution_count": 12,
   "outputs": [
    {
     "data": {
      "text/plain": "    Symbol                       Name  Price (Intraday)  Change % Change  \\\n0      NEE       NextEra Energy, Inc.             67.75    0.22   +0.33%   \n1       SO       The Southern Company             68.19    0.06   +0.09%   \n2    IBDRY            Iberdrola, S.A.             46.40   -0.22   -0.46%   \n3    IBDSF            Iberdrola, S.A.             11.58   -0.14   -1.15%   \n4      DUK    Duke Energy Corporation             92.16    0.38   +0.41%   \n..     ...                        ...               ...     ...      ...   \n95   STRNY           Severn Trent PLC             31.65    0.00    0.00%   \n96   UEPEP     Union Electric Company             76.00    0.00    0.00%   \n97   EGIEY  Engie Brasil Energia S.A.              9.50    1.20  +14.46%   \n98   UEPEO     Union Electric Company             75.00    0.00    0.00%   \n99  CMS-PB   Consumers Energy Company             89.95    0.00    0.00%   \n\n      Volume Avg Vol (3 month) Market Cap  PE Ratio (TTM)  52 Week Range  \n0     1.288M             8.25M   137.137B           16.73            NaN  \n1     729690             3.75M    74.365B           24.27            NaN  \n2      23906             70198    73.671B           15.02            NaN  \n3        932             21882    73.536B           15.04            NaN  \n4   676.591k            2.877M    71.036B           19.74            NaN  \n..       ...               ...        ...             ...            ...  \n95        80             23638     7.992B           47.95            NaN  \n96       301                80     7.761B           14.89            NaN  \n97       531             16474     7.751B           11.88            NaN  \n98        70               103     7.659B           14.70            NaN  \n99       240               175     7.566B            8.29            NaN  \n\n[100 rows x 10 columns]",
      "text/html": "<div>\n<style scoped>\n    .dataframe tbody tr th:only-of-type {\n        vertical-align: middle;\n    }\n\n    .dataframe tbody tr th {\n        vertical-align: top;\n    }\n\n    .dataframe thead th {\n        text-align: right;\n    }\n</style>\n<table border=\"1\" class=\"dataframe\">\n  <thead>\n    <tr style=\"text-align: right;\">\n      <th></th>\n      <th>Symbol</th>\n      <th>Name</th>\n      <th>Price (Intraday)</th>\n      <th>Change</th>\n      <th>% Change</th>\n      <th>Volume</th>\n      <th>Avg Vol (3 month)</th>\n      <th>Market Cap</th>\n      <th>PE Ratio (TTM)</th>\n      <th>52 Week Range</th>\n    </tr>\n  </thead>\n  <tbody>\n    <tr>\n      <th>0</th>\n      <td>NEE</td>\n      <td>NextEra Energy, Inc.</td>\n      <td>67.75</td>\n      <td>0.22</td>\n      <td>+0.33%</td>\n      <td>1.288M</td>\n      <td>8.25M</td>\n      <td>137.137B</td>\n      <td>16.73</td>\n      <td>NaN</td>\n    </tr>\n    <tr>\n      <th>1</th>\n      <td>SO</td>\n      <td>The Southern Company</td>\n      <td>68.19</td>\n      <td>0.06</td>\n      <td>+0.09%</td>\n      <td>729690</td>\n      <td>3.75M</td>\n      <td>74.365B</td>\n      <td>24.27</td>\n      <td>NaN</td>\n    </tr>\n    <tr>\n      <th>2</th>\n      <td>IBDRY</td>\n      <td>Iberdrola, S.A.</td>\n      <td>46.40</td>\n      <td>-0.22</td>\n      <td>-0.46%</td>\n      <td>23906</td>\n      <td>70198</td>\n      <td>73.671B</td>\n      <td>15.02</td>\n      <td>NaN</td>\n    </tr>\n    <tr>\n      <th>3</th>\n      <td>IBDSF</td>\n      <td>Iberdrola, S.A.</td>\n      <td>11.58</td>\n      <td>-0.14</td>\n      <td>-1.15%</td>\n      <td>932</td>\n      <td>21882</td>\n      <td>73.536B</td>\n      <td>15.04</td>\n      <td>NaN</td>\n    </tr>\n    <tr>\n      <th>4</th>\n      <td>DUK</td>\n      <td>Duke Energy Corporation</td>\n      <td>92.16</td>\n      <td>0.38</td>\n      <td>+0.41%</td>\n      <td>676.591k</td>\n      <td>2.877M</td>\n      <td>71.036B</td>\n      <td>19.74</td>\n      <td>NaN</td>\n    </tr>\n    <tr>\n      <th>...</th>\n      <td>...</td>\n      <td>...</td>\n      <td>...</td>\n      <td>...</td>\n      <td>...</td>\n      <td>...</td>\n      <td>...</td>\n      <td>...</td>\n      <td>...</td>\n      <td>...</td>\n    </tr>\n    <tr>\n      <th>95</th>\n      <td>STRNY</td>\n      <td>Severn Trent PLC</td>\n      <td>31.65</td>\n      <td>0.00</td>\n      <td>0.00%</td>\n      <td>80</td>\n      <td>23638</td>\n      <td>7.992B</td>\n      <td>47.95</td>\n      <td>NaN</td>\n    </tr>\n    <tr>\n      <th>96</th>\n      <td>UEPEP</td>\n      <td>Union Electric Company</td>\n      <td>76.00</td>\n      <td>0.00</td>\n      <td>0.00%</td>\n      <td>301</td>\n      <td>80</td>\n      <td>7.761B</td>\n      <td>14.89</td>\n      <td>NaN</td>\n    </tr>\n    <tr>\n      <th>97</th>\n      <td>EGIEY</td>\n      <td>Engie Brasil Energia S.A.</td>\n      <td>9.50</td>\n      <td>1.20</td>\n      <td>+14.46%</td>\n      <td>531</td>\n      <td>16474</td>\n      <td>7.751B</td>\n      <td>11.88</td>\n      <td>NaN</td>\n    </tr>\n    <tr>\n      <th>98</th>\n      <td>UEPEO</td>\n      <td>Union Electric Company</td>\n      <td>75.00</td>\n      <td>0.00</td>\n      <td>0.00%</td>\n      <td>70</td>\n      <td>103</td>\n      <td>7.659B</td>\n      <td>14.70</td>\n      <td>NaN</td>\n    </tr>\n    <tr>\n      <th>99</th>\n      <td>CMS-PB</td>\n      <td>Consumers Energy Company</td>\n      <td>89.95</td>\n      <td>0.00</td>\n      <td>0.00%</td>\n      <td>240</td>\n      <td>175</td>\n      <td>7.566B</td>\n      <td>8.29</td>\n      <td>NaN</td>\n    </tr>\n  </tbody>\n</table>\n<p>100 rows × 10 columns</p>\n</div>"
     },
     "execution_count": 12,
     "metadata": {},
     "output_type": "execute_result"
    }
   ],
   "source": [
    "table_data"
   ],
   "metadata": {
    "collapsed": false,
    "ExecuteTime": {
     "end_time": "2023-09-12T15:25:49.367461300Z",
     "start_time": "2023-09-12T15:25:49.359868Z"
    }
   },
   "id": "f4918cd5c7ab592e"
  },
  {
   "cell_type": "code",
   "execution_count": 13,
   "outputs": [
    {
     "data": {
      "text/plain": "(100, 10)"
     },
     "execution_count": 13,
     "metadata": {},
     "output_type": "execute_result"
    }
   ],
   "source": [
    "table_data.shape"
   ],
   "metadata": {
    "collapsed": false,
    "ExecuteTime": {
     "end_time": "2023-09-12T15:25:49.379511500Z",
     "start_time": "2023-09-12T15:25:49.367461300Z"
    }
   },
   "id": "c700c19b2d08d314"
  },
  {
   "cell_type": "code",
   "execution_count": 14,
   "outputs": [],
   "source": [
    "if not os.path.exists(\"data/\"):\n",
    "    os.makedev(\"data/\")\n",
    "    print(\"Data Directory Created!\")"
   ],
   "metadata": {
    "collapsed": false,
    "ExecuteTime": {
     "end_time": "2023-09-12T15:25:49.414630400Z",
     "start_time": "2023-09-12T15:25:49.380772200Z"
    }
   },
   "id": "eb2a4ff9e0d8e871"
  },
  {
   "cell_type": "code",
   "execution_count": 15,
   "outputs": [],
   "source": [
    "file_name = \"utilities.csv\"\n",
    "table_data.to_csv(\"data/\" + file_name)"
   ],
   "metadata": {
    "collapsed": false,
    "ExecuteTime": {
     "end_time": "2023-09-12T15:25:49.457602Z",
     "start_time": "2023-09-12T15:25:49.387337400Z"
    }
   },
   "id": "2068c73576404928"
  },
  {
   "cell_type": "code",
   "execution_count": 16,
   "outputs": [
    {
     "data": {
      "text/plain": "Index(['Symbol', 'Name', 'Price (Intraday)', 'Change', '% Change', 'Volume',\n       'Avg Vol (3 month)', 'Market Cap', 'PE Ratio (TTM)', '52 Week Range'],\n      dtype='object')"
     },
     "execution_count": 16,
     "metadata": {},
     "output_type": "execute_result"
    }
   ],
   "source": [
    "table_data.columns"
   ],
   "metadata": {
    "collapsed": false,
    "ExecuteTime": {
     "end_time": "2023-09-12T15:25:49.486406300Z",
     "start_time": "2023-09-12T15:25:49.397852900Z"
    }
   },
   "id": "87d10d7f69677fc5"
  },
  {
   "cell_type": "code",
   "execution_count": null,
   "outputs": [],
   "source": [],
   "metadata": {
    "collapsed": false
   },
   "id": "6ce76b203d47d98"
  }
 ],
 "metadata": {
  "kernelspec": {
   "display_name": "Python 3",
   "language": "python",
   "name": "python3"
  },
  "language_info": {
   "codemirror_mode": {
    "name": "ipython",
    "version": 2
   },
   "file_extension": ".py",
   "mimetype": "text/x-python",
   "name": "python",
   "nbconvert_exporter": "python",
   "pygments_lexer": "ipython2",
   "version": "2.7.6"
  }
 },
 "nbformat": 4,
 "nbformat_minor": 5
}
