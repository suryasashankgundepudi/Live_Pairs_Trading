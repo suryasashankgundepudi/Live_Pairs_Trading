{
 "cells": [
  {
   "cell_type": "markdown",
   "source": [
    "# Reading Stock Screeners based on Industry \n",
    "\n",
    "What we aim to do here is to get a list of all the companies and their technicals/fundamentals. \n",
    "\n",
    "## Steps followed\n",
    "1. Import necessary libraries and setup chromedriver\n",
    "2. Define a function that will get the Yahoo Finance\n",
    "    1. Load the page\n",
    "    2. Find the table in the page\n",
    "    3. Extract the table\n",
    "    4. Read the table as a dataframe \n",
    "3. Save the dataframe"
   ],
   "metadata": {
    "collapsed": false
   },
   "id": "8d0e6c51fe3fdfa1"
  },
  {
   "cell_type": "code",
   "execution_count": 1,
   "outputs": [],
   "source": [
    "import os\n",
    "\n",
    "# Importing the necessary modules\n",
    "import pandas as pd\n",
    "import time\n",
    "import warnings\n",
    "from selenium import webdriver\n",
    "from selenium.webdriver.chrome.service import Service\n",
    "from selenium.webdriver.chrome.options import Options\n",
    "from webdriver_manager.chrome import ChromeDriverManager\n",
    "from selenium.webdriver.common.by import By\n",
    "\n",
    "warnings.filterwarnings('ignore')"
   ],
   "metadata": {
    "collapsed": false,
    "ExecuteTime": {
     "end_time": "2023-09-19T22:19:59.955909200Z",
     "start_time": "2023-09-19T22:19:59.711597100Z"
    }
   },
   "id": "392ac019e4439d98"
  },
  {
   "cell_type": "code",
   "execution_count": 2,
   "outputs": [],
   "source": [
    "# Setting up the options for the webdriver\n",
    "options = Options()\n",
    "options.add_experimental_option(\"detach\", True)\n",
    "driver = webdriver.Chrome(service=Service(ChromeDriverManager().install()),\n",
    "                          options=options)"
   ],
   "metadata": {
    "collapsed": false,
    "ExecuteTime": {
     "end_time": "2023-09-19T22:20:03.558748Z",
     "start_time": "2023-09-19T22:19:59.956906800Z"
    }
   },
   "id": "6138ae6b478abc14"
  },
  {
   "cell_type": "code",
   "execution_count": 3,
   "outputs": [],
   "source": [
    "def get_yahoo_table(yahoo_link, xpath):\n",
    "    \"\"\"Load a Yahoo Finance page and extract a table as a pandas DataFrame.\n",
    "\n",
    "    :param yahoo_link: Yahoo Finance link to the page\n",
    "    :param xpath: XPath of the table element\n",
    "\n",
    "    :return: pandas DataFrame containing the table data\n",
    "    \"\"\"\n",
    "    # Open a web browser to the provided Yahoo Finance link\n",
    "    driver.get(yahoo_link)\n",
    "\n",
    "    # Wait for the page to fully load (you might need to adjust the time)\n",
    "    time.sleep(5)\n",
    "    driver.execute_script(\"window.scrollBy(0, 500);\")\n",
    "    driver.find_element(\"xpath\", '//*[@id=\"scr-res-table\"]/div[1]/table/thead/tr/th[6]').click()\n",
    "    time.sleep(5)\n",
    "    driver.find_element(\"xpath\", '//*[@id=\"scr-res-table\"]/div[1]/table/thead/tr/th[6]').click()\n",
    "    time.sleep(5)\n",
    "\n",
    "\n",
    "    # Try to find the table on the page using the provided description (XPath)\n",
    "    try:\n",
    "        table_element = driver.find_element('xpath', xpath)\n",
    "    except:\n",
    "        # If the table is not found, show a message and return nothing\n",
    "        print(\"Table element not found.\")\n",
    "        return None\n",
    "\n",
    "    # Get the contents of the table in a format that computers can understand\n",
    "    table_html = table_element.get_attribute('outerHTML')\n",
    "\n",
    "    # Convert th/e table's contents into a structured format that can be easily worked with\n",
    "    table_df = pd.read_html(table_html)[0]\n",
    "\n",
    "    # Return the structured table as a result\n",
    "    return table_df"
   ],
   "metadata": {
    "collapsed": false,
    "ExecuteTime": {
     "end_time": "2023-09-19T22:20:03.570800500Z",
     "start_time": "2023-09-19T22:20:03.562770800Z"
    }
   },
   "id": "ec711351647c4476"
  },
  {
   "cell_type": "code",
   "execution_count": 4,
   "outputs": [],
   "source": [
    "# You will get this link by going to yahoo finance and doing the screener thing\n",
    "yahoo_link = \"https://finance.yahoo.com/screener/unsaved/4621466d-bf34-43f9-a725-3ac55efd1144?offset=0&count=100\"\n",
    "# This should be the same for everyone but if you face issue drop a whatsapp message in the group\n",
    "table_xpath = '//*[@id=\"scr-res-table\"]/div[1]/table'\n",
    "\n",
    "\n",
    "table_data = get_yahoo_table(yahoo_link, table_xpath)\n"
   ],
   "metadata": {
    "collapsed": false,
    "ExecuteTime": {
     "end_time": "2023-09-19T22:20:23.581535600Z",
     "start_time": "2023-09-19T22:20:03.570800500Z"
    }
   },
   "id": "3a969616c39efa51"
  },
  {
   "cell_type": "code",
   "execution_count": 5,
   "outputs": [
    {
     "data": {
      "text/plain": "   Symbol                    Name  Price (Intraday)  Change % Change   Volume  \\\n0     PCG        PG&E Corporation             17.41    0.11   +0.64%  12.124M   \n1     NEE    NextEra Energy, Inc.             67.59   -0.65   -0.95%   8.213M   \n2     AES     The AES Corporation             16.76   -0.32   -1.87%   6.051M   \n3     XEL        Xcel Energy Inc.             58.52    0.53   +0.91%   7.502M   \n4     VST            Vistra Corp.             33.15   -0.13   -0.40%    4.38M   \n..    ...                     ...               ...     ...      ...      ...   \n80  FOJCF              Fortum Oyj             13.75    0.00    0.00%      100   \n81  PPWLM              PacifiCorp            119.00    5.00   +4.39%       51   \n82  OEZVY              VERBUND AG             17.70    0.00    0.00%       15   \n83  TNABY  Tenaga Nasional Berhad              8.20    0.00    0.00%       11   \n84  ENAKF                 E.ON SE             11.99    0.00    0.00%       10   \n\n   Avg Vol (3 month) Market Cap  PE Ratio (TTM)  52 Week Range  \n0            17.942M    43.547B           18.92            NaN  \n1             8.109M   136.783B           16.69            NaN  \n2             5.569M    11.223B             NaN            NaN  \n3             4.008M    32.276B           18.58            NaN  \n4             4.637M    12.185B            9.36            NaN  \n..               ...        ...             ...            ...  \n80               442    12.337B           11.36            NaN  \n81                58     42.49B           50.04            NaN  \n82                55    30.746B           13.11            NaN  \n83               634    12.427B           18.22            NaN  \n84              1128     32.26B           49.96            NaN  \n\n[85 rows x 10 columns]",
      "text/html": "<div>\n<style scoped>\n    .dataframe tbody tr th:only-of-type {\n        vertical-align: middle;\n    }\n\n    .dataframe tbody tr th {\n        vertical-align: top;\n    }\n\n    .dataframe thead th {\n        text-align: right;\n    }\n</style>\n<table border=\"1\" class=\"dataframe\">\n  <thead>\n    <tr style=\"text-align: right;\">\n      <th></th>\n      <th>Symbol</th>\n      <th>Name</th>\n      <th>Price (Intraday)</th>\n      <th>Change</th>\n      <th>% Change</th>\n      <th>Volume</th>\n      <th>Avg Vol (3 month)</th>\n      <th>Market Cap</th>\n      <th>PE Ratio (TTM)</th>\n      <th>52 Week Range</th>\n    </tr>\n  </thead>\n  <tbody>\n    <tr>\n      <th>0</th>\n      <td>PCG</td>\n      <td>PG&amp;E Corporation</td>\n      <td>17.41</td>\n      <td>0.11</td>\n      <td>+0.64%</td>\n      <td>12.124M</td>\n      <td>17.942M</td>\n      <td>43.547B</td>\n      <td>18.92</td>\n      <td>NaN</td>\n    </tr>\n    <tr>\n      <th>1</th>\n      <td>NEE</td>\n      <td>NextEra Energy, Inc.</td>\n      <td>67.59</td>\n      <td>-0.65</td>\n      <td>-0.95%</td>\n      <td>8.213M</td>\n      <td>8.109M</td>\n      <td>136.783B</td>\n      <td>16.69</td>\n      <td>NaN</td>\n    </tr>\n    <tr>\n      <th>2</th>\n      <td>AES</td>\n      <td>The AES Corporation</td>\n      <td>16.76</td>\n      <td>-0.32</td>\n      <td>-1.87%</td>\n      <td>6.051M</td>\n      <td>5.569M</td>\n      <td>11.223B</td>\n      <td>NaN</td>\n      <td>NaN</td>\n    </tr>\n    <tr>\n      <th>3</th>\n      <td>XEL</td>\n      <td>Xcel Energy Inc.</td>\n      <td>58.52</td>\n      <td>0.53</td>\n      <td>+0.91%</td>\n      <td>7.502M</td>\n      <td>4.008M</td>\n      <td>32.276B</td>\n      <td>18.58</td>\n      <td>NaN</td>\n    </tr>\n    <tr>\n      <th>4</th>\n      <td>VST</td>\n      <td>Vistra Corp.</td>\n      <td>33.15</td>\n      <td>-0.13</td>\n      <td>-0.40%</td>\n      <td>4.38M</td>\n      <td>4.637M</td>\n      <td>12.185B</td>\n      <td>9.36</td>\n      <td>NaN</td>\n    </tr>\n    <tr>\n      <th>...</th>\n      <td>...</td>\n      <td>...</td>\n      <td>...</td>\n      <td>...</td>\n      <td>...</td>\n      <td>...</td>\n      <td>...</td>\n      <td>...</td>\n      <td>...</td>\n      <td>...</td>\n    </tr>\n    <tr>\n      <th>80</th>\n      <td>FOJCF</td>\n      <td>Fortum Oyj</td>\n      <td>13.75</td>\n      <td>0.00</td>\n      <td>0.00%</td>\n      <td>100</td>\n      <td>442</td>\n      <td>12.337B</td>\n      <td>11.36</td>\n      <td>NaN</td>\n    </tr>\n    <tr>\n      <th>81</th>\n      <td>PPWLM</td>\n      <td>PacifiCorp</td>\n      <td>119.00</td>\n      <td>5.00</td>\n      <td>+4.39%</td>\n      <td>51</td>\n      <td>58</td>\n      <td>42.49B</td>\n      <td>50.04</td>\n      <td>NaN</td>\n    </tr>\n    <tr>\n      <th>82</th>\n      <td>OEZVY</td>\n      <td>VERBUND AG</td>\n      <td>17.70</td>\n      <td>0.00</td>\n      <td>0.00%</td>\n      <td>15</td>\n      <td>55</td>\n      <td>30.746B</td>\n      <td>13.11</td>\n      <td>NaN</td>\n    </tr>\n    <tr>\n      <th>83</th>\n      <td>TNABY</td>\n      <td>Tenaga Nasional Berhad</td>\n      <td>8.20</td>\n      <td>0.00</td>\n      <td>0.00%</td>\n      <td>11</td>\n      <td>634</td>\n      <td>12.427B</td>\n      <td>18.22</td>\n      <td>NaN</td>\n    </tr>\n    <tr>\n      <th>84</th>\n      <td>ENAKF</td>\n      <td>E.ON SE</td>\n      <td>11.99</td>\n      <td>0.00</td>\n      <td>0.00%</td>\n      <td>10</td>\n      <td>1128</td>\n      <td>32.26B</td>\n      <td>49.96</td>\n      <td>NaN</td>\n    </tr>\n  </tbody>\n</table>\n<p>85 rows × 10 columns</p>\n</div>"
     },
     "execution_count": 5,
     "metadata": {},
     "output_type": "execute_result"
    }
   ],
   "source": [
    "table_data"
   ],
   "metadata": {
    "collapsed": false,
    "ExecuteTime": {
     "end_time": "2023-09-19T22:20:23.618943700Z",
     "start_time": "2023-09-19T22:20:23.581535600Z"
    }
   },
   "id": "f4918cd5c7ab592e"
  },
  {
   "cell_type": "code",
   "execution_count": 6,
   "outputs": [
    {
     "data": {
      "text/plain": "(85, 10)"
     },
     "execution_count": 6,
     "metadata": {},
     "output_type": "execute_result"
    }
   ],
   "source": [
    "table_data.shape"
   ],
   "metadata": {
    "collapsed": false,
    "ExecuteTime": {
     "end_time": "2023-09-19T22:20:23.654389500Z",
     "start_time": "2023-09-19T22:20:23.608855900Z"
    }
   },
   "id": "c700c19b2d08d314"
  },
  {
   "cell_type": "code",
   "execution_count": 7,
   "outputs": [],
   "source": [
    "if not os.path.exists(\"data/\"):\n",
    "    os.mkdir(\"data/\")\n",
    "    print(\"Data Directory Created!\")"
   ],
   "metadata": {
    "collapsed": false,
    "ExecuteTime": {
     "end_time": "2023-09-19T22:20:23.655358200Z",
     "start_time": "2023-09-19T22:20:23.618438100Z"
    }
   },
   "id": "eb2a4ff9e0d8e871"
  },
  {
   "cell_type": "code",
   "execution_count": 8,
   "outputs": [],
   "source": [
    "file_name = \"utilities.csv\"\n",
    "table_data.to_csv(\"data/\" + file_name)"
   ],
   "metadata": {
    "collapsed": false,
    "ExecuteTime": {
     "end_time": "2023-09-19T22:20:23.731503700Z",
     "start_time": "2023-09-19T22:20:23.625928300Z"
    }
   },
   "id": "2068c73576404928"
  },
  {
   "cell_type": "code",
   "execution_count": 9,
   "outputs": [
    {
     "data": {
      "text/plain": "Index(['Symbol', 'Name', 'Price (Intraday)', 'Change', '% Change', 'Volume',\n       'Avg Vol (3 month)', 'Market Cap', 'PE Ratio (TTM)', '52 Week Range'],\n      dtype='object')"
     },
     "execution_count": 9,
     "metadata": {},
     "output_type": "execute_result"
    }
   ],
   "source": [
    "table_data.columns"
   ],
   "metadata": {
    "collapsed": false,
    "ExecuteTime": {
     "end_time": "2023-09-19T22:20:23.770624300Z",
     "start_time": "2023-09-19T22:20:23.646114700Z"
    }
   },
   "id": "87d10d7f69677fc5"
  },
  {
   "cell_type": "code",
   "execution_count": 9,
   "outputs": [],
   "source": [],
   "metadata": {
    "collapsed": false,
    "ExecuteTime": {
     "end_time": "2023-09-19T22:20:23.775608400Z",
     "start_time": "2023-09-19T22:20:23.655358200Z"
    }
   },
   "id": "6ce76b203d47d98"
  }
 ],
 "metadata": {
  "kernelspec": {
   "display_name": "Python 3",
   "language": "python",
   "name": "python3"
  },
  "language_info": {
   "codemirror_mode": {
    "name": "ipython",
    "version": 2
   },
   "file_extension": ".py",
   "mimetype": "text/x-python",
   "name": "python",
   "nbconvert_exporter": "python",
   "pygments_lexer": "ipython2",
   "version": "2.7.6"
  }
 },
 "nbformat": 4,
 "nbformat_minor": 5
}
