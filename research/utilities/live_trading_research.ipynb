{
 "cells": [
  {
   "cell_type": "code",
   "execution_count": null,
   "outputs": [],
   "source": [],
   "metadata": {
    "collapsed": false
   },
   "id": "e7257b46d11e4ce2"
  },
  {
   "cell_type": "code",
   "execution_count": 9,
   "outputs": [
    {
     "name": "stdout",
     "output_type": "stream",
     "text": [
      "$2000000 is available as buying power.\n"
     ]
    }
   ],
   "source": [
    "from alpaca.trading.client import TradingClient\n",
    "from alpaca.trading.requests import GetAssetsRequest\n",
    "\n",
    "trading_client = TradingClient('PKXYP4B1C236T3WB7260', '4FWCFUxloEaFcFdmzBR1HohGloWC1a3n47jgGjSc')\n",
    "\n",
    "# Get our account information.\n",
    "account = trading_client.get_account()\n",
    "\n",
    "# Check if our account is restricted from trading.\n",
    "if account.trading_blocked:\n",
    "    print('Account is currently restricted from trading.')\n",
    "\n",
    "# Check how much money we can use to open new positions.\n",
    "print('${} is available as buying power.'.format(account.buying_power))"
   ],
   "metadata": {
    "collapsed": false,
    "ExecuteTime": {
     "end_time": "2023-10-23T18:17:31.181430900Z",
     "start_time": "2023-10-23T18:17:30.950419100Z"
    }
   },
   "id": "178e157a97f2da2e"
  },
  {
   "cell_type": "code",
   "execution_count": 11,
   "outputs": [
    {
     "name": "stdout",
     "output_type": "stream",
     "text": [
      "We can trade AAPL.\n"
     ]
    }
   ],
   "source": [
    "aapl_asset = trading_client.get_asset('AAPL')\n",
    "\n",
    "if aapl_asset.tradable:\n",
    "    print('We can trade AAPL.')"
   ],
   "metadata": {
    "collapsed": false,
    "ExecuteTime": {
     "end_time": "2023-10-23T18:19:06.572559500Z",
     "start_time": "2023-10-23T18:19:06.384346Z"
    }
   },
   "id": "356bd0fc4ec71f47"
  },
  {
   "cell_type": "code",
   "execution_count": 14,
   "outputs": [],
   "source": [
    "# Initialize Alpaca API\n",
    "api_key = \"PKXYP4B1C236T3WB7260\"\n",
    "api_secret = \"4FWCFUxloEaFcFdmzBR1HohGloWC1a3n47jgGjSc\""
   ],
   "metadata": {
    "collapsed": false,
    "ExecuteTime": {
     "end_time": "2023-10-23T18:31:33.734897900Z",
     "start_time": "2023-10-23T18:31:33.731885100Z"
    }
   },
   "id": "f56f58ac99c35558"
  },
  {
   "cell_type": "code",
   "execution_count": 52,
   "outputs": [],
   "source": [
    "from alpaca.trading.client import TradingClient\n",
    "from alpaca.trading.requests import MarketOrderRequest\n",
    "from alpaca.trading.enums import OrderSide, TimeInForce\n",
    "from alpaca.data.historical import StockHistoricalDataClient\n",
    "from alpaca.data.requests import StockBarsRequest\n",
    "from alpaca.data.timeframe import TimeFrame\n",
    "from datetime import datetime, timedelta\n",
    "import pandas as pd\n",
    "from scipy.stats import zscore\n",
    "import time\n",
    "\n",
    "# Initialize Alpaca API\n",
    "api_key = \"PKXYP4B1C236T3WB7260\"\n",
    "api_secret = \"4FWCFUxloEaFcFdmzBR1HohGloWC1a3n47jgGjSc\"\n",
    "\n",
    "trading_client = TradingClient(api_key, api_secret, paper=True)\n",
    "historical_data_client = StockHistoricalDataClient(api_key, api_secret)\n",
    "\n",
    "# Define pairs and beta\n",
    "pairs = [\n",
    "    {'asset1': 'AAPL', 'asset2': 'MSFT', 'beta': 0.75},\n",
    "    # Add more pairs here\n",
    "]\n",
    "\n",
    "# Pairs trading logic\n",
    "for pair in pairs:\n",
    "    asset1 = pair['asset1']\n",
    "    asset2 = pair['asset2']\n",
    "    beta = pair['beta']\n",
    "\n",
    "    # Fetch historical data\n",
    "    end_date = datetime.now()\n",
    "    start_date = end_date - timedelta(days=120)  # Last 30 days\n",
    "\n",
    "    bars_request = StockBarsRequest(\n",
    "        symbol_or_symbols=[asset1, asset2],\n",
    "        timeframe=TimeFrame.Day,\n",
    "        start=start_date,\n",
    "        end=end_date\n",
    "    )\n",
    "\n",
    "    bars = historical_data_client.get_stock_bars(bars_request)\n",
    "    df1 = pd.DataFrame(bars[asset1])\n",
    "    df2 = pd.DataFrame(bars[asset2])\n",
    "\n",
    "    for col in df1.columns:\n",
    "        # Extract column name from the first row\n",
    "        column_name = df1[col].iloc[0][0] if isinstance(df1[col].iloc[0], tuple) else None\n",
    "\n",
    "        # Update each row in the column\n",
    "        df1[col] = df1[col].apply(lambda x: x[1] if isinstance(x, tuple) else x)\n",
    "\n",
    "        # Rename the column if column_name is not None\n",
    "        if column_name:\n",
    "            df1.rename(columns={col: column_name}, inplace=True)\n",
    "\n",
    "    # Repeat the same process for df2\n",
    "    for col in df2.columns:\n",
    "        # Extract column name from the first row\n",
    "        column_name = df2[col].iloc[0][0] if isinstance(df2[col].iloc[0], tuple) else None\n",
    "\n",
    "        # Update each row in the column\n",
    "        df2[col] = df2[col].apply(lambda x: x[1] if isinstance(x, tuple) else x)\n",
    "\n",
    "        # Rename the column if column_name is not None\n",
    "        if column_name:\n",
    "            df2.rename(columns={col: column_name}, inplace=True)\n",
    "            \n",
    "    # Assume both dataframes are aligned and have the same length\n",
    "    df = pd.DataFrame({\n",
    "        asset1: df1[\"close\"],\n",
    "        asset2: df2[\"close\"]\n",
    "    })\n",
    "\n",
    "    # Calculate spread and Z-score\n",
    "    df['spread'] = df[asset2] - beta * df[asset1]\n",
    "    df['zscore'] = zscore(df['spread'])\n",
    "\n",
    "    # Trading signals\n",
    "    UL = 1  # Upper limit\n",
    "    LL = -1  # Lower limit\n",
    "\n",
    "    holding_position = False  # Flag to indicate if we are holding a position\n",
    "\n",
    "    for i in range(len(df)):\n",
    "        if not holding_position:\n",
    "            if df['zscore'].iloc[i] > UL:\n",
    "                # Short asset1 and Long asset2\n",
    "                trading_client.submit_order(\n",
    "                    order_data=MarketOrderRequest(\n",
    "                        symbol=asset1,\n",
    "                        qty=1 * beta,\n",
    "                        side=OrderSide.SELL,\n",
    "                        time_in_force=TimeInForce.DAY\n",
    "                    )\n",
    "                )\n",
    "                trading_client.submit_order(\n",
    "                    order_data=MarketOrderRequest(\n",
    "                        symbol=asset2,\n",
    "                        qty=1,\n",
    "                        side=OrderSide.BUY,\n",
    "                        time_in_force=TimeInForce.DAY\n",
    "                    )\n",
    "                )\n",
    "                holding_position = True\n",
    "\n",
    "            elif df['zscore'].iloc[i] < LL:\n",
    "                # Long asset1 and Short asset2\n",
    "                trading_client.submit_order(\n",
    "                    order_data=MarketOrderRequest(\n",
    "                        symbol=asset1,\n",
    "                        qty=1 * beta,\n",
    "                        side=OrderSide.BUY,\n",
    "                        time_in_force=TimeInForce.DAY\n",
    "                    )\n",
    "                )\n",
    "                trading_client.submit_order(\n",
    "                    order_data=MarketOrderRequest(\n",
    "                        symbol=asset2,\n",
    "                        qty=1,\n",
    "                        side=OrderSide.SELL,\n",
    "                        time_in_force=TimeInForce.DAY\n",
    "                    )\n",
    "                )\n",
    "                holding_position = True\n",
    "\n",
    "        elif holding_position:\n",
    "            if abs(df['zscore'].iloc[i]) < 0.5:\n",
    "                # Close the existing position\n",
    "                # (You'll need to add logic to close the position based on your last trade side)\n",
    "\n",
    "                holding_position = False\n",
    "\n",
    "        # Sleep to avoid hitting rate limits\n",
    "        time.sleep(1)\n",
    "        "
   ],
   "metadata": {
    "collapsed": false,
    "ExecuteTime": {
     "end_time": "2023-10-23T18:47:52.968994500Z",
     "start_time": "2023-10-23T18:47:31.386308900Z"
    }
   },
   "id": "ea6da6b7b0a63fd"
  },
  {
   "cell_type": "code",
   "execution_count": null,
   "outputs": [],
   "source": [],
   "metadata": {
    "collapsed": false
   },
   "id": "c0bc49a8fed1ee36"
  }
 ],
 "metadata": {
  "kernelspec": {
   "display_name": "Python 3",
   "language": "python",
   "name": "python3"
  },
  "language_info": {
   "codemirror_mode": {
    "name": "ipython",
    "version": 2
   },
   "file_extension": ".py",
   "mimetype": "text/x-python",
   "name": "python",
   "nbconvert_exporter": "python",
   "pygments_lexer": "ipython2",
   "version": "2.7.6"
  }
 },
 "nbformat": 4,
 "nbformat_minor": 5
}
