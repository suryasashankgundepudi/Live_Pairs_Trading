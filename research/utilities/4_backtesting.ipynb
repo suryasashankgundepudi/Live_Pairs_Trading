{
 "cells": [
  {
   "cell_type": "markdown",
   "id": "8d6dbba005c90a57",
   "metadata": {},
   "source": [
    "# Backtesting the Strategy\n",
    "\n",
    "Here we will be looking at how the strategy has performed in the last 6 months and then using this we will decide if we need to move further or not. \n",
    "\n",
    "One addition to your previous code would be to add another column for the beta between the assets. \n",
    "\n",
    "This way we can get the hedge ratio. \n",
    "\n",
    "\n",
    "I have made a dummy csv fiole for myself in my data folder and you can use that as reference. Bottom attached is the code.\n",
    "\n",
    "Here is a task list for those who want to code. Otherwise you can use mine as reference\n",
    "\n",
    "## Pairs Trading Strategy with Beta as Hedge Ratio: Task List\n",
    "### Data Preparation and Research\n",
    "Asset Pairs Selection: Identify and finalize the list of asset pairs for pairs trading. Record their hedge ratios (beta) based on historical data.\n",
    "Data Collection: Research and decide on the data source for real-time or historical price data for selected asset pairs.\n",
    "### Code Development\n",
    "Fetch Asset Data: Write code to fetch historical or real-time price data for the selected asset pairs.\n",
    "Calculate Spread: Implement logic to calculate the spread between each asset pair using the formula \n",
    "Spread = Asset2 − beta × Asset1\n",
    "Spread=Asset2−β×Asset1.\n",
    "Z-Score Calculation: Calculate the z-score of the spread to standardize it.\n",
    "Signal Generation: Generate trading signals based on the calculated z-score. Define upper and lower thresholds for entering and exiting trades.\n",
    "Use Beta as Hedge Ratio: Implement logic to use beta as a hedge ratio while placing trades to make the portfolio market-neutral.\n",
    "\n",
    "\n"
   ]
  },
  {
   "cell_type": "markdown",
   "id": "a6fd370c2dd2e918",
   "metadata": {},
   "source": []
  },
  {
   "cell_type": "code",
   "execution_count": 9,
   "id": "238664a5b102eae5",
   "metadata": {
    "ExecuteTime": {
     "end_time": "2023-10-24T20:13:57.536177500Z",
     "start_time": "2023-10-24T20:13:57.528488200Z"
    }
   },
   "outputs": [],
   "source": [
    "# Importing additional necessary libraries for quant metrics and plotting\n",
    "from pyfolio.timeseries import perf_stats\n",
    "import plotly.graph_objs as go\n",
    "import os\n",
    "import pandas as pd\n",
    "import numpy as np\n",
    "from datetime import datetime\n",
    "from dateutil.relativedelta import relativedelta\n",
    "from scipy.stats import zscore\n",
    "import yfinance as yf\n",
    "import warnings\n",
    "\n",
    "# Ignore all warnings\n",
    "warnings.filterwarnings(\"ignore\")\n"
   ]
  },
  {
   "cell_type": "code",
   "execution_count": 10,
   "id": "73533c6be501b120",
   "metadata": {
    "ExecuteTime": {
     "end_time": "2023-10-24T20:13:58.773303400Z",
     "start_time": "2023-10-24T20:13:58.751923100Z"
    }
   },
   "outputs": [],
   "source": [
    "def backtest(df_trading, asset1 : str, asset2 : str, beta: float):\n",
    "    metrics = {}\n",
    "\n",
    "    df_trading['spread'] = df_trading[asset2] - beta * df_trading[asset1]\n",
    "    df_trading['zscore'] = zscore(df_trading['spread'])\n",
    "\n",
    "    UL = df_trading['zscore'].mean() + df_trading['zscore'].std()\n",
    "    LL = df_trading['zscore'].mean() - df_trading['zscore'].std()\n",
    "\n",
    "    holding_position = False  # Flag to indicate if we are holding a position\n",
    "    df_trading['asset1_signal'] = 0\n",
    "    df_trading['asset2_signal'] = 0\n",
    "\n",
    "    for i in range(1, len(df_trading)):\n",
    "        if not holding_position:\n",
    "            if df_trading['zscore'].iloc[i] > UL:\n",
    "                df_trading['asset1_signal'].iloc[i] = -beta\n",
    "                df_trading['asset2_signal'].iloc[i] = 1\n",
    "                holding_position = True  # Now holding a position\n",
    "\n",
    "            elif df_trading['zscore'].iloc[i] < LL:\n",
    "                df_trading['asset1_signal'].iloc[i] = beta\n",
    "                df_trading['asset2_signal'].iloc[i] = -1\n",
    "                holding_position = True  # Now holding a position\n",
    "\n",
    "        elif holding_position:\n",
    "            if LL <= df_trading['zscore'].iloc[i] <= UL:\n",
    "                # Closing the trade\n",
    "                df_trading['asset1_signal'].iloc[i] = -df_trading['asset1_signal'].iloc[i-1]  # Reverse the last trade\n",
    "                df_trading['asset2_signal'].iloc[i] = -df_trading['asset2_signal'].iloc[i-1]\n",
    "                holding_position = False  # No longer holding a position\n",
    "\n",
    "        # Daily returns\n",
    "    df_trading['asset1_signal'] = df_trading['asset1_signal'].shift(1)\n",
    "    df_trading['asset2_signal'] = df_trading['asset2_signal'].shift(1)\n",
    "\n",
    "    df_trading['asset1_returns'] = df_trading[asset1].pct_change() * df_trading['asset1_signal']\n",
    "    df_trading['asset2_returns'] = df_trading[asset2].pct_change() * df_trading['asset2_signal']\n",
    "\n",
    "    df_trading['portfolio_returns'] = df_trading['asset1_returns'] + df_trading['asset2_returns']\n",
    "\n",
    "    # Quantitative metrics\n",
    "    stats = perf_stats(df_trading['portfolio_returns'].dropna())\n",
    "    metrics['CAGR'] = stats['Annual return']\n",
    "    metrics['Sharpe ratio'] = stats['Sharpe ratio']\n",
    "    metrics['Max Drawdown'] = stats['Max drawdown']\n",
    "    metrics['Number of Trades'] = df_trading['asset1_signal'].ne(0).sum()  # Counting non-zero entries\n",
    "\n",
    "    return metrics, df_trading"
   ]
  },
  {
   "cell_type": "code",
   "execution_count": 11,
   "id": "7eb8936cb94d59cb",
   "metadata": {
    "ExecuteTime": {
     "end_time": "2023-10-24T20:14:00.533986400Z",
     "start_time": "2023-10-24T20:14:00.513551600Z"
    }
   },
   "outputs": [],
   "source": [
    "# Function to save the trading signals graph\n",
    "def save_plotly_graph(df, asset1, asset2):\n",
    "    # Create directory if it doesn't exist\n",
    "    if not os.path.exists('img/signals'):\n",
    "        os.makedirs('img/signals')\n",
    "\n",
    "    # Create the figure\n",
    "    fig = go.Figure()\n",
    "\n",
    "    # Add z-score trace\n",
    "    fig.add_trace(go.Scatter(x=df.index, y=df['zscore'], mode='lines', name='Z-Score'))\n",
    "\n",
    "    # Add upper and lower limits as dashed lines\n",
    "    UL = df['zscore'].mean() + df['zscore'].std()\n",
    "    LL = df['zscore'].mean() - df['zscore'].std()\n",
    "\n",
    "    fig.add_trace(go.Scatter(x=df.index, y=[UL]*len(df.index), mode='lines', name='Upper Limit', line=dict(dash='dash')))\n",
    "    fig.add_trace(go.Scatter(x=df.index, y=[LL]*len(df.index), mode='lines', name='Lower Limit', line=dict(dash='dash')))\n",
    "\n",
    "    # Add buy and sell signals\n",
    "    fig.add_trace(go.Scatter(x=df.index, y=df['zscore'].where(df['asset1_signal'] > 0),\n",
    "                             mode='markers', name='Buy Signal', marker=dict(color='green', symbol='triangle-up')))\n",
    "\n",
    "    fig.add_trace(go.Scatter(x=df.index, y=df['zscore'].where(df['asset1_signal'] < 0),\n",
    "                             mode='markers', name='Sell Signal', marker=dict(color='red', symbol='triangle-down')))\n",
    "\n",
    "    # Layout options\n",
    "    fig.update_layout(title=f'Trading Signals for {asset1} and {asset2}',\n",
    "                      xaxis_title='Date',\n",
    "                      yaxis_title='Z-Score')\n",
    "\n",
    "    # Save the figure\n",
    "    fig.write_html(f'img/signals/{asset1}_{asset2}.html')\n"
   ]
  },
  {
   "cell_type": "code",
   "execution_count": 12,
   "id": "886ea4ea524cddbf",
   "metadata": {
    "ExecuteTime": {
     "end_time": "2023-10-24T20:14:00.720540900Z",
     "start_time": "2023-10-24T20:14:00.708519900Z"
    }
   },
   "outputs": [],
   "source": [
    "# Main function\n",
    "def main(csv_path: str):\n",
    "    # Read the CSV file\n",
    "    asset_pairs = pd.read_csv(csv_path)\n",
    "\n",
    "    # Initialize metrics DataFrame\n",
    "    metrics_df = pd.DataFrame(columns=['Pair Name', 'CAGR', 'Sharpe Ratio', 'Number of Trades', 'Max Drawdown'])\n",
    "\n",
    "    # Date range for backtesting (Last 6 months)\n",
    "    end = datetime.now().date()\n",
    "    start = (datetime.now() - relativedelta(months=6)).date()\n",
    "\n",
    "    for index, row in asset_pairs.iterrows():\n",
    "        print(\"Running Backtest for Asset Pair\")\n",
    "        asset1 = row['Asset1']\n",
    "        asset2 = row['Asset2']\n",
    "        beta = row['Beta']\n",
    "        print(\"Downloading Data\")\n",
    "        # Download data\n",
    "        asset1_data = yf.download(asset1, start=start, end=end, progress=False)['Adj Close']\n",
    "        asset2_data = yf.download(asset2, start=start, end=end, progress=False)['Adj Close']\n",
    "\n",
    "        # DataFrame for backtesting\n",
    "        df_trading = pd.DataFrame({asset1: asset1_data, asset2: asset2_data})\n",
    "        print(\"Running Backtest metrics\")\n",
    "        # Backtest and get metrics and signals\n",
    "        metrics, signals_df = backtest(df_trading, asset1, asset2, beta)\n",
    "\n",
    "        new_row = pd.DataFrame({\n",
    "        'Pair Name': [f'{asset1}_{asset2}'],\n",
    "        'CAGR': [metrics['CAGR']],\n",
    "        'Sharpe Ratio': [metrics['Sharpe ratio']],\n",
    "        'Number of Trades': [metrics['Number of Trades']],\n",
    "        'Max Drawdown': [metrics['Max Drawdown']]\n",
    "        })\n",
    "\n",
    "        metrics_df = pd.concat([metrics_df, new_row], ignore_index=True)\n",
    "\n",
    "\n",
    "        # Save the Plotly graph\n",
    "        save_plotly_graph(signals_df, asset1, asset2)\n",
    "\n",
    "    # Save the metrics DataFrame\n",
    "    metrics_df.to_csv('data/backtest.csv', index=False)"
   ]
  },
  {
   "cell_type": "code",
   "execution_count": 13,
   "id": "d3470939b8c3d036",
   "metadata": {
    "ExecuteTime": {
     "end_time": "2023-10-24T20:14:03.637820600Z",
     "start_time": "2023-10-24T20:14:01.923608100Z"
    }
   },
   "outputs": [
    {
     "name": "stdout",
     "output_type": "stream",
     "text": [
      "Running Backtest for Asset Pair\n",
      "Downloading Data\n",
      "Running Backtest metrics\n",
      "Running Backtest for Asset Pair\n",
      "Downloading Data\n",
      "Running Backtest metrics\n"
     ]
    }
   ],
   "source": [
    "main(\"data/final_pairs.csv\")"
   ]
  },
  {
   "cell_type": "code",
   "execution_count": 14,
   "id": "c259e74251db6aaf",
   "metadata": {
    "ExecuteTime": {
     "end_time": "2023-10-24T20:14:05.021219Z",
     "start_time": "2023-10-24T20:14:04.989939800Z"
    }
   },
   "outputs": [],
   "source": [
    "backtest_df = pd.read_csv(\"data/backtest.csv\")"
   ]
  },
  {
   "cell_type": "code",
   "execution_count": 15,
   "id": "78211d717d4056c3",
   "metadata": {
    "ExecuteTime": {
     "end_time": "2023-10-24T20:14:05.936412900Z",
     "start_time": "2023-10-24T20:14:05.868286900Z"
    }
   },
   "outputs": [
    {
     "data": {
      "text/plain": "  Pair Name      CAGR  Sharpe Ratio  Number of Trades  Max Drawdown\n0   CMS_CEG -0.065987     -1.738923                 8     -0.040536\n1   CNP_AEE  0.008500      0.421663                 6     -0.009670",
      "text/html": "<div>\n<style scoped>\n    .dataframe tbody tr th:only-of-type {\n        vertical-align: middle;\n    }\n\n    .dataframe tbody tr th {\n        vertical-align: top;\n    }\n\n    .dataframe thead th {\n        text-align: right;\n    }\n</style>\n<table border=\"1\" class=\"dataframe\">\n  <thead>\n    <tr style=\"text-align: right;\">\n      <th></th>\n      <th>Pair Name</th>\n      <th>CAGR</th>\n      <th>Sharpe Ratio</th>\n      <th>Number of Trades</th>\n      <th>Max Drawdown</th>\n    </tr>\n  </thead>\n  <tbody>\n    <tr>\n      <th>0</th>\n      <td>CMS_CEG</td>\n      <td>-0.065987</td>\n      <td>-1.738923</td>\n      <td>8</td>\n      <td>-0.040536</td>\n    </tr>\n    <tr>\n      <th>1</th>\n      <td>CNP_AEE</td>\n      <td>0.008500</td>\n      <td>0.421663</td>\n      <td>6</td>\n      <td>-0.009670</td>\n    </tr>\n  </tbody>\n</table>\n</div>"
     },
     "execution_count": 15,
     "metadata": {},
     "output_type": "execute_result"
    }
   ],
   "source": [
    "backtest_df"
   ]
  },
  {
   "cell_type": "code",
   "execution_count": null,
   "outputs": [],
   "source": [],
   "metadata": {
    "collapsed": false
   },
   "id": "c468e8927b107488"
  }
 ],
 "metadata": {
  "kernelspec": {
   "display_name": "Python 3 (ipykernel)",
   "language": "python",
   "name": "python3"
  },
  "language_info": {
   "codemirror_mode": {
    "name": "ipython",
    "version": 3
   },
   "file_extension": ".py",
   "mimetype": "text/x-python",
   "name": "python",
   "nbconvert_exporter": "python",
   "pygments_lexer": "ipython3",
   "version": "3.11.3"
  }
 },
 "nbformat": 4,
 "nbformat_minor": 5
}
