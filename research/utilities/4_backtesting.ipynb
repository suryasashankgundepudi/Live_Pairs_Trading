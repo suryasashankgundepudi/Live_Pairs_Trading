{
 "cells": [
  {
   "cell_type": "markdown",
   "source": [
    "# Backtesting the Strategy\n",
    "\n",
    "Here we will be looking at how the strategy has performed in the last 6 months and then using this we will decide if we need to move further or not. \n",
    "\n",
    "One addition to your previous code would be to add another column for the beta between the assets. \n",
    "\n",
    "This way we can get the hedge ratio. \n",
    "\n",
    "\n",
    "I have made a dummy csv fiole for myself in my data folder and you can use that as reference. Bottom attached is the code.\n",
    "\n",
    "Here is a task list for those who want to code. Otherwise you can use mine as reference\n",
    "\n",
    "## Pairs Trading Strategy with Beta as Hedge Ratio: Task List\n",
    "### Data Preparation and Research\n",
    "Asset Pairs Selection: Identify and finalize the list of asset pairs for pairs trading. Record their hedge ratios (beta) based on historical data.\n",
    "Data Collection: Research and decide on the data source for real-time or historical price data for selected asset pairs.\n",
    "### Code Development\n",
    "Fetch Asset Data: Write code to fetch historical or real-time price data for the selected asset pairs.\n",
    "Calculate Spread: Implement logic to calculate the spread between each asset pair using the formula \n",
    "Spread = Asset2 − beta × Asset1\n",
    "Spread=Asset2−β×Asset1.\n",
    "Z-Score Calculation: Calculate the z-score of the spread to standardize it.\n",
    "Signal Generation: Generate trading signals based on the calculated z-score. Define upper and lower thresholds for entering and exiting trades.\n",
    "Use Beta as Hedge Ratio: Implement logic to use beta as a hedge ratio while placing trades to make the portfolio market-neutral.\n",
    "\n",
    "\n"
   ],
   "metadata": {
    "collapsed": false
   },
   "id": "8d6dbba005c90a57"
  },
  {
   "cell_type": "markdown",
   "source": [
    "# Pairs Trading Backtesting Framework\n",
    "\n",
    "## Overview\n",
    "\n",
    "This Python script performs a backtest on pairs trading strategies. Given a list of asset pairs and their hedge ratios (beta), the script does the following:\n",
    "\n",
    "1. **Fetches historical data**: Uses Yahoo Finance to get historical price data for each asset in a pair.\n",
    "2. **Calculates the spread**: Computes the spread between each pair based on the given beta.\n",
    "3. **Generates trading signals**: Determines long and short positions based on the z-score of the spread.\n",
    "4. **Calculates performance metrics**: Computes metrics like CAGR, Sharpe Ratio, Number of Trades, and Drawdown.\n",
    "5. **Visualizes trading signals**: Plots the spread and trading signals for each pair.\n",
    "6. **Saves Results**: Outputs the performance metrics to a CSV file and saves the plots.\n",
    "\n",
    "## Code Sections\n",
    "\n",
    "### Importing Libraries\n",
    "\n",
    "The script starts by importing necessary Python libraries such as `pandas`, `numpy`, `datetime`, `yfinance`, `pyfolio`, and `plotly`.\n",
    "\n",
    "### Function: `backtest(df_trading, asset1, asset2, beta)`\n",
    "\n",
    "This function performs the core backtesting logic. It takes as input:\n",
    "\n",
    "- `df_trading`: A DataFrame with historical prices for each asset in the pair\n",
    "- `asset1`, `asset2`: The names of the assets in the pair\n",
    "- `beta`: The hedge ratio for the pair\n",
    "\n",
    "The function returns a dictionary of metrics like CAGR, Sharpe ratio, and drawdown. It also updates `df_trading` to include columns for spread, z-score, and trading signals.\n",
    "\n",
    "### Function: `save_plotly_graph(df, asset1, asset2)`\n",
    "\n",
    "This function takes a DataFrame with spread and trading signals, along with asset names, and saves a Plotly graph visualizing the spread and trading signals.\n",
    "\n",
    "### Function: `main(csv_path)`\n",
    "\n",
    "This is the main function that orchestrates the backtesting process. It:\n",
    "\n",
    "1. Reads a CSV file with asset pairs and their hedge ratios.\n",
    "2. Iterates through each pair, fetches historical data, and performs backtesting.\n",
    "3. Saves the performance metrics to a CSV file.\n",
    "4. Calls `save_plotly_graph()` to save the trading signals graph for each pair.\n",
    "\n",
    "## How to Run\n",
    "\n",
    "1. Make sure you have all the required libraries installed.\n",
    "2. Place a CSV file with asset pairs and their hedge ratios in the same directory as the script. The CSV should have columns ['Asset1', 'Asset2', 'Beta'].\n",
    "3. Run the script. The performance metrics will be saved to `data/backtest.csv` and the trading signals graphs will be saved in `img/signals/`."
   ],
   "metadata": {
    "collapsed": false
   },
   "id": "2bd2d606fa2c5894"
  },
  {
   "cell_type": "markdown",
   "source": [
    "```python\n",
    "!pip install pyfolio\n",
    "```"
   ],
   "metadata": {
    "collapsed": false
   },
   "id": "a6fd370c2dd2e918"
  },
  {
   "cell_type": "code",
   "execution_count": 28,
   "outputs": [],
   "source": [
    "# Importing additional necessary libraries for quant metrics and plotting\n",
    "from pyfolio.timeseries import perf_stats\n",
    "import plotly.graph_objs as go\n",
    "import os\n",
    "import pandas as pd\n",
    "import numpy as np\n",
    "from datetime import datetime\n",
    "from dateutil.relativedelta import relativedelta\n",
    "from scipy.stats import zscore\n",
    "import yfinance as yf"
   ],
   "metadata": {
    "collapsed": false,
    "ExecuteTime": {
     "end_time": "2023-10-23T12:42:23.164521900Z",
     "start_time": "2023-10-23T12:42:23.152853800Z"
    }
   },
   "id": "238664a5b102eae5"
  },
  {
   "cell_type": "markdown",
   "source": [
    "```python\n",
    "# Updated function to backtest a given asset pair\n",
    "def backtest(df_trading, asset1 : str, asset2 : str, beta: float):\n",
    "    # Initialize metrics dictionary\n",
    "    metrics = {}\n",
    "\n",
    "    # Calculate the spread and z-score\n",
    "    df_trading['spread'] = df_trading[asset2] - beta * df_trading[asset1]\n",
    "    df_trading['zscore'] = zscore(df_trading['spread'])\n",
    "\n",
    "    # Trading signals\n",
    "    UL = df_trading['zscore'].mean() + df_trading['zscore'].std()\n",
    "    LL = df_trading['zscore'].mean() - df_trading['zscore'].std()\n",
    "\n",
    "    # Generating trading signals based on z-score and beta\n",
    "    df_trading['asset1_signal'] = np.where(df_trading['zscore'] > UL, -beta, 0)\n",
    "    df_trading['asset1_signal'] = np.where(df_trading['zscore'] < LL, beta, df_trading['asset1_signal'])\n",
    "\n",
    "    df_trading['asset2_signal'] = np.where(df_trading['zscore'] > UL, 1, 0)\n",
    "    df_trading['asset2_signal'] = np.where(df_trading['zscore'] < LL, -1, df_trading['asset2_signal'])\n",
    "\n",
    "    # Daily returns\n",
    "    df_trading['asset1_returns'] = df_trading[asset1].pct_change() * df_trading['asset1_signal']\n",
    "    df_trading['asset2_returns'] = df_trading[asset2].pct_change() * df_trading['asset2_signal']\n",
    "\n",
    "    df_trading['portfolio_returns'] = df_trading['asset1_returns'] + df_trading['asset2_returns']\n",
    "\n",
    "    # Quantitative metrics\n",
    "    stats = perf_stats(df_trading['portfolio_returns'].dropna())\n",
    "    metrics['CAGR'] = stats['Annual return']\n",
    "    metrics['Sharpe ratio'] = stats['Sharpe ratio']\n",
    "    metrics['Max Drawdown'] = stats['Max drawdown']\n",
    "    metrics['Number of Trades'] = df_trading['asset1_signal'].ne(0).sum()  # Counting non-zero entries\n",
    "\n",
    "    return metrics, df_trading\n",
    "```"
   ],
   "metadata": {
    "collapsed": false
   },
   "id": "f20b4f1b5e872510"
  },
  {
   "cell_type": "code",
   "execution_count": 36,
   "outputs": [],
   "source": [
    "def backtest(df_trading, asset1 : str, asset2 : str, beta: float):\n",
    "    metrics = {}\n",
    "\n",
    "    df_trading['spread'] = df_trading[asset2] - beta * df_trading[asset1]\n",
    "    df_trading['zscore'] = zscore(df_trading['spread'])\n",
    "\n",
    "    UL = df_trading['zscore'].mean() + df_trading['zscore'].std()\n",
    "    LL = df_trading['zscore'].mean() - df_trading['zscore'].std()\n",
    "\n",
    "    holding_position = False  # Flag to indicate if we are holding a position\n",
    "    df_trading['asset1_signal'] = 0\n",
    "    df_trading['asset2_signal'] = 0\n",
    "\n",
    "    for i in range(1, len(df_trading)):\n",
    "        if not holding_position:\n",
    "            if df_trading['zscore'].iloc[i] > UL:\n",
    "                df_trading['asset1_signal'].iloc[i] = -beta\n",
    "                df_trading['asset2_signal'].iloc[i] = 1\n",
    "                holding_position = True  # Now holding a position\n",
    "\n",
    "            elif df_trading['zscore'].iloc[i] < LL:\n",
    "                df_trading['asset1_signal'].iloc[i] = beta\n",
    "                df_trading['asset2_signal'].iloc[i] = -1\n",
    "                holding_position = True  # Now holding a position\n",
    "\n",
    "        elif holding_position:\n",
    "            if LL <= df_trading['zscore'].iloc[i] <= UL:\n",
    "                # Closing the trade\n",
    "                df_trading['asset1_signal'].iloc[i] = -df_trading['asset1_signal'].iloc[i-1]  # Reverse the last trade\n",
    "                df_trading['asset2_signal'].iloc[i] = -df_trading['asset2_signal'].iloc[i-1]\n",
    "                holding_position = False  # No longer holding a position\n",
    "\n",
    "        # Daily returns\n",
    "    df_trading['asset1_returns'] = df_trading[asset1].pct_change() * df_trading['asset1_signal']\n",
    "    df_trading['asset2_returns'] = df_trading[asset2].pct_change() * df_trading['asset2_signal']\n",
    "\n",
    "    df_trading['portfolio_returns'] = df_trading['asset1_returns'] + df_trading['asset2_returns']\n",
    "\n",
    "    # Quantitative metrics\n",
    "    stats = perf_stats(df_trading['portfolio_returns'].dropna())\n",
    "    metrics['CAGR'] = stats['Annual return']\n",
    "    metrics['Sharpe ratio'] = stats['Sharpe ratio']\n",
    "    metrics['Max Drawdown'] = stats['Max drawdown']\n",
    "    metrics['Number of Trades'] = df_trading['asset1_signal'].ne(0).sum()  # Counting non-zero entries\n",
    "\n",
    "    return metrics, df_trading"
   ],
   "metadata": {
    "collapsed": false,
    "ExecuteTime": {
     "end_time": "2023-10-23T12:52:44.233128400Z",
     "start_time": "2023-10-23T12:52:44.225817200Z"
    }
   },
   "id": "73533c6be501b120"
  },
  {
   "cell_type": "code",
   "execution_count": 37,
   "outputs": [],
   "source": [
    "# Function to save the trading signals graph\n",
    "def save_plotly_graph(df, asset1, asset2):\n",
    "    # Create directory if it doesn't exist\n",
    "    if not os.path.exists('img/signals'):\n",
    "        os.makedirs('img/signals')\n",
    "\n",
    "    # Create the figure\n",
    "    fig = go.Figure()\n",
    "\n",
    "    # Add z-score trace\n",
    "    fig.add_trace(go.Scatter(x=df.index, y=df['zscore'], mode='lines', name='Z-Score'))\n",
    "\n",
    "    # Add upper and lower limits as dashed lines\n",
    "    UL = df['zscore'].mean() + df['zscore'].std()\n",
    "    LL = df['zscore'].mean() - df['zscore'].std()\n",
    "\n",
    "    fig.add_trace(go.Scatter(x=df.index, y=[UL]*len(df.index), mode='lines', name='Upper Limit', line=dict(dash='dash')))\n",
    "    fig.add_trace(go.Scatter(x=df.index, y=[LL]*len(df.index), mode='lines', name='Lower Limit', line=dict(dash='dash')))\n",
    "\n",
    "    # Add buy and sell signals\n",
    "    fig.add_trace(go.Scatter(x=df.index, y=df['zscore'].where(df['asset1_signal'] > 0),\n",
    "                             mode='markers', name='Buy Signal', marker=dict(color='green', symbol='triangle-up')))\n",
    "\n",
    "    fig.add_trace(go.Scatter(x=df.index, y=df['zscore'].where(df['asset1_signal'] < 0),\n",
    "                             mode='markers', name='Sell Signal', marker=dict(color='red', symbol='triangle-down')))\n",
    "\n",
    "    # Layout options\n",
    "    fig.update_layout(title=f'Trading Signals for {asset1} and {asset2}',\n",
    "                      xaxis_title='Date',\n",
    "                      yaxis_title='Z-Score')\n",
    "\n",
    "    # Save the figure\n",
    "    fig.write_html(f'img/signals/{asset1}_{asset2}.html')\n"
   ],
   "metadata": {
    "collapsed": false,
    "ExecuteTime": {
     "end_time": "2023-10-23T12:52:45.410827900Z",
     "start_time": "2023-10-23T12:52:45.403136800Z"
    }
   },
   "id": "7eb8936cb94d59cb"
  },
  {
   "cell_type": "code",
   "execution_count": 38,
   "outputs": [],
   "source": [
    "# Main function\n",
    "def main(csv_path: str):\n",
    "    # Read the CSV file\n",
    "    asset_pairs = pd.read_csv(csv_path)\n",
    "\n",
    "    # Initialize metrics DataFrame\n",
    "    metrics_df = pd.DataFrame(columns=['Pair Name', 'CAGR', 'Sharpe Ratio', 'Number of Trades', 'Max Drawdown'])\n",
    "\n",
    "    # Date range for backtesting (Last 6 months)\n",
    "    end = datetime.now().date()\n",
    "    start = (datetime.now() - relativedelta(months=6)).date()\n",
    "\n",
    "    for index, row in asset_pairs.iterrows():\n",
    "        print(\"Running Backtest for Asset Pair\")\n",
    "        asset1 = row['Asset1']\n",
    "        asset2 = row['Asset2']\n",
    "        beta = row['Beta']\n",
    "        print(\"Downloading Data\")\n",
    "        # Download data\n",
    "        asset1_data = yf.download(asset1, start=start, end=end, progress=False)['Adj Close']\n",
    "        asset2_data = yf.download(asset2, start=start, end=end, progress=False)['Adj Close']\n",
    "\n",
    "        # DataFrame for backtesting\n",
    "        df_trading = pd.DataFrame({asset1: asset1_data, asset2: asset2_data})\n",
    "        print(\"Running Backtest metrics\")\n",
    "        # Backtest and get metrics and signals\n",
    "        metrics, signals_df = backtest(df_trading, asset1, asset2, beta)\n",
    "\n",
    "        # Append to metrics DataFrame\n",
    "        metrics_df = metrics_df.append({\n",
    "            'Pair Name': f'{asset1}_{asset2}',\n",
    "            'CAGR': metrics['CAGR'],\n",
    "            'Sharpe Ratio': metrics['Sharpe ratio'],\n",
    "            'Number of Trades': metrics['Number of Trades'],\n",
    "            'Max Drawdown': metrics['Max Drawdown']\n",
    "        }, ignore_index=True)\n",
    "\n",
    "        # Save the Plotly graph\n",
    "        save_plotly_graph(signals_df, asset1, asset2)\n",
    "\n",
    "    # Save the metrics DataFrame\n",
    "    metrics_df.to_csv('data/backtest.csv', index=False)"
   ],
   "metadata": {
    "collapsed": false,
    "ExecuteTime": {
     "end_time": "2023-10-23T12:52:46.589002900Z",
     "start_time": "2023-10-23T12:52:46.582961800Z"
    }
   },
   "id": "886ea4ea524cddbf"
  },
  {
   "cell_type": "code",
   "execution_count": 39,
   "outputs": [
    {
     "name": "stdout",
     "output_type": "stream",
     "text": [
      "Running Backtest for Asset Pair\n",
      "Downloading Data\n",
      "Running Backtest metrics\n",
      "Running Backtest for Asset Pair\n",
      "Downloading Data\n"
     ]
    },
    {
     "name": "stderr",
     "output_type": "stream",
     "text": [
      "C:\\Users\\sasha\\AppData\\Local\\Temp\\ipykernel_12264\\3510132785.py:22: SettingWithCopyWarning:\n",
      "\n",
      "\n",
      "A value is trying to be set on a copy of a slice from a DataFrame\n",
      "\n",
      "See the caveats in the documentation: https://pandas.pydata.org/pandas-docs/stable/user_guide/indexing.html#returning-a-view-versus-a-copy\n",
      "\n",
      "C:\\Users\\sasha\\AppData\\Local\\Temp\\ipykernel_12264\\3510132785.py:23: SettingWithCopyWarning:\n",
      "\n",
      "\n",
      "A value is trying to be set on a copy of a slice from a DataFrame\n",
      "\n",
      "See the caveats in the documentation: https://pandas.pydata.org/pandas-docs/stable/user_guide/indexing.html#returning-a-view-versus-a-copy\n",
      "\n",
      "C:\\Users\\sasha\\AppData\\Local\\Temp\\ipykernel_12264\\3510132785.py:30: SettingWithCopyWarning:\n",
      "\n",
      "\n",
      "A value is trying to be set on a copy of a slice from a DataFrame\n",
      "\n",
      "See the caveats in the documentation: https://pandas.pydata.org/pandas-docs/stable/user_guide/indexing.html#returning-a-view-versus-a-copy\n",
      "\n",
      "C:\\Users\\sasha\\AppData\\Local\\Temp\\ipykernel_12264\\3510132785.py:18: SettingWithCopyWarning:\n",
      "\n",
      "\n",
      "A value is trying to be set on a copy of a slice from a DataFrame\n",
      "\n",
      "See the caveats in the documentation: https://pandas.pydata.org/pandas-docs/stable/user_guide/indexing.html#returning-a-view-versus-a-copy\n",
      "\n",
      "C:\\Users\\sasha\\anaconda3\\Lib\\site-packages\\pyfolio\\timeseries.py:724: FutureWarning:\n",
      "\n",
      "The default dtype for empty Series will be 'object' instead of 'float64' in a future version. Specify a dtype explicitly to silence this warning.\n",
      "\n",
      "C:\\Users\\sasha\\anaconda3\\Lib\\site-packages\\empyrical\\stats.py:799: RuntimeWarning:\n",
      "\n",
      "divide by zero encountered in divide\n",
      "\n",
      "C:\\Users\\sasha\\anaconda3\\Lib\\site-packages\\empyrical\\stats.py:1527: RuntimeWarning:\n",
      "\n",
      "divide by zero encountered in scalar divide\n",
      "\n",
      "C:\\Users\\sasha\\AppData\\Local\\Temp\\ipykernel_12264\\2807179745.py:30: FutureWarning:\n",
      "\n",
      "The frame.append method is deprecated and will be removed from pandas in a future version. Use pandas.concat instead.\n",
      "\n"
     ]
    },
    {
     "name": "stdout",
     "output_type": "stream",
     "text": [
      "Running Backtest metrics\n"
     ]
    },
    {
     "name": "stderr",
     "output_type": "stream",
     "text": [
      "C:\\Users\\sasha\\AppData\\Local\\Temp\\ipykernel_12264\\3510132785.py:17: SettingWithCopyWarning:\n",
      "\n",
      "\n",
      "A value is trying to be set on a copy of a slice from a DataFrame\n",
      "\n",
      "See the caveats in the documentation: https://pandas.pydata.org/pandas-docs/stable/user_guide/indexing.html#returning-a-view-versus-a-copy\n",
      "\n",
      "C:\\Users\\sasha\\AppData\\Local\\Temp\\ipykernel_12264\\3510132785.py:18: SettingWithCopyWarning:\n",
      "\n",
      "\n",
      "A value is trying to be set on a copy of a slice from a DataFrame\n",
      "\n",
      "See the caveats in the documentation: https://pandas.pydata.org/pandas-docs/stable/user_guide/indexing.html#returning-a-view-versus-a-copy\n",
      "\n",
      "C:\\Users\\sasha\\AppData\\Local\\Temp\\ipykernel_12264\\3510132785.py:30: SettingWithCopyWarning:\n",
      "\n",
      "\n",
      "A value is trying to be set on a copy of a slice from a DataFrame\n",
      "\n",
      "See the caveats in the documentation: https://pandas.pydata.org/pandas-docs/stable/user_guide/indexing.html#returning-a-view-versus-a-copy\n",
      "\n",
      "C:\\Users\\sasha\\AppData\\Local\\Temp\\ipykernel_12264\\3510132785.py:23: SettingWithCopyWarning:\n",
      "\n",
      "\n",
      "A value is trying to be set on a copy of a slice from a DataFrame\n",
      "\n",
      "See the caveats in the documentation: https://pandas.pydata.org/pandas-docs/stable/user_guide/indexing.html#returning-a-view-versus-a-copy\n",
      "\n",
      "C:\\Users\\sasha\\anaconda3\\Lib\\site-packages\\pyfolio\\timeseries.py:724: FutureWarning:\n",
      "\n",
      "The default dtype for empty Series will be 'object' instead of 'float64' in a future version. Specify a dtype explicitly to silence this warning.\n",
      "\n",
      "C:\\Users\\sasha\\anaconda3\\Lib\\site-packages\\empyrical\\stats.py:1527: RuntimeWarning:\n",
      "\n",
      "invalid value encountered in scalar divide\n",
      "\n",
      "C:\\Users\\sasha\\AppData\\Local\\Temp\\ipykernel_12264\\2807179745.py:30: FutureWarning:\n",
      "\n",
      "The frame.append method is deprecated and will be removed from pandas in a future version. Use pandas.concat instead.\n",
      "\n"
     ]
    }
   ],
   "source": [
    "main(\"data/final_pairs.csv\")"
   ],
   "metadata": {
    "collapsed": false,
    "ExecuteTime": {
     "end_time": "2023-10-23T12:52:48.896134900Z",
     "start_time": "2023-10-23T12:52:47.232090100Z"
    }
   },
   "id": "d3470939b8c3d036"
  },
  {
   "cell_type": "code",
   "execution_count": 40,
   "outputs": [],
   "source": [
    "backtest_df = pd.read_csv(\"data/backtest.csv\")"
   ],
   "metadata": {
    "collapsed": false,
    "ExecuteTime": {
     "end_time": "2023-10-23T12:52:51.730614700Z",
     "start_time": "2023-10-23T12:52:51.705441800Z"
    }
   },
   "id": "c259e74251db6aaf"
  },
  {
   "cell_type": "code",
   "execution_count": 41,
   "outputs": [
    {
     "data": {
      "text/plain": "  Pair Name      CAGR  Sharpe Ratio  Number of Trades  Max Drawdown\n0   CMS_CEG  0.243454      3.566101                 7  0.000000e+00\n1   CNP_AEE  0.069908      2.851090                 5 -5.027580e-07",
      "text/html": "<div>\n<style scoped>\n    .dataframe tbody tr th:only-of-type {\n        vertical-align: middle;\n    }\n\n    .dataframe tbody tr th {\n        vertical-align: top;\n    }\n\n    .dataframe thead th {\n        text-align: right;\n    }\n</style>\n<table border=\"1\" class=\"dataframe\">\n  <thead>\n    <tr style=\"text-align: right;\">\n      <th></th>\n      <th>Pair Name</th>\n      <th>CAGR</th>\n      <th>Sharpe Ratio</th>\n      <th>Number of Trades</th>\n      <th>Max Drawdown</th>\n    </tr>\n  </thead>\n  <tbody>\n    <tr>\n      <th>0</th>\n      <td>CMS_CEG</td>\n      <td>0.243454</td>\n      <td>3.566101</td>\n      <td>7</td>\n      <td>0.000000e+00</td>\n    </tr>\n    <tr>\n      <th>1</th>\n      <td>CNP_AEE</td>\n      <td>0.069908</td>\n      <td>2.851090</td>\n      <td>5</td>\n      <td>-5.027580e-07</td>\n    </tr>\n  </tbody>\n</table>\n</div>"
     },
     "execution_count": 41,
     "metadata": {},
     "output_type": "execute_result"
    }
   ],
   "source": [
    "backtest_df"
   ],
   "metadata": {
    "collapsed": false,
    "ExecuteTime": {
     "end_time": "2023-10-23T12:52:52.340899Z",
     "start_time": "2023-10-23T12:52:52.313853200Z"
    }
   },
   "id": "78211d717d4056c3"
  },
  {
   "cell_type": "code",
   "execution_count": null,
   "outputs": [],
   "source": [],
   "metadata": {
    "collapsed": false
   },
   "id": "f6e19622ab239a07"
  }
 ],
 "metadata": {
  "kernelspec": {
   "display_name": "Python 3",
   "language": "python",
   "name": "python3"
  },
  "language_info": {
   "codemirror_mode": {
    "name": "ipython",
    "version": 2
   },
   "file_extension": ".py",
   "mimetype": "text/x-python",
   "name": "python",
   "nbconvert_exporter": "python",
   "pygments_lexer": "ipython2",
   "version": "2.7.6"
  }
 },
 "nbformat": 4,
 "nbformat_minor": 5
}
