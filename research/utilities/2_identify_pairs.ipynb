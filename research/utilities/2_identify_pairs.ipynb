{
 "cells": [
  {
   "cell_type": "markdown",
   "source": [
    "# Find Tickers\n",
    "We would like to identify cointegrated pairs.\n",
    "\n",
    "\n",
    "In this example we will look at Utilities. The flow of this file is as follows\n",
    "\n",
    "1. Read the tickers from the list we made\n",
    "2. Look at only those where volume is greater than 1000000 for high liquidity\n",
    "3. Drop missing values\n",
    "4. Perform coint test and get those with p_value less than 0.05 \n"
   ],
   "metadata": {
    "collapsed": false
   },
   "id": "b50e4b6c5b027194"
  },
  {
   "cell_type": "code",
   "execution_count": 1,
   "id": "initial_id",
   "metadata": {
    "collapsed": true,
    "ExecuteTime": {
     "end_time": "2023-09-19T22:21:01.007353400Z",
     "start_time": "2023-09-19T22:21:00.668281600Z"
    }
   },
   "outputs": [],
   "source": [
    "import json\n",
    "import numpy as np\n",
    "import pandas as pd\n",
    "import yfinance as yf\n",
    "import datetime\n",
    "import matplotlib.pyplot as plt\n",
    "import seaborn\n",
    "from statsmodels.tsa.stattools import coint"
   ]
  },
  {
   "cell_type": "code",
   "execution_count": 2,
   "outputs": [
    {
     "data": {
      "text/plain": "  Symbol                  Name  Price (Intraday)  Change % Change   Volume  \\\n0    PCG      PG&E Corporation             17.41    0.11   +0.64%  12.124M   \n1    NEE  NextEra Energy, Inc.             67.59   -0.65   -0.95%   8.213M   \n2    AES   The AES Corporation             16.76   -0.32   -1.87%   6.051M   \n3    XEL      Xcel Energy Inc.             58.52    0.53   +0.91%   7.502M   \n4    VST          Vistra Corp.             33.15   -0.13   -0.40%    4.38M   \n\n  Avg Vol (3 month) Market Cap  PE Ratio (TTM)  52 Week Range  \n0           17.942M    43.547B           18.92            NaN  \n1            8.109M   136.783B           16.69            NaN  \n2            5.569M    11.223B             NaN            NaN  \n3            4.008M    32.276B           18.58            NaN  \n4            4.637M    12.185B            9.36            NaN  ",
      "text/html": "<div>\n<style scoped>\n    .dataframe tbody tr th:only-of-type {\n        vertical-align: middle;\n    }\n\n    .dataframe tbody tr th {\n        vertical-align: top;\n    }\n\n    .dataframe thead th {\n        text-align: right;\n    }\n</style>\n<table border=\"1\" class=\"dataframe\">\n  <thead>\n    <tr style=\"text-align: right;\">\n      <th></th>\n      <th>Symbol</th>\n      <th>Name</th>\n      <th>Price (Intraday)</th>\n      <th>Change</th>\n      <th>% Change</th>\n      <th>Volume</th>\n      <th>Avg Vol (3 month)</th>\n      <th>Market Cap</th>\n      <th>PE Ratio (TTM)</th>\n      <th>52 Week Range</th>\n    </tr>\n  </thead>\n  <tbody>\n    <tr>\n      <th>0</th>\n      <td>PCG</td>\n      <td>PG&amp;E Corporation</td>\n      <td>17.41</td>\n      <td>0.11</td>\n      <td>+0.64%</td>\n      <td>12.124M</td>\n      <td>17.942M</td>\n      <td>43.547B</td>\n      <td>18.92</td>\n      <td>NaN</td>\n    </tr>\n    <tr>\n      <th>1</th>\n      <td>NEE</td>\n      <td>NextEra Energy, Inc.</td>\n      <td>67.59</td>\n      <td>-0.65</td>\n      <td>-0.95%</td>\n      <td>8.213M</td>\n      <td>8.109M</td>\n      <td>136.783B</td>\n      <td>16.69</td>\n      <td>NaN</td>\n    </tr>\n    <tr>\n      <th>2</th>\n      <td>AES</td>\n      <td>The AES Corporation</td>\n      <td>16.76</td>\n      <td>-0.32</td>\n      <td>-1.87%</td>\n      <td>6.051M</td>\n      <td>5.569M</td>\n      <td>11.223B</td>\n      <td>NaN</td>\n      <td>NaN</td>\n    </tr>\n    <tr>\n      <th>3</th>\n      <td>XEL</td>\n      <td>Xcel Energy Inc.</td>\n      <td>58.52</td>\n      <td>0.53</td>\n      <td>+0.91%</td>\n      <td>7.502M</td>\n      <td>4.008M</td>\n      <td>32.276B</td>\n      <td>18.58</td>\n      <td>NaN</td>\n    </tr>\n    <tr>\n      <th>4</th>\n      <td>VST</td>\n      <td>Vistra Corp.</td>\n      <td>33.15</td>\n      <td>-0.13</td>\n      <td>-0.40%</td>\n      <td>4.38M</td>\n      <td>4.637M</td>\n      <td>12.185B</td>\n      <td>9.36</td>\n      <td>NaN</td>\n    </tr>\n  </tbody>\n</table>\n</div>"
     },
     "execution_count": 2,
     "metadata": {},
     "output_type": "execute_result"
    }
   ],
   "source": [
    "filename='data/utilities.csv'\n",
    "df = pd.read_csv(filename, index_col = 0)\n",
    "df.head()"
   ],
   "metadata": {
    "collapsed": false,
    "ExecuteTime": {
     "end_time": "2023-09-19T22:21:01.065383900Z",
     "start_time": "2023-09-19T22:21:01.010347300Z"
    }
   },
   "id": "215f099428a2b95c"
  },
  {
   "cell_type": "code",
   "execution_count": 3,
   "outputs": [
    {
     "data": {
      "text/plain": "(85, 10)"
     },
     "execution_count": 3,
     "metadata": {},
     "output_type": "execute_result"
    }
   ],
   "source": [
    "df.shape"
   ],
   "metadata": {
    "collapsed": false,
    "ExecuteTime": {
     "end_time": "2023-09-19T22:21:01.068987600Z",
     "start_time": "2023-09-19T22:21:01.040261600Z"
    }
   },
   "id": "e253907ebf83c617"
  },
  {
   "cell_type": "markdown",
   "source": [
    "We want to trade with stocks with adequate demand from buyers and sellers, we can eliminate others by defining a cap for the trade volume."
   ],
   "metadata": {
    "collapsed": false
   },
   "id": "428b6815e49f23f9"
  },
  {
   "cell_type": "code",
   "execution_count": 4,
   "outputs": [],
   "source": [
    "def convert_volume(value):\n",
    "    if 'M' in value:\n",
    "        return float(value.replace('M', '')) * 1e6  # Convert to millions\n",
    "    elif 'k' in value:\n",
    "        return float(value.replace('k', '')) * 1e3  # Convert to thousands\n",
    "    else:\n",
    "        return float(value)  # No conversion needed\n",
    "\n",
    "# Apply the conversion function to the 'Volume' column\n",
    "df['Volume'] = df['Volume'].apply(convert_volume)"
   ],
   "metadata": {
    "collapsed": false,
    "ExecuteTime": {
     "end_time": "2023-09-19T22:21:01.114617400Z",
     "start_time": "2023-09-19T22:21:01.050417300Z"
    }
   },
   "id": "e6f7862bf9ef3a8b"
  },
  {
   "cell_type": "code",
   "execution_count": 5,
   "outputs": [
    {
     "data": {
      "text/plain": "['PCG',\n 'NEE',\n 'XEL',\n 'AES',\n 'CNP',\n 'VST',\n 'NI',\n 'EXC',\n 'D',\n 'SO',\n 'DUK',\n 'FE',\n 'PPL',\n 'CMS',\n 'PEG',\n 'AEP',\n 'EVRG',\n 'CEG',\n 'SRE',\n 'EIX',\n 'ES',\n 'LNT',\n 'WEC',\n 'DTE',\n 'AEE',\n 'ED']"
     },
     "execution_count": 5,
     "metadata": {},
     "output_type": "execute_result"
    }
   ],
   "source": [
    " # Define a volume cap\n",
    "volume_cap = 1000000\n",
    "\n",
    "df['Volume'] = pd.to_numeric(df['Volume'], errors='coerce')\n",
    "df['Price (Intraday)'] = pd.to_numeric(df['Price (Intraday)'], errors='coerce')\n",
    "\n",
    "df = df[['Symbol','Volume','Price (Intraday)']].sort_values(by='Volume', ascending=False)\n",
    "\n",
    "high_volume = df[\"Volume\"]>volume_cap\n",
    "df_h = df[high_volume]\n",
    "tickers = df_h.Symbol.tolist()\n",
    "tickers"
   ],
   "metadata": {
    "collapsed": false,
    "ExecuteTime": {
     "end_time": "2023-09-19T22:21:01.142418400Z",
     "start_time": "2023-09-19T22:21:01.058402900Z"
    }
   },
   "id": "63b12ad10c08ee33"
  },
  {
   "cell_type": "markdown",
   "source": [
    "### Download Price Data\n",
    "We will use yfinance (https://pypi.org/project/yfinance/) to downloed the closing prices of stocks.\n",
    "More information is available on the next notebook which we will download and save a more detailed stock data."
   ],
   "metadata": {
    "collapsed": false
   },
   "id": "cf06f1c8eb09e1ca"
  },
  {
   "cell_type": "code",
   "execution_count": 6,
   "outputs": [
    {
     "name": "stdout",
     "output_type": "stream",
     "text": [
      "[*********************100%%**********************]  26 of 26 completed\n",
      "<class 'pandas.core.frame.DataFrame'>\n",
      "DatetimeIndex: 254 entries, 2022-07-18 to 2023-07-20\n",
      "Data columns (total 26 columns):\n",
      " #   Column  Non-Null Count  Dtype  \n",
      "---  ------  --------------  -----  \n",
      " 0   AEE     254 non-null    float64\n",
      " 1   AEP     254 non-null    float64\n",
      " 2   AES     254 non-null    float64\n",
      " 3   CEG     254 non-null    float64\n",
      " 4   CMS     254 non-null    float64\n",
      " 5   CNP     254 non-null    float64\n",
      " 6   D       254 non-null    float64\n",
      " 7   DTE     254 non-null    float64\n",
      " 8   DUK     254 non-null    float64\n",
      " 9   ED      254 non-null    float64\n",
      " 10  EIX     254 non-null    float64\n",
      " 11  ES      254 non-null    float64\n",
      " 12  EVRG    254 non-null    float64\n",
      " 13  EXC     254 non-null    float64\n",
      " 14  FE      254 non-null    float64\n",
      " 15  LNT     254 non-null    float64\n",
      " 16  NEE     254 non-null    float64\n",
      " 17  NI      254 non-null    float64\n",
      " 18  PCG     254 non-null    float64\n",
      " 19  PEG     254 non-null    float64\n",
      " 20  PPL     254 non-null    float64\n",
      " 21  SO      254 non-null    float64\n",
      " 22  SRE     254 non-null    float64\n",
      " 23  VST     254 non-null    float64\n",
      " 24  WEC     254 non-null    float64\n",
      " 25  XEL     254 non-null    float64\n",
      "dtypes: float64(26)\n",
      "memory usage: 53.6 KB\n"
     ]
    }
   ],
   "source": [
    "#!pip install <library_name>\n",
    "#period = '1y' #valid periods: 1d,5d,1mo,3mo,6mo,1y,2y,5y,10y,ytd,max\n",
    "#interval = '1d' #valid intervals: 1m,2m,5m,15m,30m,60m,90m,1h,1d,5d,1wk,1mo,3mo\n",
    "#df = yf.download(tickers, period=period, interval=interval)[\"Close\"]\n",
    "\n",
    "\n",
    "# Enable to use start & end dates:\n",
    "start = datetime.date.today() - datetime.timedelta(days=430)\n",
    "end = datetime.date.today() - datetime.timedelta(days=60)\n",
    "\n",
    "df = yf.download(tickers, start, end)[\"Close\"]\n",
    "\n",
    "df.info()"
   ],
   "metadata": {
    "collapsed": false,
    "ExecuteTime": {
     "end_time": "2023-09-19T22:21:03.030938100Z",
     "start_time": "2023-09-19T22:21:01.075960300Z"
    }
   },
   "id": "6e68afedea635d7"
  },
  {
   "cell_type": "markdown",
   "source": [
    "Check for null values and eliminate them\n",
    "It is important to check the dataframe for Na rows & columns before moving forward. Downloaded data may not be consistent all the time, so better doing it manually before proceeding:\n"
   ],
   "metadata": {
    "collapsed": false
   },
   "id": "30304c8b15e6abf8"
  },
  {
   "cell_type": "code",
   "execution_count": 7,
   "outputs": [
    {
     "data": {
      "text/plain": "                  AEE        AEP        AES        CEG        CMS        CNP  \\\nDate                                                                           \n2022-07-18  86.419998  93.370003  20.280001  54.810001  64.809998  29.559999   \n2022-07-19  86.470001  93.589996  20.620001  55.000000  64.959999  29.750000   \n2022-07-20  85.849998  92.709999  19.980000  54.070000  63.880001  29.379999   \n2022-07-21  86.309998  92.790001  19.910000  54.160000  63.919998  29.320000   \n2022-07-22  87.430000  94.349998  19.730000  54.000000  65.180000  29.700001   \n\n                    D         DTE         DUK         ED  ...        NEE  \\\nDate                                                      ...              \n2022-07-18  78.010002  123.669998  105.430000  91.629997  ...  77.510002   \n2022-07-19  77.779999  124.089996  105.540001  92.220001  ...  78.930000   \n2022-07-20  75.769997  121.459999  102.989998  90.639999  ...  78.320000   \n2022-07-21  75.959999  121.519997  103.540001  90.820000  ...  78.870003   \n2022-07-22  77.349998  123.750000  104.980003  92.440002  ...  80.250000   \n\n                   NI    PCG        PEG        PPL         SO        SRE  \\\nDate                                                                       \n2022-07-18  28.389999  10.35  60.060001  27.190001  71.690002  74.680000   \n2022-07-19  28.500000  10.69  60.410000  27.400000  71.750000  75.794998   \n2022-07-20  28.290001  10.70  59.639999  27.139999  70.940002  76.385002   \n2022-07-21  28.090000  10.58  59.599998  27.240000  70.849998  76.745003   \n2022-07-22  28.440001  10.63  60.099998  27.330000  71.940002  77.120003   \n\n                  VST        WEC        XEL  \nDate                                         \n2022-07-18  22.820000  98.809998  68.550003  \n2022-07-19  23.629999  99.070000  68.860001  \n2022-07-20  23.639999  96.129997  67.599998  \n2022-07-21  23.360001  96.230003  67.699997  \n2022-07-22  23.000000  97.860001  68.669998  \n\n[5 rows x 26 columns]",
      "text/html": "<div>\n<style scoped>\n    .dataframe tbody tr th:only-of-type {\n        vertical-align: middle;\n    }\n\n    .dataframe tbody tr th {\n        vertical-align: top;\n    }\n\n    .dataframe thead th {\n        text-align: right;\n    }\n</style>\n<table border=\"1\" class=\"dataframe\">\n  <thead>\n    <tr style=\"text-align: right;\">\n      <th></th>\n      <th>AEE</th>\n      <th>AEP</th>\n      <th>AES</th>\n      <th>CEG</th>\n      <th>CMS</th>\n      <th>CNP</th>\n      <th>D</th>\n      <th>DTE</th>\n      <th>DUK</th>\n      <th>ED</th>\n      <th>...</th>\n      <th>NEE</th>\n      <th>NI</th>\n      <th>PCG</th>\n      <th>PEG</th>\n      <th>PPL</th>\n      <th>SO</th>\n      <th>SRE</th>\n      <th>VST</th>\n      <th>WEC</th>\n      <th>XEL</th>\n    </tr>\n    <tr>\n      <th>Date</th>\n      <th></th>\n      <th></th>\n      <th></th>\n      <th></th>\n      <th></th>\n      <th></th>\n      <th></th>\n      <th></th>\n      <th></th>\n      <th></th>\n      <th></th>\n      <th></th>\n      <th></th>\n      <th></th>\n      <th></th>\n      <th></th>\n      <th></th>\n      <th></th>\n      <th></th>\n      <th></th>\n      <th></th>\n    </tr>\n  </thead>\n  <tbody>\n    <tr>\n      <th>2022-07-18</th>\n      <td>86.419998</td>\n      <td>93.370003</td>\n      <td>20.280001</td>\n      <td>54.810001</td>\n      <td>64.809998</td>\n      <td>29.559999</td>\n      <td>78.010002</td>\n      <td>123.669998</td>\n      <td>105.430000</td>\n      <td>91.629997</td>\n      <td>...</td>\n      <td>77.510002</td>\n      <td>28.389999</td>\n      <td>10.35</td>\n      <td>60.060001</td>\n      <td>27.190001</td>\n      <td>71.690002</td>\n      <td>74.680000</td>\n      <td>22.820000</td>\n      <td>98.809998</td>\n      <td>68.550003</td>\n    </tr>\n    <tr>\n      <th>2022-07-19</th>\n      <td>86.470001</td>\n      <td>93.589996</td>\n      <td>20.620001</td>\n      <td>55.000000</td>\n      <td>64.959999</td>\n      <td>29.750000</td>\n      <td>77.779999</td>\n      <td>124.089996</td>\n      <td>105.540001</td>\n      <td>92.220001</td>\n      <td>...</td>\n      <td>78.930000</td>\n      <td>28.500000</td>\n      <td>10.69</td>\n      <td>60.410000</td>\n      <td>27.400000</td>\n      <td>71.750000</td>\n      <td>75.794998</td>\n      <td>23.629999</td>\n      <td>99.070000</td>\n      <td>68.860001</td>\n    </tr>\n    <tr>\n      <th>2022-07-20</th>\n      <td>85.849998</td>\n      <td>92.709999</td>\n      <td>19.980000</td>\n      <td>54.070000</td>\n      <td>63.880001</td>\n      <td>29.379999</td>\n      <td>75.769997</td>\n      <td>121.459999</td>\n      <td>102.989998</td>\n      <td>90.639999</td>\n      <td>...</td>\n      <td>78.320000</td>\n      <td>28.290001</td>\n      <td>10.70</td>\n      <td>59.639999</td>\n      <td>27.139999</td>\n      <td>70.940002</td>\n      <td>76.385002</td>\n      <td>23.639999</td>\n      <td>96.129997</td>\n      <td>67.599998</td>\n    </tr>\n    <tr>\n      <th>2022-07-21</th>\n      <td>86.309998</td>\n      <td>92.790001</td>\n      <td>19.910000</td>\n      <td>54.160000</td>\n      <td>63.919998</td>\n      <td>29.320000</td>\n      <td>75.959999</td>\n      <td>121.519997</td>\n      <td>103.540001</td>\n      <td>90.820000</td>\n      <td>...</td>\n      <td>78.870003</td>\n      <td>28.090000</td>\n      <td>10.58</td>\n      <td>59.599998</td>\n      <td>27.240000</td>\n      <td>70.849998</td>\n      <td>76.745003</td>\n      <td>23.360001</td>\n      <td>96.230003</td>\n      <td>67.699997</td>\n    </tr>\n    <tr>\n      <th>2022-07-22</th>\n      <td>87.430000</td>\n      <td>94.349998</td>\n      <td>19.730000</td>\n      <td>54.000000</td>\n      <td>65.180000</td>\n      <td>29.700001</td>\n      <td>77.349998</td>\n      <td>123.750000</td>\n      <td>104.980003</td>\n      <td>92.440002</td>\n      <td>...</td>\n      <td>80.250000</td>\n      <td>28.440001</td>\n      <td>10.63</td>\n      <td>60.099998</td>\n      <td>27.330000</td>\n      <td>71.940002</td>\n      <td>77.120003</td>\n      <td>23.000000</td>\n      <td>97.860001</td>\n      <td>68.669998</td>\n    </tr>\n  </tbody>\n</table>\n<p>5 rows × 26 columns</p>\n</div>"
     },
     "execution_count": 7,
     "metadata": {},
     "output_type": "execute_result"
    }
   ],
   "source": [
    "df.head()"
   ],
   "metadata": {
    "collapsed": false,
    "ExecuteTime": {
     "end_time": "2023-09-19T22:21:03.064149200Z",
     "start_time": "2023-09-19T22:21:03.027947700Z"
    }
   },
   "id": "2116f6413eb4165e"
  },
  {
   "cell_type": "code",
   "execution_count": 8,
   "outputs": [
    {
     "name": "stdout",
     "output_type": "stream",
     "text": [
      "we have 26 tickers left\n",
      "<class 'pandas.core.frame.DataFrame'>\n",
      "DatetimeIndex: 254 entries, 2022-07-18 to 2023-07-20\n",
      "Data columns (total 26 columns):\n",
      " #   Column  Non-Null Count  Dtype  \n",
      "---  ------  --------------  -----  \n",
      " 0   AEE     254 non-null    float64\n",
      " 1   AEP     254 non-null    float64\n",
      " 2   AES     254 non-null    float64\n",
      " 3   CEG     254 non-null    float64\n",
      " 4   CMS     254 non-null    float64\n",
      " 5   CNP     254 non-null    float64\n",
      " 6   D       254 non-null    float64\n",
      " 7   DTE     254 non-null    float64\n",
      " 8   DUK     254 non-null    float64\n",
      " 9   ED      254 non-null    float64\n",
      " 10  EIX     254 non-null    float64\n",
      " 11  ES      254 non-null    float64\n",
      " 12  EVRG    254 non-null    float64\n",
      " 13  EXC     254 non-null    float64\n",
      " 14  FE      254 non-null    float64\n",
      " 15  LNT     254 non-null    float64\n",
      " 16  NEE     254 non-null    float64\n",
      " 17  NI      254 non-null    float64\n",
      " 18  PCG     254 non-null    float64\n",
      " 19  PEG     254 non-null    float64\n",
      " 20  PPL     254 non-null    float64\n",
      " 21  SO      254 non-null    float64\n",
      " 22  SRE     254 non-null    float64\n",
      " 23  VST     254 non-null    float64\n",
      " 24  WEC     254 non-null    float64\n",
      " 25  XEL     254 non-null    float64\n",
      "dtypes: float64(26)\n",
      "memory usage: 53.6 KB\n"
     ]
    }
   ],
   "source": [
    "df = df.dropna(axis=0, how='all') # check if necessary\n",
    "df = df.dropna(axis=1) # check if necessary\n",
    "new_tickers = df.columns.tolist()\n",
    "print(f\"we have {len(new_tickers)} tickers left\")\n",
    "file_name = \"data/utilities_close_prices.pkl\"\n",
    "df.to_pickle(file_name)\n",
    "df.info()"
   ],
   "metadata": {
    "collapsed": false,
    "ExecuteTime": {
     "end_time": "2023-09-19T22:21:03.084357200Z",
     "start_time": "2023-09-19T22:21:03.061157400Z"
    }
   },
   "id": "6508724c87a1c2ba"
  },
  {
   "cell_type": "markdown",
   "source": [
    "### Find Cointegrated Pairs\n",
    "\n",
    "We will perfom cointegration tests for all of the pairs that we can produce from the available tickers. We still need to perform more detailed tests for stationarity in the following notebooks.\n",
    "\n",
    "This function is designed to perform a statistical test called a cointegration test on a set of financial data, which typically represents the price movements of different assets or financial instruments (often referred to as \"tickers\"). Let me break down what this function does step by step:\n",
    "\n",
    "`def cointegration_test(data, p_value=0.05)`:: This line defines a Python function called cointegration_test that takes two inputs: `data` and `p_value`. `data` is expected to be a dataset containing historical price or return data for multiple financial instruments (tickers), and `p_value` is a significance level used in the test, with a default value of 0.05 (commonly used in statistical testing).\n",
    "\n",
    "`n = data.shape[1]`: This line calculates the number of columns (or financial instruments) in the input dataset data and assigns it to the variable n.\n",
    "\n",
    "`stats = np.zeros((n, n))` and `pvalues = np.ones((n, n))`: These lines create two empty matrices (`stats` and `pvalues`) with dimensions n by n, where n is the number of financial instruments. These matrices will be filled with statistical results later.\n",
    "\n",
    "`keys = data.keys()`: This line retrieves the names of the columns (financial instruments) in the input dataset and stores them in the keys variable.\n",
    "\n",
    "`pairs = []`: This initializes an empty list called `pairs`. This list will store pairs of financial instruments that show significant cointegration.\n",
    "\n",
    "The following nested for loops iterate through all possible combinations of financial instruments (tickers):\n",
    "\n",
    "`for i in range(n)`:: This loop selects one financial instrument (ticker) as the first in a pair.\n",
    "`for j in range(i+1, n)`:: This nested loop selects a different financial instrument as the second in a pair. The use of i+1 ensures that each pair is unique (e.g., it won't consider the same pair twice).\n",
    "`result = coint(data[keys[i]], data[keys[j]])`: For each pair of financial instruments selected in the loops, this line calculates the cointegration test statistics and p-value using a function called `coint`. It compares the historical price or return data of the two instruments to see if they are cointegrated.\n",
    "\n",
    "`test_stat = result[0] and pvalue = result[1]`: These lines extract the test statistic and p-value from the result of the cointegration test.\n",
    "\n",
    "`stats[i, j] = test_stat and pvalues[i, j] = pvalue`: These lines store the test statistic and p-value in the corresponding positions in the stats and pvalues matrices.\n",
    "\n",
    "`if pvalue < p_value:`: This line checks if the calculated p-value is less than the significance level (`p_value`). If it is, it means that the pair of financial instruments is statistically significant in terms of cointegration.\n",
    "\n",
    "`pairs.append((keys[i], keys[j])):` If the pair is statistically significant, it is added to the pairs list, which keeps track of all such pairs.\n",
    "\n",
    "Finally, the function returns three things:\n",
    "\n",
    "`stats`: A matrix containing the cointegration test statistics for all pairs of financial instruments.\n",
    "`pvalues`: A matrix containing the p-values for the cointegration test for all pairs.\n",
    "`pairs`: A list of pairs of financial instruments that are statistically significant in terms of cointegration.\n",
    "In summary, this function automates the process of testing whether pairs of financial instruments (tickers) are cointegrated, which can be useful for various quantitative trading and portfolio management strategies in finance. It collects and organizes the statistical results, making it easier for analysts and traders to identify pairs of assets that exhibit cointegration and may be suitable for trading strategies like pairs trading."
   ],
   "metadata": {
    "collapsed": false
   },
   "id": "8db3adb5b61372ff"
  },
  {
   "cell_type": "code",
   "execution_count": 9,
   "outputs": [],
   "source": [
    "# let's define a function to loop through the tickers and do a cointegration test for each combination\n",
    "def cointegration_test(data, p_value=0.05):\n",
    "    n = data.shape[1]\n",
    "    # create matrix to be filled later\n",
    "    stats = np.zeros((n, n))\n",
    "    pvalues = np.ones((n, n))\n",
    "    keys = data.keys() # get the info axis, returns columns if object is a dataframe\n",
    "    pairs = []\n",
    "    for i in range(n):\n",
    "        for j in range(i+1, n):\n",
    "            result = coint(data[keys[i]], data[keys[j]])\n",
    "            test_stat = result[0]\n",
    "            pvalue = result[1]\n",
    "            stats[i, j] = test_stat\n",
    "            pvalues[i, j] = pvalue\n",
    "\n",
    "            if pvalue < p_value: # pick only statistically significant ones\n",
    "                pairs.append((keys[i], keys[j]))\n",
    "\n",
    "    return stats, pvalues, pairs"
   ],
   "metadata": {
    "collapsed": false,
    "ExecuteTime": {
     "end_time": "2023-09-19T22:21:03.126967900Z",
     "start_time": "2023-09-19T22:21:03.082362100Z"
    }
   },
   "id": "a83f9f0be439d40"
  },
  {
   "cell_type": "code",
   "execution_count": 10,
   "outputs": [
    {
     "name": "stdout",
     "output_type": "stream",
     "text": [
      "[('AEE', 'CNP'), ('AEP', 'DUK'), ('AEP', 'ES'), ('AEP', 'SRE'), ('CEG', 'CMS'), ('CEG', 'DUK'), ('CEG', 'EIX'), ('CEG', 'ES'), ('CEG', 'EVRG'), ('CEG', 'NI'), ('CEG', 'PEG'), ('CEG', 'PPL'), ('CEG', 'SO'), ('CEG', 'VST'), ('CEG', 'WEC'), ('CEG', 'XEL'), ('CNP', 'EVRG'), ('D', 'PCG'), ('DTE', 'LNT'), ('DUK', 'SRE'), ('DUK', 'XEL'), ('EVRG', 'WEC'), ('FE', 'PPL'), ('NI', 'PEG'), ('PCG', 'SRE'), ('SRE', 'XEL')]\n"
     ]
    },
    {
     "data": {
      "text/plain": "<Figure size 1000x1000 with 2 Axes>",
      "image/png": "[encoded data removed]"
     },
     "metadata": {},
     "output_type": "display_data"
    }
   ],
   "source": [
    "p_value = 0.05  # A p-value less than 0.05 is typically considered to be statistically significant\n",
    "\n",
    "scores, pvalues, pairs = cointegration_test(df,p_value)\n",
    "\n",
    "fig, ax = plt.subplots(figsize=(10, 10))\n",
    "seaborn.heatmap(\n",
    "    pvalues,\n",
    "    xticklabels=new_tickers,\n",
    "    yticklabels=new_tickers,\n",
    "    cmap=\"ocean\",\n",
    "    mask=(pvalues >= 0.05),\n",
    "    square=True\n",
    ")\n",
    "print(pairs)"
   ],
   "metadata": {
    "collapsed": false,
    "ExecuteTime": {
     "end_time": "2023-09-19T22:21:09.642636600Z",
     "start_time": "2023-09-19T22:21:03.097570600Z"
    }
   },
   "id": "aa9be001641ab3f6"
  },
  {
   "cell_type": "markdown",
   "source": [
    "### Filter For More Significant Pairs\n",
    "Filter more to get more significant pairs, and eliminate empty cells."
   ],
   "metadata": {
    "collapsed": false
   },
   "id": "58eb38bda401b68c"
  },
  {
   "cell_type": "code",
   "execution_count": 11,
   "outputs": [
    {
     "data": {
      "text/plain": "<pandas.io.formats.style.Styler at 0x1db5e7fdbd0>",
      "text/html": "<style type=\"text/css\">\n#T_25f9f_row0_col0, #T_25f9f_row0_col2, #T_25f9f_row0_col3, #T_25f9f_row0_col4, #T_25f9f_row0_col5, #T_25f9f_row0_col6, #T_25f9f_row0_col7, #T_25f9f_row0_col8, #T_25f9f_row0_col9, #T_25f9f_row0_col10, #T_25f9f_row0_col11, #T_25f9f_row0_col12, #T_25f9f_row0_col13, #T_25f9f_row0_col14, #T_25f9f_row0_col15, #T_25f9f_row1_col0, #T_25f9f_row1_col1, #T_25f9f_row1_col3, #T_25f9f_row1_col5, #T_25f9f_row1_col6, #T_25f9f_row1_col7, #T_25f9f_row1_col8, #T_25f9f_row1_col9, #T_25f9f_row1_col10, #T_25f9f_row1_col11, #T_25f9f_row1_col13, #T_25f9f_row1_col14, #T_25f9f_row1_col15, #T_25f9f_row2_col1, #T_25f9f_row2_col6, #T_25f9f_row2_col8, #T_25f9f_row2_col12, #T_25f9f_row3_col0, #T_25f9f_row3_col1, #T_25f9f_row3_col2, #T_25f9f_row3_col3, #T_25f9f_row3_col4, #T_25f9f_row3_col6, #T_25f9f_row3_col7, #T_25f9f_row3_col8, #T_25f9f_row3_col9, #T_25f9f_row3_col10, #T_25f9f_row3_col11, #T_25f9f_row3_col12, #T_25f9f_row3_col13, #T_25f9f_row3_col14, #T_25f9f_row3_col15, #T_25f9f_row4_col0, #T_25f9f_row4_col1, #T_25f9f_row4_col2, #T_25f9f_row4_col3, #T_25f9f_row4_col4, #T_25f9f_row4_col5, #T_25f9f_row4_col6, #T_25f9f_row4_col7, #T_25f9f_row4_col9, #T_25f9f_row4_col10, #T_25f9f_row4_col11, #T_25f9f_row4_col12, #T_25f9f_row4_col13, #T_25f9f_row4_col14, #T_25f9f_row4_col15, #T_25f9f_row5_col0, #T_25f9f_row5_col1, #T_25f9f_row5_col2, #T_25f9f_row5_col3, #T_25f9f_row5_col4, #T_25f9f_row5_col5, #T_25f9f_row5_col7, #T_25f9f_row5_col8, #T_25f9f_row5_col9, #T_25f9f_row5_col10, #T_25f9f_row5_col11, #T_25f9f_row5_col12, #T_25f9f_row5_col13, #T_25f9f_row5_col14, #T_25f9f_row5_col15, #T_25f9f_row6_col0, #T_25f9f_row6_col1, #T_25f9f_row6_col2, #T_25f9f_row6_col3, #T_25f9f_row6_col4, #T_25f9f_row6_col5, #T_25f9f_row6_col6, #T_25f9f_row6_col7, #T_25f9f_row6_col8, #T_25f9f_row6_col9, #T_25f9f_row6_col10, #T_25f9f_row6_col11, #T_25f9f_row6_col13, #T_25f9f_row6_col14, #T_25f9f_row7_col0, #T_25f9f_row7_col1, #T_25f9f_row7_col2, #T_25f9f_row7_col3, #T_25f9f_row7_col4, #T_25f9f_row7_col5, #T_25f9f_row7_col6, #T_25f9f_row7_col7, #T_25f9f_row7_col8, #T_25f9f_row7_col9, #T_25f9f_row7_col10, #T_25f9f_row7_col11, #T_25f9f_row7_col12, #T_25f9f_row7_col13, #T_25f9f_row7_col15, #T_25f9f_row8_col0, #T_25f9f_row8_col1, #T_25f9f_row8_col2, #T_25f9f_row8_col3, #T_25f9f_row8_col4, #T_25f9f_row8_col5, #T_25f9f_row8_col6, #T_25f9f_row8_col7, #T_25f9f_row8_col8, #T_25f9f_row8_col9, #T_25f9f_row8_col11, #T_25f9f_row8_col12, #T_25f9f_row8_col13, #T_25f9f_row8_col14, #T_25f9f_row8_col15, #T_25f9f_row9_col0, #T_25f9f_row9_col1, #T_25f9f_row9_col2, #T_25f9f_row9_col3, #T_25f9f_row9_col4, #T_25f9f_row9_col5, #T_25f9f_row9_col6, #T_25f9f_row9_col7, #T_25f9f_row9_col8, #T_25f9f_row9_col10, #T_25f9f_row9_col11, #T_25f9f_row9_col12, #T_25f9f_row9_col13, #T_25f9f_row9_col14, #T_25f9f_row9_col15, #T_25f9f_row10_col0, #T_25f9f_row10_col1, #T_25f9f_row10_col2, #T_25f9f_row10_col3, #T_25f9f_row10_col4, #T_25f9f_row10_col5, #T_25f9f_row10_col6, #T_25f9f_row10_col7, #T_25f9f_row10_col8, #T_25f9f_row10_col9, #T_25f9f_row10_col10, #T_25f9f_row10_col11, #T_25f9f_row10_col13, #T_25f9f_row10_col14, #T_25f9f_row10_col15, #T_25f9f_row11_col0, #T_25f9f_row11_col1, #T_25f9f_row11_col2, #T_25f9f_row11_col3, #T_25f9f_row11_col4, #T_25f9f_row11_col5, #T_25f9f_row11_col6, #T_25f9f_row11_col7, #T_25f9f_row11_col8, #T_25f9f_row11_col9, #T_25f9f_row11_col10, #T_25f9f_row11_col11, #T_25f9f_row11_col12, #T_25f9f_row11_col13, #T_25f9f_row11_col14 {\n  color: white;\n}\n#T_25f9f_row0_col1, #T_25f9f_row1_col2, #T_25f9f_row1_col4, #T_25f9f_row1_col12, #T_25f9f_row2_col0, #T_25f9f_row2_col2, #T_25f9f_row2_col3, #T_25f9f_row2_col4, #T_25f9f_row2_col5, #T_25f9f_row2_col7, #T_25f9f_row2_col9, #T_25f9f_row2_col10, #T_25f9f_row2_col11, #T_25f9f_row2_col13, #T_25f9f_row2_col14, #T_25f9f_row2_col15, #T_25f9f_row3_col5, #T_25f9f_row4_col8, #T_25f9f_row5_col6, #T_25f9f_row6_col12, #T_25f9f_row6_col15, #T_25f9f_row7_col14, #T_25f9f_row8_col10, #T_25f9f_row9_col9, #T_25f9f_row10_col12, #T_25f9f_row11_col15 {\n  background-color: #c78f2e;\n}\n</style>\n<table id=\"T_25f9f\">\n  <thead>\n    <tr>\n      <th class=\"blank level0\" >&nbsp;</th>\n      <th id=\"T_25f9f_level0_col0\" class=\"col_heading level0 col0\" >CMS</th>\n      <th id=\"T_25f9f_level0_col1\" class=\"col_heading level0 col1\" >CNP</th>\n      <th id=\"T_25f9f_level0_col2\" class=\"col_heading level0 col2\" >DUK</th>\n      <th id=\"T_25f9f_level0_col3\" class=\"col_heading level0 col3\" >EIX</th>\n      <th id=\"T_25f9f_level0_col4\" class=\"col_heading level0 col4\" >ES</th>\n      <th id=\"T_25f9f_level0_col5\" class=\"col_heading level0 col5\" >EVRG</th>\n      <th id=\"T_25f9f_level0_col6\" class=\"col_heading level0 col6\" >LNT</th>\n      <th id=\"T_25f9f_level0_col7\" class=\"col_heading level0 col7\" >NI</th>\n      <th id=\"T_25f9f_level0_col8\" class=\"col_heading level0 col8\" >PCG</th>\n      <th id=\"T_25f9f_level0_col9\" class=\"col_heading level0 col9\" >PEG</th>\n      <th id=\"T_25f9f_level0_col10\" class=\"col_heading level0 col10\" >PPL</th>\n      <th id=\"T_25f9f_level0_col11\" class=\"col_heading level0 col11\" >SO</th>\n      <th id=\"T_25f9f_level0_col12\" class=\"col_heading level0 col12\" >SRE</th>\n      <th id=\"T_25f9f_level0_col13\" class=\"col_heading level0 col13\" >VST</th>\n      <th id=\"T_25f9f_level0_col14\" class=\"col_heading level0 col14\" >WEC</th>\n      <th id=\"T_25f9f_level0_col15\" class=\"col_heading level0 col15\" >XEL</th>\n    </tr>\n  </thead>\n  <tbody>\n    <tr>\n      <th id=\"T_25f9f_level0_row0\" class=\"row_heading level0 row0\" >AEE</th>\n      <td id=\"T_25f9f_row0_col0\" class=\"data row0 col0\" >nan</td>\n      <td id=\"T_25f9f_row0_col1\" class=\"data row0 col1\" >0.043</td>\n      <td id=\"T_25f9f_row0_col2\" class=\"data row0 col2\" >nan</td>\n      <td id=\"T_25f9f_row0_col3\" class=\"data row0 col3\" >nan</td>\n      <td id=\"T_25f9f_row0_col4\" class=\"data row0 col4\" >nan</td>\n      <td id=\"T_25f9f_row0_col5\" class=\"data row0 col5\" >nan</td>\n      <td id=\"T_25f9f_row0_col6\" class=\"data row0 col6\" >nan</td>\n      <td id=\"T_25f9f_row0_col7\" class=\"data row0 col7\" >nan</td>\n      <td id=\"T_25f9f_row0_col8\" class=\"data row0 col8\" >nan</td>\n      <td id=\"T_25f9f_row0_col9\" class=\"data row0 col9\" >nan</td>\n      <td id=\"T_25f9f_row0_col10\" class=\"data row0 col10\" >nan</td>\n      <td id=\"T_25f9f_row0_col11\" class=\"data row0 col11\" >nan</td>\n      <td id=\"T_25f9f_row0_col12\" class=\"data row0 col12\" >nan</td>\n      <td id=\"T_25f9f_row0_col13\" class=\"data row0 col13\" >nan</td>\n      <td id=\"T_25f9f_row0_col14\" class=\"data row0 col14\" >nan</td>\n      <td id=\"T_25f9f_row0_col15\" class=\"data row0 col15\" >nan</td>\n    </tr>\n    <tr>\n      <th id=\"T_25f9f_level0_row1\" class=\"row_heading level0 row1\" >AEP</th>\n      <td id=\"T_25f9f_row1_col0\" class=\"data row1 col0\" >nan</td>\n      <td id=\"T_25f9f_row1_col1\" class=\"data row1 col1\" >nan</td>\n      <td id=\"T_25f9f_row1_col2\" class=\"data row1 col2\" >0.018</td>\n      <td id=\"T_25f9f_row1_col3\" class=\"data row1 col3\" >nan</td>\n      <td id=\"T_25f9f_row1_col4\" class=\"data row1 col4\" >0.017</td>\n      <td id=\"T_25f9f_row1_col5\" class=\"data row1 col5\" >nan</td>\n      <td id=\"T_25f9f_row1_col6\" class=\"data row1 col6\" >nan</td>\n      <td id=\"T_25f9f_row1_col7\" class=\"data row1 col7\" >nan</td>\n      <td id=\"T_25f9f_row1_col8\" class=\"data row1 col8\" >nan</td>\n      <td id=\"T_25f9f_row1_col9\" class=\"data row1 col9\" >nan</td>\n      <td id=\"T_25f9f_row1_col10\" class=\"data row1 col10\" >nan</td>\n      <td id=\"T_25f9f_row1_col11\" class=\"data row1 col11\" >nan</td>\n      <td id=\"T_25f9f_row1_col12\" class=\"data row1 col12\" >0.027</td>\n      <td id=\"T_25f9f_row1_col13\" class=\"data row1 col13\" >nan</td>\n      <td id=\"T_25f9f_row1_col14\" class=\"data row1 col14\" >nan</td>\n      <td id=\"T_25f9f_row1_col15\" class=\"data row1 col15\" >nan</td>\n    </tr>\n    <tr>\n      <th id=\"T_25f9f_level0_row2\" class=\"row_heading level0 row2\" >CEG</th>\n      <td id=\"T_25f9f_row2_col0\" class=\"data row2 col0\" >0.048</td>\n      <td id=\"T_25f9f_row2_col1\" class=\"data row2 col1\" >nan</td>\n      <td id=\"T_25f9f_row2_col2\" class=\"data row2 col2\" >0.042</td>\n      <td id=\"T_25f9f_row2_col3\" class=\"data row2 col3\" >0.031</td>\n      <td id=\"T_25f9f_row2_col4\" class=\"data row2 col4\" >0.040</td>\n      <td id=\"T_25f9f_row2_col5\" class=\"data row2 col5\" >0.037</td>\n      <td id=\"T_25f9f_row2_col6\" class=\"data row2 col6\" >nan</td>\n      <td id=\"T_25f9f_row2_col7\" class=\"data row2 col7\" >0.036</td>\n      <td id=\"T_25f9f_row2_col8\" class=\"data row2 col8\" >nan</td>\n      <td id=\"T_25f9f_row2_col9\" class=\"data row2 col9\" >0.043</td>\n      <td id=\"T_25f9f_row2_col10\" class=\"data row2 col10\" >0.041</td>\n      <td id=\"T_25f9f_row2_col11\" class=\"data row2 col11\" >0.046</td>\n      <td id=\"T_25f9f_row2_col12\" class=\"data row2 col12\" >nan</td>\n      <td id=\"T_25f9f_row2_col13\" class=\"data row2 col13\" >0.036</td>\n      <td id=\"T_25f9f_row2_col14\" class=\"data row2 col14\" >0.034</td>\n      <td id=\"T_25f9f_row2_col15\" class=\"data row2 col15\" >0.026</td>\n    </tr>\n    <tr>\n      <th id=\"T_25f9f_level0_row3\" class=\"row_heading level0 row3\" >CNP</th>\n      <td id=\"T_25f9f_row3_col0\" class=\"data row3 col0\" >nan</td>\n      <td id=\"T_25f9f_row3_col1\" class=\"data row3 col1\" >nan</td>\n      <td id=\"T_25f9f_row3_col2\" class=\"data row3 col2\" >nan</td>\n      <td id=\"T_25f9f_row3_col3\" class=\"data row3 col3\" >nan</td>\n      <td id=\"T_25f9f_row3_col4\" class=\"data row3 col4\" >nan</td>\n      <td id=\"T_25f9f_row3_col5\" class=\"data row3 col5\" >0.029</td>\n      <td id=\"T_25f9f_row3_col6\" class=\"data row3 col6\" >nan</td>\n      <td id=\"T_25f9f_row3_col7\" class=\"data row3 col7\" >nan</td>\n      <td id=\"T_25f9f_row3_col8\" class=\"data row3 col8\" >nan</td>\n      <td id=\"T_25f9f_row3_col9\" class=\"data row3 col9\" >nan</td>\n      <td id=\"T_25f9f_row3_col10\" class=\"data row3 col10\" >nan</td>\n      <td id=\"T_25f9f_row3_col11\" class=\"data row3 col11\" >nan</td>\n      <td id=\"T_25f9f_row3_col12\" class=\"data row3 col12\" >nan</td>\n      <td id=\"T_25f9f_row3_col13\" class=\"data row3 col13\" >nan</td>\n      <td id=\"T_25f9f_row3_col14\" class=\"data row3 col14\" >nan</td>\n      <td id=\"T_25f9f_row3_col15\" class=\"data row3 col15\" >nan</td>\n    </tr>\n    <tr>\n      <th id=\"T_25f9f_level0_row4\" class=\"row_heading level0 row4\" >D</th>\n      <td id=\"T_25f9f_row4_col0\" class=\"data row4 col0\" >nan</td>\n      <td id=\"T_25f9f_row4_col1\" class=\"data row4 col1\" >nan</td>\n      <td id=\"T_25f9f_row4_col2\" class=\"data row4 col2\" >nan</td>\n      <td id=\"T_25f9f_row4_col3\" class=\"data row4 col3\" >nan</td>\n      <td id=\"T_25f9f_row4_col4\" class=\"data row4 col4\" >nan</td>\n      <td id=\"T_25f9f_row4_col5\" class=\"data row4 col5\" >nan</td>\n      <td id=\"T_25f9f_row4_col6\" class=\"data row4 col6\" >nan</td>\n      <td id=\"T_25f9f_row4_col7\" class=\"data row4 col7\" >nan</td>\n      <td id=\"T_25f9f_row4_col8\" class=\"data row4 col8\" >0.016</td>\n      <td id=\"T_25f9f_row4_col9\" class=\"data row4 col9\" >nan</td>\n      <td id=\"T_25f9f_row4_col10\" class=\"data row4 col10\" >nan</td>\n      <td id=\"T_25f9f_row4_col11\" class=\"data row4 col11\" >nan</td>\n      <td id=\"T_25f9f_row4_col12\" class=\"data row4 col12\" >nan</td>\n      <td id=\"T_25f9f_row4_col13\" class=\"data row4 col13\" >nan</td>\n      <td id=\"T_25f9f_row4_col14\" class=\"data row4 col14\" >nan</td>\n      <td id=\"T_25f9f_row4_col15\" class=\"data row4 col15\" >nan</td>\n    </tr>\n    <tr>\n      <th id=\"T_25f9f_level0_row5\" class=\"row_heading level0 row5\" >DTE</th>\n      <td id=\"T_25f9f_row5_col0\" class=\"data row5 col0\" >nan</td>\n      <td id=\"T_25f9f_row5_col1\" class=\"data row5 col1\" >nan</td>\n      <td id=\"T_25f9f_row5_col2\" class=\"data row5 col2\" >nan</td>\n      <td id=\"T_25f9f_row5_col3\" class=\"data row5 col3\" >nan</td>\n      <td id=\"T_25f9f_row5_col4\" class=\"data row5 col4\" >nan</td>\n      <td id=\"T_25f9f_row5_col5\" class=\"data row5 col5\" >nan</td>\n      <td id=\"T_25f9f_row5_col6\" class=\"data row5 col6\" >0.027</td>\n      <td id=\"T_25f9f_row5_col7\" class=\"data row5 col7\" >nan</td>\n      <td id=\"T_25f9f_row5_col8\" class=\"data row5 col8\" >nan</td>\n      <td id=\"T_25f9f_row5_col9\" class=\"data row5 col9\" >nan</td>\n      <td id=\"T_25f9f_row5_col10\" class=\"data row5 col10\" >nan</td>\n      <td id=\"T_25f9f_row5_col11\" class=\"data row5 col11\" >nan</td>\n      <td id=\"T_25f9f_row5_col12\" class=\"data row5 col12\" >nan</td>\n      <td id=\"T_25f9f_row5_col13\" class=\"data row5 col13\" >nan</td>\n      <td id=\"T_25f9f_row5_col14\" class=\"data row5 col14\" >nan</td>\n      <td id=\"T_25f9f_row5_col15\" class=\"data row5 col15\" >nan</td>\n    </tr>\n    <tr>\n      <th id=\"T_25f9f_level0_row6\" class=\"row_heading level0 row6\" >DUK</th>\n      <td id=\"T_25f9f_row6_col0\" class=\"data row6 col0\" >nan</td>\n      <td id=\"T_25f9f_row6_col1\" class=\"data row6 col1\" >nan</td>\n      <td id=\"T_25f9f_row6_col2\" class=\"data row6 col2\" >nan</td>\n      <td id=\"T_25f9f_row6_col3\" class=\"data row6 col3\" >nan</td>\n      <td id=\"T_25f9f_row6_col4\" class=\"data row6 col4\" >nan</td>\n      <td id=\"T_25f9f_row6_col5\" class=\"data row6 col5\" >nan</td>\n      <td id=\"T_25f9f_row6_col6\" class=\"data row6 col6\" >nan</td>\n      <td id=\"T_25f9f_row6_col7\" class=\"data row6 col7\" >nan</td>\n      <td id=\"T_25f9f_row6_col8\" class=\"data row6 col8\" >nan</td>\n      <td id=\"T_25f9f_row6_col9\" class=\"data row6 col9\" >nan</td>\n      <td id=\"T_25f9f_row6_col10\" class=\"data row6 col10\" >nan</td>\n      <td id=\"T_25f9f_row6_col11\" class=\"data row6 col11\" >nan</td>\n      <td id=\"T_25f9f_row6_col12\" class=\"data row6 col12\" >0.011</td>\n      <td id=\"T_25f9f_row6_col13\" class=\"data row6 col13\" >nan</td>\n      <td id=\"T_25f9f_row6_col14\" class=\"data row6 col14\" >nan</td>\n      <td id=\"T_25f9f_row6_col15\" class=\"data row6 col15\" >0.047</td>\n    </tr>\n    <tr>\n      <th id=\"T_25f9f_level0_row7\" class=\"row_heading level0 row7\" >EVRG</th>\n      <td id=\"T_25f9f_row7_col0\" class=\"data row7 col0\" >nan</td>\n      <td id=\"T_25f9f_row7_col1\" class=\"data row7 col1\" >nan</td>\n      <td id=\"T_25f9f_row7_col2\" class=\"data row7 col2\" >nan</td>\n      <td id=\"T_25f9f_row7_col3\" class=\"data row7 col3\" >nan</td>\n      <td id=\"T_25f9f_row7_col4\" class=\"data row7 col4\" >nan</td>\n      <td id=\"T_25f9f_row7_col5\" class=\"data row7 col5\" >nan</td>\n      <td id=\"T_25f9f_row7_col6\" class=\"data row7 col6\" >nan</td>\n      <td id=\"T_25f9f_row7_col7\" class=\"data row7 col7\" >nan</td>\n      <td id=\"T_25f9f_row7_col8\" class=\"data row7 col8\" >nan</td>\n      <td id=\"T_25f9f_row7_col9\" class=\"data row7 col9\" >nan</td>\n      <td id=\"T_25f9f_row7_col10\" class=\"data row7 col10\" >nan</td>\n      <td id=\"T_25f9f_row7_col11\" class=\"data row7 col11\" >nan</td>\n      <td id=\"T_25f9f_row7_col12\" class=\"data row7 col12\" >nan</td>\n      <td id=\"T_25f9f_row7_col13\" class=\"data row7 col13\" >nan</td>\n      <td id=\"T_25f9f_row7_col14\" class=\"data row7 col14\" >0.015</td>\n      <td id=\"T_25f9f_row7_col15\" class=\"data row7 col15\" >nan</td>\n    </tr>\n    <tr>\n      <th id=\"T_25f9f_level0_row8\" class=\"row_heading level0 row8\" >FE</th>\n      <td id=\"T_25f9f_row8_col0\" class=\"data row8 col0\" >nan</td>\n      <td id=\"T_25f9f_row8_col1\" class=\"data row8 col1\" >nan</td>\n      <td id=\"T_25f9f_row8_col2\" class=\"data row8 col2\" >nan</td>\n      <td id=\"T_25f9f_row8_col3\" class=\"data row8 col3\" >nan</td>\n      <td id=\"T_25f9f_row8_col4\" class=\"data row8 col4\" >nan</td>\n      <td id=\"T_25f9f_row8_col5\" class=\"data row8 col5\" >nan</td>\n      <td id=\"T_25f9f_row8_col6\" class=\"data row8 col6\" >nan</td>\n      <td id=\"T_25f9f_row8_col7\" class=\"data row8 col7\" >nan</td>\n      <td id=\"T_25f9f_row8_col8\" class=\"data row8 col8\" >nan</td>\n      <td id=\"T_25f9f_row8_col9\" class=\"data row8 col9\" >nan</td>\n      <td id=\"T_25f9f_row8_col10\" class=\"data row8 col10\" >0.019</td>\n      <td id=\"T_25f9f_row8_col11\" class=\"data row8 col11\" >nan</td>\n      <td id=\"T_25f9f_row8_col12\" class=\"data row8 col12\" >nan</td>\n      <td id=\"T_25f9f_row8_col13\" class=\"data row8 col13\" >nan</td>\n      <td id=\"T_25f9f_row8_col14\" class=\"data row8 col14\" >nan</td>\n      <td id=\"T_25f9f_row8_col15\" class=\"data row8 col15\" >nan</td>\n    </tr>\n    <tr>\n      <th id=\"T_25f9f_level0_row9\" class=\"row_heading level0 row9\" >NI</th>\n      <td id=\"T_25f9f_row9_col0\" class=\"data row9 col0\" >nan</td>\n      <td id=\"T_25f9f_row9_col1\" class=\"data row9 col1\" >nan</td>\n      <td id=\"T_25f9f_row9_col2\" class=\"data row9 col2\" >nan</td>\n      <td id=\"T_25f9f_row9_col3\" class=\"data row9 col3\" >nan</td>\n      <td id=\"T_25f9f_row9_col4\" class=\"data row9 col4\" >nan</td>\n      <td id=\"T_25f9f_row9_col5\" class=\"data row9 col5\" >nan</td>\n      <td id=\"T_25f9f_row9_col6\" class=\"data row9 col6\" >nan</td>\n      <td id=\"T_25f9f_row9_col7\" class=\"data row9 col7\" >nan</td>\n      <td id=\"T_25f9f_row9_col8\" class=\"data row9 col8\" >nan</td>\n      <td id=\"T_25f9f_row9_col9\" class=\"data row9 col9\" >0.039</td>\n      <td id=\"T_25f9f_row9_col10\" class=\"data row9 col10\" >nan</td>\n      <td id=\"T_25f9f_row9_col11\" class=\"data row9 col11\" >nan</td>\n      <td id=\"T_25f9f_row9_col12\" class=\"data row9 col12\" >nan</td>\n      <td id=\"T_25f9f_row9_col13\" class=\"data row9 col13\" >nan</td>\n      <td id=\"T_25f9f_row9_col14\" class=\"data row9 col14\" >nan</td>\n      <td id=\"T_25f9f_row9_col15\" class=\"data row9 col15\" >nan</td>\n    </tr>\n    <tr>\n      <th id=\"T_25f9f_level0_row10\" class=\"row_heading level0 row10\" >PCG</th>\n      <td id=\"T_25f9f_row10_col0\" class=\"data row10 col0\" >nan</td>\n      <td id=\"T_25f9f_row10_col1\" class=\"data row10 col1\" >nan</td>\n      <td id=\"T_25f9f_row10_col2\" class=\"data row10 col2\" >nan</td>\n      <td id=\"T_25f9f_row10_col3\" class=\"data row10 col3\" >nan</td>\n      <td id=\"T_25f9f_row10_col4\" class=\"data row10 col4\" >nan</td>\n      <td id=\"T_25f9f_row10_col5\" class=\"data row10 col5\" >nan</td>\n      <td id=\"T_25f9f_row10_col6\" class=\"data row10 col6\" >nan</td>\n      <td id=\"T_25f9f_row10_col7\" class=\"data row10 col7\" >nan</td>\n      <td id=\"T_25f9f_row10_col8\" class=\"data row10 col8\" >nan</td>\n      <td id=\"T_25f9f_row10_col9\" class=\"data row10 col9\" >nan</td>\n      <td id=\"T_25f9f_row10_col10\" class=\"data row10 col10\" >nan</td>\n      <td id=\"T_25f9f_row10_col11\" class=\"data row10 col11\" >nan</td>\n      <td id=\"T_25f9f_row10_col12\" class=\"data row10 col12\" >0.041</td>\n      <td id=\"T_25f9f_row10_col13\" class=\"data row10 col13\" >nan</td>\n      <td id=\"T_25f9f_row10_col14\" class=\"data row10 col14\" >nan</td>\n      <td id=\"T_25f9f_row10_col15\" class=\"data row10 col15\" >nan</td>\n    </tr>\n    <tr>\n      <th id=\"T_25f9f_level0_row11\" class=\"row_heading level0 row11\" >SRE</th>\n      <td id=\"T_25f9f_row11_col0\" class=\"data row11 col0\" >nan</td>\n      <td id=\"T_25f9f_row11_col1\" class=\"data row11 col1\" >nan</td>\n      <td id=\"T_25f9f_row11_col2\" class=\"data row11 col2\" >nan</td>\n      <td id=\"T_25f9f_row11_col3\" class=\"data row11 col3\" >nan</td>\n      <td id=\"T_25f9f_row11_col4\" class=\"data row11 col4\" >nan</td>\n      <td id=\"T_25f9f_row11_col5\" class=\"data row11 col5\" >nan</td>\n      <td id=\"T_25f9f_row11_col6\" class=\"data row11 col6\" >nan</td>\n      <td id=\"T_25f9f_row11_col7\" class=\"data row11 col7\" >nan</td>\n      <td id=\"T_25f9f_row11_col8\" class=\"data row11 col8\" >nan</td>\n      <td id=\"T_25f9f_row11_col9\" class=\"data row11 col9\" >nan</td>\n      <td id=\"T_25f9f_row11_col10\" class=\"data row11 col10\" >nan</td>\n      <td id=\"T_25f9f_row11_col11\" class=\"data row11 col11\" >nan</td>\n      <td id=\"T_25f9f_row11_col12\" class=\"data row11 col12\" >nan</td>\n      <td id=\"T_25f9f_row11_col13\" class=\"data row11 col13\" >nan</td>\n      <td id=\"T_25f9f_row11_col14\" class=\"data row11 col14\" >nan</td>\n      <td id=\"T_25f9f_row11_col15\" class=\"data row11 col15\" >0.040</td>\n    </tr>\n  </tbody>\n</table>\n"
     },
     "execution_count": 11,
     "metadata": {},
     "output_type": "execute_result"
    },
    {
     "data": {
      "text/plain": "<Figure size 1000x1000 with 2 Axes>",
      "image/png": "[encoded data removed]"
     },
     "metadata": {},
     "output_type": "display_data"
    }
   ],
   "source": [
    "mask_matrix = (pvalues >= 0.05) # possible to increase the level of significance\n",
    "\n",
    "mask_df = pd.DataFrame(mask_matrix, index= new_tickers, columns = new_tickers)\n",
    "scores_df = pd.DataFrame(scores, index= new_tickers, columns = new_tickers)\n",
    "pvalues_df = pd.DataFrame(pvalues, index= new_tickers, columns = new_tickers)\n",
    "\n",
    "df_f = pvalues_df[~mask_df].dropna(how='all', axis=1)\n",
    "df_f = df_f.dropna(how='all')\n",
    "\n",
    "def gold_apply(x):\n",
    "    color = {True: \"background-color: #c78f2e\", False: \"color : white\"}\n",
    "    is_color = (x > 0).replace(color)\n",
    "    return is_color\n",
    "\n",
    "\n",
    "fig, ax = plt.subplots(figsize=(10, 10))\n",
    "seaborn.heatmap(\n",
    "    df_f,\n",
    "    xticklabels=df_f.columns,\n",
    "    yticklabels=df_f.index,\n",
    "    cmap=\"summer\",\n",
    "    square=True\n",
    ")\n",
    "df_f.style.format(precision=3) \\\n",
    "    .apply(gold_apply)"
   ],
   "metadata": {
    "collapsed": false,
    "ExecuteTime": {
     "end_time": "2023-09-19T22:21:10.312270900Z",
     "start_time": "2023-09-19T22:21:09.642636600Z"
    }
   },
   "id": "dab56bf97ff2d2d2"
  },
  {
   "cell_type": "code",
   "execution_count": 12,
   "outputs": [
    {
     "data": {
      "text/plain": "[('AEE', 'CNP'),\n ('AEP', 'DUK'),\n ('AEP', 'ES'),\n ('AEP', 'SRE'),\n ('CEG', 'CMS'),\n ('CEG', 'DUK'),\n ('CEG', 'EIX'),\n ('CEG', 'ES'),\n ('CEG', 'EVRG'),\n ('CEG', 'NI'),\n ('CEG', 'PEG'),\n ('CEG', 'PPL'),\n ('CEG', 'SO'),\n ('CEG', 'VST'),\n ('CEG', 'WEC'),\n ('CEG', 'XEL'),\n ('CNP', 'EVRG'),\n ('D', 'PCG'),\n ('DTE', 'LNT'),\n ('DUK', 'SRE'),\n ('DUK', 'XEL'),\n ('EVRG', 'WEC'),\n ('FE', 'PPL'),\n ('NI', 'PEG'),\n ('PCG', 'SRE'),\n ('SRE', 'XEL')]"
     },
     "execution_count": 12,
     "metadata": {},
     "output_type": "execute_result"
    }
   ],
   "source": [
    "x_list = df_f.index.tolist()\n",
    "y_list = df_f.columns.tolist()\n",
    "\n",
    "new_pairs_list = [] # list of pairs as tuples (A,B)\n",
    "\n",
    "for i in range(len(x_list)):\n",
    "    for j in range(len(y_list)):\n",
    "        if df_f.iloc[i,j]>0:\n",
    "            new_pairs_list.append((x_list[i], y_list[j]))\n",
    "\n",
    "new_pairs_list"
   ],
   "metadata": {
    "collapsed": false,
    "ExecuteTime": {
     "end_time": "2023-09-19T22:21:10.325272400Z",
     "start_time": "2023-09-19T22:21:10.315267800Z"
    }
   },
   "id": "85385d2b11f55e4e"
  },
  {
   "cell_type": "code",
   "execution_count": 13,
   "outputs": [
    {
     "data": {
      "text/plain": "[['CMS-CEG'],\n ['CNP-AEE'],\n ['DUK-AEP', 'DUK-CEG'],\n ['EIX-CEG'],\n ['ES-AEP', 'ES-CEG'],\n ['EVRG-CEG', 'EVRG-CNP'],\n ['LNT-DTE'],\n ['NI-CEG'],\n ['PCG-D'],\n ['PEG-CEG', 'PEG-NI'],\n ['PPL-CEG', 'PPL-FE'],\n ['SO-CEG'],\n ['SRE-AEP', 'SRE-DUK', 'SRE-PCG'],\n ['VST-CEG'],\n ['WEC-CEG', 'WEC-EVRG'],\n ['XEL-CEG', 'XEL-DUK', 'XEL-SRE']]"
     },
     "execution_count": 13,
     "metadata": {},
     "output_type": "execute_result"
    }
   ],
   "source": [
    "new_pairs_str =[] # list of pairs as string A-B\n",
    "\n",
    "for column in df_f:\n",
    "    toprint = df_f.index[df_f[column]>0].tolist()\n",
    "    new_pairs_str.append([column + \"-\" + s for s in toprint])\n",
    "\n",
    "new_pairs_str"
   ],
   "metadata": {
    "collapsed": false,
    "ExecuteTime": {
     "end_time": "2023-09-19T22:21:10.347468500Z",
     "start_time": "2023-09-19T22:21:10.329262400Z"
    }
   },
   "id": "863e83b09e58839b"
  },
  {
   "cell_type": "code",
   "execution_count": 14,
   "outputs": [
    {
     "data": {
      "text/plain": "{'CMS': ['CEG'],\n 'CNP': ['AEE'],\n 'DUK': ['AEP', 'CEG'],\n 'EIX': ['CEG'],\n 'ES': ['AEP', 'CEG'],\n 'EVRG': ['CEG', 'CNP'],\n 'LNT': ['DTE'],\n 'NI': ['CEG'],\n 'PCG': ['D'],\n 'PEG': ['CEG', 'NI'],\n 'PPL': ['CEG', 'FE'],\n 'SO': ['CEG'],\n 'SRE': ['AEP', 'DUK', 'PCG'],\n 'VST': ['CEG'],\n 'WEC': ['CEG', 'EVRG'],\n 'XEL': ['CEG', 'DUK', 'SRE']}"
     },
     "execution_count": 14,
     "metadata": {},
     "output_type": "execute_result"
    }
   ],
   "source": [
    "new_pairs_dic= {} # list of pairs as dictionary {'A':['B','C']}\n",
    "\n",
    "for column in df_f:\n",
    "    new_pairs_dic[column] = df_f.index[df_f[column]>0].tolist()\n",
    "\n",
    "new_pairs_dic"
   ],
   "metadata": {
    "collapsed": false,
    "ExecuteTime": {
     "end_time": "2023-09-19T22:21:10.495899Z",
     "start_time": "2023-09-19T22:21:10.345947700Z"
    }
   },
   "id": "8dde7d7e10e96612"
  },
  {
   "cell_type": "markdown",
   "source": [
    "### Save to file\n",
    "Save dataframa as pickle to use for the next steps"
   ],
   "metadata": {
    "collapsed": false
   },
   "id": "ee5d80290eb1157f"
  },
  {
   "cell_type": "code",
   "execution_count": 15,
   "outputs": [],
   "source": [
    "df_f.to_pickle(\"data/pairs_to_download.pkl\")"
   ],
   "metadata": {
    "collapsed": false,
    "ExecuteTime": {
     "end_time": "2023-09-19T22:21:10.495899Z",
     "start_time": "2023-09-19T22:21:10.359149400Z"
    }
   },
   "id": "a92337eb8bfd6f40"
  },
  {
   "cell_type": "code",
   "execution_count": 16,
   "outputs": [
    {
     "data": {
      "text/plain": "{'CMS': ['CEG'],\n 'CNP': ['AEE'],\n 'DUK': ['AEP', 'CEG'],\n 'EIX': ['CEG'],\n 'ES': ['AEP', 'CEG'],\n 'EVRG': ['CEG', 'CNP'],\n 'LNT': ['DTE'],\n 'NI': ['CEG'],\n 'PCG': ['D'],\n 'PEG': ['CEG', 'NI'],\n 'PPL': ['CEG', 'FE'],\n 'SO': ['CEG'],\n 'SRE': ['AEP', 'DUK', 'PCG'],\n 'VST': ['CEG'],\n 'WEC': ['CEG', 'EVRG'],\n 'XEL': ['CEG', 'DUK', 'SRE']}"
     },
     "execution_count": 16,
     "metadata": {},
     "output_type": "execute_result"
    }
   ],
   "source": [
    "new_pairs_dic"
   ],
   "metadata": {
    "collapsed": false,
    "ExecuteTime": {
     "end_time": "2023-09-19T22:21:10.495899Z",
     "start_time": "2023-09-19T22:21:10.364648700Z"
    }
   },
   "id": "26bc629b8527a150"
  },
  {
   "cell_type": "code",
   "execution_count": 17,
   "outputs": [],
   "source": [
    "# Define the file path\n",
    "file_path = \"data/pairs_names.json\"\n",
    "\n",
    "# Save the dictionary to the JSON file\n",
    "with open(file_path, \"w\") as json_file:\n",
    "    json.dump(new_pairs_dic, json_file)"
   ],
   "metadata": {
    "collapsed": false,
    "ExecuteTime": {
     "end_time": "2023-09-19T22:21:10.496896600Z",
     "start_time": "2023-09-19T22:21:10.377647300Z"
    }
   },
   "id": "9db1b24cadfd7aba"
  },
  {
   "cell_type": "code",
   "execution_count": 17,
   "outputs": [],
   "source": [],
   "metadata": {
    "collapsed": false,
    "ExecuteTime": {
     "end_time": "2023-09-19T22:21:10.496896600Z",
     "start_time": "2023-09-19T22:21:10.383471700Z"
    }
   },
   "id": "9649198deba29fc6"
  }
 ],
 "metadata": {
  "kernelspec": {
   "display_name": "Python 3",
   "language": "python",
   "name": "python3"
  },
  "language_info": {
   "codemirror_mode": {
    "name": "ipython",
    "version": 2
   },
   "file_extension": ".py",
   "mimetype": "text/x-python",
   "name": "python",
   "nbconvert_exporter": "python",
   "pygments_lexer": "ipython2",
   "version": "2.7.6"
  }
 },
 "nbformat": 4,
 "nbformat_minor": 5
}
