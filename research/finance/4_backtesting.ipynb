{
 "cells": [
  {
   "cell_type": "code",
   "execution_count": 1,
   "outputs": [
    {
     "name": "stderr",
     "output_type": "stream",
     "text": [
      "C:\\Users\\franc\\anaconda3\\Lib\\site-packages\\pyfolio\\pos.py:26: UserWarning: Module \"zipline.assets\" not found; mutltipliers will not be applied to position notionals.\n",
      "  warnings.warn(\n"
     ]
    }
   ],
   "source": [
    "# Importing additional necessary libraries for quant metrics and plotting\n",
    "from pyfolio.timeseries import perf_stats\n",
    "import plotly.graph_objs as go\n",
    "import os\n",
    "import pandas as pd\n",
    "import numpy as np\n",
    "from datetime import datetime\n",
    "from dateutil.relativedelta import relativedelta\n",
    "from scipy.stats import zscore\n",
    "import yfinance as yf\n",
    "import warnings\n",
    "\n",
    "# Ignore all warnings\n",
    "warnings.filterwarnings(\"ignore\")"
   ],
   "metadata": {
    "collapsed": false,
    "ExecuteTime": {
     "end_time": "2023-11-09T15:41:20.189062900Z",
     "start_time": "2023-11-09T15:41:17.518014500Z"
    }
   },
   "id": "6d9dac565a2d8ee"
  },
  {
   "cell_type": "code",
   "execution_count": 2,
   "outputs": [],
   "source": [
    "def backtest(df_trading, asset1 : str, asset2 : str, beta: float):\n",
    "    metrics = {}\n",
    "\n",
    "    df_trading['spread'] = df_trading[asset2] - beta * df_trading[asset1]\n",
    "    df_trading['zscore'] = zscore(df_trading['spread'])\n",
    "\n",
    "    UL = df_trading['zscore'].mean() + df_trading['zscore'].std()\n",
    "    LL = df_trading['zscore'].mean() - df_trading['zscore'].std()\n",
    "\n",
    "    holding_position = False  # Flag to indicate if we are holding a position\n",
    "    df_trading['asset1_signal'] = 0\n",
    "    df_trading['asset2_signal'] = 0\n",
    "\n",
    "    for i in range(1, len(df_trading)):\n",
    "        if not holding_position:\n",
    "            if df_trading['zscore'].iloc[i] > UL:\n",
    "                df_trading['asset1_signal'].iloc[i] = -beta\n",
    "                df_trading['asset2_signal'].iloc[i] = 1\n",
    "                holding_position = True  # Now holding a position\n",
    "\n",
    "            elif df_trading['zscore'].iloc[i] < LL:\n",
    "                df_trading['asset1_signal'].iloc[i] = beta\n",
    "                df_trading['asset2_signal'].iloc[i] = -1\n",
    "                holding_position = True  # Now holding a position\n",
    "\n",
    "        elif holding_position:\n",
    "            if LL <= df_trading['zscore'].iloc[i] <= UL:\n",
    "                # Closing the trade\n",
    "                df_trading['asset1_signal'].iloc[i] = -df_trading['asset1_signal'].iloc[i-1]  # Reverse the last trade\n",
    "                df_trading['asset2_signal'].iloc[i] = -df_trading['asset2_signal'].iloc[i-1]\n",
    "                holding_position = False  # No longer holding a position\n",
    "\n",
    "        # Daily returns\n",
    "    df_trading['asset1_signal'] = df_trading['asset1_signal'].shift(1)\n",
    "    df_trading['asset2_signal'] = df_trading['asset2_signal'].shift(1)\n",
    "\n",
    "    df_trading['asset1_returns'] = df_trading[asset1].pct_change() * df_trading['asset1_signal']\n",
    "    df_trading['asset2_returns'] = df_trading[asset2].pct_change() * df_trading['asset2_signal']\n",
    "\n",
    "    df_trading['portfolio_returns'] = df_trading['asset1_returns'] + df_trading['asset2_returns']\n",
    "\n",
    "    # Quantitative metrics\n",
    "    stats = perf_stats(df_trading['portfolio_returns'].dropna())\n",
    "    metrics['CAGR'] = stats['Annual return']\n",
    "    metrics['Sharpe ratio'] = stats['Sharpe ratio']\n",
    "    metrics['Max Drawdown'] = stats['Max drawdown']\n",
    "    metrics['Number of Trades'] = df_trading['asset1_signal'].ne(0).sum()  # Counting non-zero entries\n",
    "\n",
    "    return metrics, df_trading"
   ],
   "metadata": {
    "collapsed": false,
    "ExecuteTime": {
     "end_time": "2023-11-09T15:41:20.204761400Z",
     "start_time": "2023-11-09T15:41:20.194574700Z"
    }
   },
   "id": "6bd12f17687eeccc"
  },
  {
   "cell_type": "code",
   "execution_count": 3,
   "outputs": [],
   "source": [
    "# Function to save the trading signals graph\n",
    "def save_plotly_graph(df, asset1, asset2):\n",
    "    # Create directory if it doesn't exist\n",
    "    if not os.path.exists('img/signals'):\n",
    "        os.makedirs('img/signals')\n",
    "\n",
    "    # Create the figure\n",
    "    fig = go.Figure()\n",
    "\n",
    "    # Add z-score trace\n",
    "    fig.add_trace(go.Scatter(x=df.index, y=df['zscore'], mode='lines', name='Z-Score'))\n",
    "\n",
    "    # Add upper and lower limits as dashed lines\n",
    "    UL = df['zscore'].mean() + df['zscore'].std()\n",
    "    LL = df['zscore'].mean() - df['zscore'].std()\n",
    "\n",
    "    fig.add_trace(go.Scatter(x=df.index, y=[UL]*len(df.index), mode='lines', name='Upper Limit', line=dict(dash='dash')))\n",
    "    fig.add_trace(go.Scatter(x=df.index, y=[LL]*len(df.index), mode='lines', name='Lower Limit', line=dict(dash='dash')))\n",
    "\n",
    "    # Add buy and sell signals\n",
    "    fig.add_trace(go.Scatter(x=df.index, y=df['zscore'].where(df['asset1_signal'] > 0),\n",
    "                             mode='markers', name='Buy Signal', marker=dict(color='green', symbol='triangle-up')))\n",
    "\n",
    "    fig.add_trace(go.Scatter(x=df.index, y=df['zscore'].where(df['asset1_signal'] < 0),\n",
    "                             mode='markers', name='Sell Signal', marker=dict(color='red', symbol='triangle-down')))\n",
    "\n",
    "    # Layout options\n",
    "    fig.update_layout(title=f'Trading Signals for {asset1} and {asset2}',\n",
    "                      xaxis_title='Date',\n",
    "                      yaxis_title='Z-Score')\n",
    "\n",
    "    # Save the figure\n",
    "    fig.write_html(f'img/signals/{asset1}_{asset2}.html')"
   ],
   "metadata": {
    "collapsed": false,
    "ExecuteTime": {
     "end_time": "2023-11-09T15:41:20.217531100Z",
     "start_time": "2023-11-09T15:41:20.210268300Z"
    }
   },
   "id": "ab77ce08157ba5ae"
  },
  {
   "cell_type": "code",
   "execution_count": 4,
   "outputs": [],
   "source": [
    "# Main function\n",
    "def main(csv_path: str):\n",
    "    # Read the CSV file\n",
    "    asset_pairs = pd.read_csv(csv_path)\n",
    "\n",
    "    # Initialize metrics DataFrame\n",
    "    metrics_df = pd.DataFrame(columns=['Pair Name', 'CAGR', 'Sharpe Ratio', 'Number of Trades', 'Max Drawdown'])\n",
    "\n",
    "    # Date range for backtesting (Last 6 months)\n",
    "    end = datetime.now().date()\n",
    "    start = (datetime.now() - relativedelta(months=6)).date()\n",
    "\n",
    "    for index, row in asset_pairs.iterrows():\n",
    "        print(\"Running Backtest for Asset Pair\")\n",
    "        asset1 = row['Asset1']\n",
    "        asset2 = row['Asset2']\n",
    "        beta = row['Beta']\n",
    "        print(\"Downloading Data\")\n",
    "        # Download data\n",
    "        asset1_data = yf.download(asset1, start=start, end=end, progress=False)['Adj Close']\n",
    "        asset2_data = yf.download(asset2, start=start, end=end, progress=False)['Adj Close']\n",
    "\n",
    "        # DataFrame for backtesting\n",
    "        df_trading = pd.DataFrame({asset1: asset1_data, asset2: asset2_data})\n",
    "        print(\"Running Backtest metrics\")\n",
    "        # Backtest and get metrics and signals\n",
    "        metrics, signals_df = backtest(df_trading, asset1, asset2, beta)\n",
    "\n",
    "        new_row = pd.DataFrame({\n",
    "        'Pair Name': [f'{asset1}_{asset2}'],\n",
    "        'CAGR': [metrics['CAGR']],\n",
    "        'Sharpe Ratio': [metrics['Sharpe ratio']],\n",
    "        'Number of Trades': [metrics['Number of Trades']],\n",
    "        'Max Drawdown': [metrics['Max Drawdown']]\n",
    "        })\n",
    "\n",
    "        metrics_df = pd.concat([metrics_df, new_row], ignore_index=True)\n",
    "\n",
    "\n",
    "        # Save the Plotly graph\n",
    "        save_plotly_graph(signals_df, asset1, asset2)\n",
    "\n",
    "    # Save the metrics DataFrame\n",
    "    metrics_df.to_csv('data/backtest.csv', index=False)"
   ],
   "metadata": {
    "collapsed": false,
    "ExecuteTime": {
     "end_time": "2023-11-09T15:41:20.241927Z",
     "start_time": "2023-11-09T15:41:20.226036500Z"
    }
   },
   "id": "2e3384a471a7f9a3"
  },
  {
   "cell_type": "code",
   "execution_count": 5,
   "outputs": [
    {
     "name": "stdout",
     "output_type": "stream",
     "text": [
      "Running Backtest for Asset Pair\n",
      "Downloading Data\n",
      "Running Backtest metrics\n",
      "Running Backtest for Asset Pair\n",
      "Downloading Data\n",
      "Running Backtest metrics\n",
      "Running Backtest for Asset Pair\n",
      "Downloading Data\n",
      "Running Backtest metrics\n",
      "Running Backtest for Asset Pair\n",
      "Downloading Data\n",
      "Running Backtest metrics\n",
      "Running Backtest for Asset Pair\n",
      "Downloading Data\n",
      "Running Backtest metrics\n",
      "Running Backtest for Asset Pair\n",
      "Downloading Data\n",
      "Running Backtest metrics\n",
      "Running Backtest for Asset Pair\n",
      "Downloading Data\n",
      "Running Backtest metrics\n",
      "Running Backtest for Asset Pair\n",
      "Downloading Data\n",
      "Running Backtest metrics\n",
      "Running Backtest for Asset Pair\n",
      "Downloading Data\n",
      "Running Backtest metrics\n",
      "Running Backtest for Asset Pair\n",
      "Downloading Data\n",
      "Running Backtest metrics\n",
      "Running Backtest for Asset Pair\n",
      "Downloading Data\n",
      "Running Backtest metrics\n",
      "Running Backtest for Asset Pair\n",
      "Downloading Data\n",
      "Running Backtest metrics\n"
     ]
    }
   ],
   "source": [
    "main(\"data/final_pairs.csv\")"
   ],
   "metadata": {
    "collapsed": false,
    "ExecuteTime": {
     "end_time": "2023-11-09T15:41:26.495992700Z",
     "start_time": "2023-11-09T15:41:20.231924400Z"
    }
   },
   "id": "15cc6f29551dd079"
  },
  {
   "cell_type": "code",
   "execution_count": 6,
   "outputs": [],
   "source": [
    "backtest_df = pd.read_csv(\"data/backtest.csv\")"
   ],
   "metadata": {
    "collapsed": false,
    "ExecuteTime": {
     "end_time": "2023-11-09T15:41:26.505715200Z",
     "start_time": "2023-11-09T15:41:26.485208400Z"
    }
   },
   "id": "92f839cebacb274a"
  },
  {
   "cell_type": "code",
   "execution_count": 7,
   "outputs": [
    {
     "data": {
      "text/plain": "    Pair Name      CAGR  Sharpe Ratio  Number of Trades  Max Drawdown\n0     ING_HDB -0.127697     -1.153823                 7     -0.088159\n1     JPM_HDB -0.011418     -0.363413                 6     -0.017040\n2      MA_HDB -0.064267     -1.514650                 7     -0.040350\n3     MMC_ICE  0.100025      2.395764                10     -0.007826\n4      RY_BNS -0.048611     -1.955886                12     -0.027408\n5       RY_MS  0.017085      0.268019                 9     -0.043571\n6   SMFG_BBVA -0.062264     -1.448641                12     -0.047156\n7     UBS_PGR  0.088597      0.788386                 5     -0.032343\n8      USB_TD  0.057496      1.391327                15     -0.012442\n9      V_BBVA  0.067184      0.797778                12     -0.028854\n10     V_PYPL -0.134706     -1.498371                10     -0.094399\n11      V_SAN  0.076176      0.788896                22     -0.039446",
      "text/html": "<div>\n<style scoped>\n    .dataframe tbody tr th:only-of-type {\n        vertical-align: middle;\n    }\n\n    .dataframe tbody tr th {\n        vertical-align: top;\n    }\n\n    .dataframe thead th {\n        text-align: right;\n    }\n</style>\n<table border=\"1\" class=\"dataframe\">\n  <thead>\n    <tr style=\"text-align: right;\">\n      <th></th>\n      <th>Pair Name</th>\n      <th>CAGR</th>\n      <th>Sharpe Ratio</th>\n      <th>Number of Trades</th>\n      <th>Max Drawdown</th>\n    </tr>\n  </thead>\n  <tbody>\n    <tr>\n      <th>0</th>\n      <td>ING_HDB</td>\n      <td>-0.127697</td>\n      <td>-1.153823</td>\n      <td>7</td>\n      <td>-0.088159</td>\n    </tr>\n    <tr>\n      <th>1</th>\n      <td>JPM_HDB</td>\n      <td>-0.011418</td>\n      <td>-0.363413</td>\n      <td>6</td>\n      <td>-0.017040</td>\n    </tr>\n    <tr>\n      <th>2</th>\n      <td>MA_HDB</td>\n      <td>-0.064267</td>\n      <td>-1.514650</td>\n      <td>7</td>\n      <td>-0.040350</td>\n    </tr>\n    <tr>\n      <th>3</th>\n      <td>MMC_ICE</td>\n      <td>0.100025</td>\n      <td>2.395764</td>\n      <td>10</td>\n      <td>-0.007826</td>\n    </tr>\n    <tr>\n      <th>4</th>\n      <td>RY_BNS</td>\n      <td>-0.048611</td>\n      <td>-1.955886</td>\n      <td>12</td>\n      <td>-0.027408</td>\n    </tr>\n    <tr>\n      <th>5</th>\n      <td>RY_MS</td>\n      <td>0.017085</td>\n      <td>0.268019</td>\n      <td>9</td>\n      <td>-0.043571</td>\n    </tr>\n    <tr>\n      <th>6</th>\n      <td>SMFG_BBVA</td>\n      <td>-0.062264</td>\n      <td>-1.448641</td>\n      <td>12</td>\n      <td>-0.047156</td>\n    </tr>\n    <tr>\n      <th>7</th>\n      <td>UBS_PGR</td>\n      <td>0.088597</td>\n      <td>0.788386</td>\n      <td>5</td>\n      <td>-0.032343</td>\n    </tr>\n    <tr>\n      <th>8</th>\n      <td>USB_TD</td>\n      <td>0.057496</td>\n      <td>1.391327</td>\n      <td>15</td>\n      <td>-0.012442</td>\n    </tr>\n    <tr>\n      <th>9</th>\n      <td>V_BBVA</td>\n      <td>0.067184</td>\n      <td>0.797778</td>\n      <td>12</td>\n      <td>-0.028854</td>\n    </tr>\n    <tr>\n      <th>10</th>\n      <td>V_PYPL</td>\n      <td>-0.134706</td>\n      <td>-1.498371</td>\n      <td>10</td>\n      <td>-0.094399</td>\n    </tr>\n    <tr>\n      <th>11</th>\n      <td>V_SAN</td>\n      <td>0.076176</td>\n      <td>0.788896</td>\n      <td>22</td>\n      <td>-0.039446</td>\n    </tr>\n  </tbody>\n</table>\n</div>"
     },
     "execution_count": 7,
     "metadata": {},
     "output_type": "execute_result"
    }
   ],
   "source": [
    "backtest_df"
   ],
   "metadata": {
    "collapsed": false,
    "ExecuteTime": {
     "end_time": "2023-11-09T15:41:26.532377100Z",
     "start_time": "2023-11-09T15:41:26.505715200Z"
    }
   },
   "id": "8aba3dfc5c0b4ea"
  }
 ],
 "metadata": {
  "kernelspec": {
   "display_name": "Python 3",
   "language": "python",
   "name": "python3"
  },
  "language_info": {
   "codemirror_mode": {
    "name": "ipython",
    "version": 2
   },
   "file_extension": ".py",
   "mimetype": "text/x-python",
   "name": "python",
   "nbconvert_exporter": "python",
   "pygments_lexer": "ipython2",
   "version": "2.7.6"
  }
 },
 "nbformat": 4,
 "nbformat_minor": 5
}
