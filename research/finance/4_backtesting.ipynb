{
 "cells": [
  {
   "cell_type": "code",
   "execution_count": 6,
   "outputs": [],
   "source": [
    "# Importing additional necessary libraries for quant metrics and plotting\n",
    "from pyfolio.timeseries import perf_stats\n",
    "import plotly.graph_objs as go\n",
    "import os\n",
    "import pandas as pd\n",
    "import numpy as np\n",
    "from datetime import datetime\n",
    "from dateutil.relativedelta import relativedelta\n",
    "from scipy.stats import zscore\n",
    "import yfinance as yf\n",
    "import warnings\n",
    "\n",
    "# Ignore all warnings\n",
    "warnings.filterwarnings(\"ignore\")"
   ],
   "metadata": {
    "collapsed": false,
    "ExecuteTime": {
     "end_time": "2023-10-30T13:58:57.627822400Z",
     "start_time": "2023-10-30T13:58:57.607911300Z"
    }
   },
   "id": "6d9dac565a2d8ee"
  },
  {
   "cell_type": "code",
   "execution_count": 7,
   "outputs": [],
   "source": [
    "def backtest(df_trading, asset1 : str, asset2 : str, beta: float):\n",
    "    metrics = {}\n",
    "\n",
    "    df_trading['spread'] = df_trading[asset2] - beta * df_trading[asset1]\n",
    "    df_trading['zscore'] = zscore(df_trading['spread'])\n",
    "\n",
    "    UL = df_trading['zscore'].mean() + df_trading['zscore'].std()\n",
    "    LL = df_trading['zscore'].mean() - df_trading['zscore'].std()\n",
    "\n",
    "    holding_position = False  # Flag to indicate if we are holding a position\n",
    "    df_trading['asset1_signal'] = 0\n",
    "    df_trading['asset2_signal'] = 0\n",
    "\n",
    "    for i in range(1, len(df_trading)):\n",
    "        if not holding_position:\n",
    "            if df_trading['zscore'].iloc[i] > UL:\n",
    "                df_trading['asset1_signal'].iloc[i] = -beta\n",
    "                df_trading['asset2_signal'].iloc[i] = 1\n",
    "                holding_position = True  # Now holding a position\n",
    "\n",
    "            elif df_trading['zscore'].iloc[i] < LL:\n",
    "                df_trading['asset1_signal'].iloc[i] = beta\n",
    "                df_trading['asset2_signal'].iloc[i] = -1\n",
    "                holding_position = True  # Now holding a position\n",
    "\n",
    "        elif holding_position:\n",
    "            if LL <= df_trading['zscore'].iloc[i] <= UL:\n",
    "                # Closing the trade\n",
    "                df_trading['asset1_signal'].iloc[i] = -df_trading['asset1_signal'].iloc[i-1]  # Reverse the last trade\n",
    "                df_trading['asset2_signal'].iloc[i] = -df_trading['asset2_signal'].iloc[i-1]\n",
    "                holding_position = False  # No longer holding a position\n",
    "\n",
    "        # Daily returns\n",
    "    df_trading['asset1_signal'] = df_trading['asset1_signal'].shift(1)\n",
    "    df_trading['asset2_signal'] = df_trading['asset2_signal'].shift(1)\n",
    "\n",
    "    df_trading['asset1_returns'] = df_trading[asset1].pct_change() * df_trading['asset1_signal']\n",
    "    df_trading['asset2_returns'] = df_trading[asset2].pct_change() * df_trading['asset2_signal']\n",
    "\n",
    "    df_trading['portfolio_returns'] = df_trading['asset1_returns'] + df_trading['asset2_returns']\n",
    "\n",
    "    # Quantitative metrics\n",
    "    stats = perf_stats(df_trading['portfolio_returns'].dropna())\n",
    "    metrics['CAGR'] = stats['Annual return']\n",
    "    metrics['Sharpe ratio'] = stats['Sharpe ratio']\n",
    "    metrics['Max Drawdown'] = stats['Max drawdown']\n",
    "    metrics['Number of Trades'] = df_trading['asset1_signal'].ne(0).sum()  # Counting non-zero entries\n",
    "\n",
    "    return metrics, df_trading"
   ],
   "metadata": {
    "collapsed": false,
    "ExecuteTime": {
     "end_time": "2023-10-30T13:58:57.663954600Z",
     "start_time": "2023-10-30T13:58:57.611228900Z"
    }
   },
   "id": "6bd12f17687eeccc"
  },
  {
   "cell_type": "code",
   "execution_count": 8,
   "outputs": [],
   "source": [
    "# Function to save the trading signals graph\n",
    "def save_plotly_graph(df, asset1, asset2):\n",
    "    # Create directory if it doesn't exist\n",
    "    if not os.path.exists('img/signals'):\n",
    "        os.makedirs('img/signals')\n",
    "\n",
    "    # Create the figure\n",
    "    fig = go.Figure()\n",
    "\n",
    "    # Add z-score trace\n",
    "    fig.add_trace(go.Scatter(x=df.index, y=df['zscore'], mode='lines', name='Z-Score'))\n",
    "\n",
    "    # Add upper and lower limits as dashed lines\n",
    "    UL = df['zscore'].mean() + df['zscore'].std()\n",
    "    LL = df['zscore'].mean() - df['zscore'].std()\n",
    "\n",
    "    fig.add_trace(go.Scatter(x=df.index, y=[UL]*len(df.index), mode='lines', name='Upper Limit', line=dict(dash='dash')))\n",
    "    fig.add_trace(go.Scatter(x=df.index, y=[LL]*len(df.index), mode='lines', name='Lower Limit', line=dict(dash='dash')))\n",
    "\n",
    "    # Add buy and sell signals\n",
    "    fig.add_trace(go.Scatter(x=df.index, y=df['zscore'].where(df['asset1_signal'] > 0),\n",
    "                             mode='markers', name='Buy Signal', marker=dict(color='green', symbol='triangle-up')))\n",
    "\n",
    "    fig.add_trace(go.Scatter(x=df.index, y=df['zscore'].where(df['asset1_signal'] < 0),\n",
    "                             mode='markers', name='Sell Signal', marker=dict(color='red', symbol='triangle-down')))\n",
    "\n",
    "    # Layout options\n",
    "    fig.update_layout(title=f'Trading Signals for {asset1} and {asset2}',\n",
    "                      xaxis_title='Date',\n",
    "                      yaxis_title='Z-Score')\n",
    "\n",
    "    # Save the figure\n",
    "    fig.write_html(f'img/signals/{asset1}_{asset2}.html')"
   ],
   "metadata": {
    "collapsed": false,
    "ExecuteTime": {
     "end_time": "2023-10-30T13:58:57.663954600Z",
     "start_time": "2023-10-30T13:58:57.627822400Z"
    }
   },
   "id": "ab77ce08157ba5ae"
  },
  {
   "cell_type": "code",
   "execution_count": 9,
   "outputs": [],
   "source": [
    "# Main function\n",
    "def main(csv_path: str):\n",
    "    # Read the CSV file\n",
    "    asset_pairs = pd.read_csv(csv_path)\n",
    "\n",
    "    # Initialize metrics DataFrame\n",
    "    metrics_df = pd.DataFrame(columns=['Pair Name', 'CAGR', 'Sharpe Ratio', 'Number of Trades', 'Max Drawdown'])\n",
    "\n",
    "    # Date range for backtesting (Last 6 months)\n",
    "    end = datetime.now().date()\n",
    "    start = (datetime.now() - relativedelta(months=6)).date()\n",
    "\n",
    "    for index, row in asset_pairs.iterrows():\n",
    "        print(\"Running Backtest for Asset Pair\")\n",
    "        asset1 = row['Asset1']\n",
    "        asset2 = row['Asset2']\n",
    "        beta = row['Beta']\n",
    "        print(\"Downloading Data\")\n",
    "        # Download data\n",
    "        asset1_data = yf.download(asset1, start=start, end=end, progress=False)['Adj Close']\n",
    "        asset2_data = yf.download(asset2, start=start, end=end, progress=False)['Adj Close']\n",
    "\n",
    "        # DataFrame for backtesting\n",
    "        df_trading = pd.DataFrame({asset1: asset1_data, asset2: asset2_data})\n",
    "        print(\"Running Backtest metrics\")\n",
    "        # Backtest and get metrics and signals\n",
    "        metrics, signals_df = backtest(df_trading, asset1, asset2, beta)\n",
    "\n",
    "        new_row = pd.DataFrame({\n",
    "        'Pair Name': [f'{asset1}_{asset2}'],\n",
    "        'CAGR': [metrics['CAGR']],\n",
    "        'Sharpe Ratio': [metrics['Sharpe ratio']],\n",
    "        'Number of Trades': [metrics['Number of Trades']],\n",
    "        'Max Drawdown': [metrics['Max Drawdown']]\n",
    "        })\n",
    "\n",
    "        metrics_df = pd.concat([metrics_df, new_row], ignore_index=True)\n",
    "\n",
    "\n",
    "        # Save the Plotly graph\n",
    "        save_plotly_graph(signals_df, asset1, asset2)\n",
    "\n",
    "    # Save the metrics DataFrame\n",
    "    metrics_df.to_csv('data/backtest.csv', index=False)"
   ],
   "metadata": {
    "collapsed": false,
    "ExecuteTime": {
     "end_time": "2023-10-30T13:58:57.679637600Z",
     "start_time": "2023-10-30T13:58:57.645258200Z"
    }
   },
   "id": "2e3384a471a7f9a3"
  },
  {
   "cell_type": "code",
   "execution_count": 10,
   "outputs": [
    {
     "name": "stdout",
     "output_type": "stream",
     "text": [
      "Running Backtest for Asset Pair\n"
     ]
    },
    {
     "ename": "KeyError",
     "evalue": "'Asset1'",
     "output_type": "error",
     "traceback": [
      "\u001B[1;31m---------------------------------------------------------------------------\u001B[0m",
      "\u001B[1;31mKeyError\u001B[0m                                  Traceback (most recent call last)",
      "File \u001B[1;32m~\\anaconda3\\Lib\\site-packages\\pandas\\core\\indexes\\base.py:3802\u001B[0m, in \u001B[0;36mIndex.get_loc\u001B[1;34m(self, key, method, tolerance)\u001B[0m\n\u001B[0;32m   3801\u001B[0m \u001B[38;5;28;01mtry\u001B[39;00m:\n\u001B[1;32m-> 3802\u001B[0m     \u001B[38;5;28;01mreturn\u001B[39;00m \u001B[38;5;28mself\u001B[39m\u001B[38;5;241m.\u001B[39m_engine\u001B[38;5;241m.\u001B[39mget_loc(casted_key)\n\u001B[0;32m   3803\u001B[0m \u001B[38;5;28;01mexcept\u001B[39;00m \u001B[38;5;167;01mKeyError\u001B[39;00m \u001B[38;5;28;01mas\u001B[39;00m err:\n",
      "File \u001B[1;32m~\\anaconda3\\Lib\\site-packages\\pandas\\_libs\\index.pyx:138\u001B[0m, in \u001B[0;36mpandas._libs.index.IndexEngine.get_loc\u001B[1;34m()\u001B[0m\n",
      "File \u001B[1;32m~\\anaconda3\\Lib\\site-packages\\pandas\\_libs\\index.pyx:165\u001B[0m, in \u001B[0;36mpandas._libs.index.IndexEngine.get_loc\u001B[1;34m()\u001B[0m\n",
      "File \u001B[1;32mpandas\\_libs\\hashtable_class_helper.pxi:5745\u001B[0m, in \u001B[0;36mpandas._libs.hashtable.PyObjectHashTable.get_item\u001B[1;34m()\u001B[0m\n",
      "File \u001B[1;32mpandas\\_libs\\hashtable_class_helper.pxi:5753\u001B[0m, in \u001B[0;36mpandas._libs.hashtable.PyObjectHashTable.get_item\u001B[1;34m()\u001B[0m\n",
      "\u001B[1;31mKeyError\u001B[0m: 'Asset1'",
      "\nThe above exception was the direct cause of the following exception:\n",
      "\u001B[1;31mKeyError\u001B[0m                                  Traceback (most recent call last)",
      "Cell \u001B[1;32mIn[10], line 1\u001B[0m\n\u001B[1;32m----> 1\u001B[0m main(\u001B[38;5;124m\"\u001B[39m\u001B[38;5;124mdata/final_pair.csv\u001B[39m\u001B[38;5;124m\"\u001B[39m)\n",
      "Cell \u001B[1;32mIn[9], line 15\u001B[0m, in \u001B[0;36mmain\u001B[1;34m(csv_path)\u001B[0m\n\u001B[0;32m     13\u001B[0m \u001B[38;5;28;01mfor\u001B[39;00m index, row \u001B[38;5;129;01min\u001B[39;00m asset_pairs\u001B[38;5;241m.\u001B[39miterrows():\n\u001B[0;32m     14\u001B[0m     \u001B[38;5;28mprint\u001B[39m(\u001B[38;5;124m\"\u001B[39m\u001B[38;5;124mRunning Backtest for Asset Pair\u001B[39m\u001B[38;5;124m\"\u001B[39m)\n\u001B[1;32m---> 15\u001B[0m     asset1 \u001B[38;5;241m=\u001B[39m row[\u001B[38;5;124m'\u001B[39m\u001B[38;5;124mAsset1\u001B[39m\u001B[38;5;124m'\u001B[39m]\n\u001B[0;32m     16\u001B[0m     asset2 \u001B[38;5;241m=\u001B[39m row[\u001B[38;5;124m'\u001B[39m\u001B[38;5;124mAsset2\u001B[39m\u001B[38;5;124m'\u001B[39m]\n\u001B[0;32m     17\u001B[0m     beta \u001B[38;5;241m=\u001B[39m row[\u001B[38;5;124m'\u001B[39m\u001B[38;5;124mBeta\u001B[39m\u001B[38;5;124m'\u001B[39m]\n",
      "File \u001B[1;32m~\\anaconda3\\Lib\\site-packages\\pandas\\core\\series.py:981\u001B[0m, in \u001B[0;36mSeries.__getitem__\u001B[1;34m(self, key)\u001B[0m\n\u001B[0;32m    978\u001B[0m     \u001B[38;5;28;01mreturn\u001B[39;00m \u001B[38;5;28mself\u001B[39m\u001B[38;5;241m.\u001B[39m_values[key]\n\u001B[0;32m    980\u001B[0m \u001B[38;5;28;01melif\u001B[39;00m key_is_scalar:\n\u001B[1;32m--> 981\u001B[0m     \u001B[38;5;28;01mreturn\u001B[39;00m \u001B[38;5;28mself\u001B[39m\u001B[38;5;241m.\u001B[39m_get_value(key)\n\u001B[0;32m    983\u001B[0m \u001B[38;5;28;01mif\u001B[39;00m is_hashable(key):\n\u001B[0;32m    984\u001B[0m     \u001B[38;5;66;03m# Otherwise index.get_value will raise InvalidIndexError\u001B[39;00m\n\u001B[0;32m    985\u001B[0m     \u001B[38;5;28;01mtry\u001B[39;00m:\n\u001B[0;32m    986\u001B[0m         \u001B[38;5;66;03m# For labels that don't resolve as scalars like tuples and frozensets\u001B[39;00m\n",
      "File \u001B[1;32m~\\anaconda3\\Lib\\site-packages\\pandas\\core\\series.py:1089\u001B[0m, in \u001B[0;36mSeries._get_value\u001B[1;34m(self, label, takeable)\u001B[0m\n\u001B[0;32m   1086\u001B[0m     \u001B[38;5;28;01mreturn\u001B[39;00m \u001B[38;5;28mself\u001B[39m\u001B[38;5;241m.\u001B[39m_values[label]\n\u001B[0;32m   1088\u001B[0m \u001B[38;5;66;03m# Similar to Index.get_value, but we do not fall back to positional\u001B[39;00m\n\u001B[1;32m-> 1089\u001B[0m loc \u001B[38;5;241m=\u001B[39m \u001B[38;5;28mself\u001B[39m\u001B[38;5;241m.\u001B[39mindex\u001B[38;5;241m.\u001B[39mget_loc(label)\n\u001B[0;32m   1090\u001B[0m \u001B[38;5;28;01mreturn\u001B[39;00m \u001B[38;5;28mself\u001B[39m\u001B[38;5;241m.\u001B[39mindex\u001B[38;5;241m.\u001B[39m_get_values_for_loc(\u001B[38;5;28mself\u001B[39m, loc, label)\n",
      "File \u001B[1;32m~\\anaconda3\\Lib\\site-packages\\pandas\\core\\indexes\\base.py:3804\u001B[0m, in \u001B[0;36mIndex.get_loc\u001B[1;34m(self, key, method, tolerance)\u001B[0m\n\u001B[0;32m   3802\u001B[0m     \u001B[38;5;28;01mreturn\u001B[39;00m \u001B[38;5;28mself\u001B[39m\u001B[38;5;241m.\u001B[39m_engine\u001B[38;5;241m.\u001B[39mget_loc(casted_key)\n\u001B[0;32m   3803\u001B[0m \u001B[38;5;28;01mexcept\u001B[39;00m \u001B[38;5;167;01mKeyError\u001B[39;00m \u001B[38;5;28;01mas\u001B[39;00m err:\n\u001B[1;32m-> 3804\u001B[0m     \u001B[38;5;28;01mraise\u001B[39;00m \u001B[38;5;167;01mKeyError\u001B[39;00m(key) \u001B[38;5;28;01mfrom\u001B[39;00m \u001B[38;5;21;01merr\u001B[39;00m\n\u001B[0;32m   3805\u001B[0m \u001B[38;5;28;01mexcept\u001B[39;00m \u001B[38;5;167;01mTypeError\u001B[39;00m:\n\u001B[0;32m   3806\u001B[0m     \u001B[38;5;66;03m# If we have a listlike key, _check_indexing_error will raise\u001B[39;00m\n\u001B[0;32m   3807\u001B[0m     \u001B[38;5;66;03m#  InvalidIndexError. Otherwise we fall through and re-raise\u001B[39;00m\n\u001B[0;32m   3808\u001B[0m     \u001B[38;5;66;03m#  the TypeError.\u001B[39;00m\n\u001B[0;32m   3809\u001B[0m     \u001B[38;5;28mself\u001B[39m\u001B[38;5;241m.\u001B[39m_check_indexing_error(key)\n",
      "\u001B[1;31mKeyError\u001B[0m: 'Asset1'"
     ]
    }
   ],
   "source": [
    "main(\"data/final_pair.csv\")"
   ],
   "metadata": {
    "collapsed": false,
    "ExecuteTime": {
     "end_time": "2023-10-30T13:58:57.797988900Z",
     "start_time": "2023-10-30T13:58:57.657875600Z"
    }
   },
   "id": "15cc6f29551dd079"
  },
  {
   "cell_type": "code",
   "execution_count": null,
   "outputs": [],
   "source": [
    "backtest_df = pd.read_csv(\"data/backtest.csv\")"
   ],
   "metadata": {
    "collapsed": false,
    "ExecuteTime": {
     "end_time": "2023-10-30T13:58:57.802053100Z",
     "start_time": "2023-10-30T13:58:57.802053100Z"
    }
   },
   "id": "92f839cebacb274a"
  },
  {
   "cell_type": "code",
   "execution_count": null,
   "outputs": [],
   "source": [
    "backtest_df"
   ],
   "metadata": {
    "collapsed": false,
    "ExecuteTime": {
     "start_time": "2023-10-30T13:58:57.804081700Z"
    }
   },
   "id": "8aba3dfc5c0b4ea"
  }
 ],
 "metadata": {
  "kernelspec": {
   "display_name": "Python 3",
   "language": "python",
   "name": "python3"
  },
  "language_info": {
   "codemirror_mode": {
    "name": "ipython",
    "version": 2
   },
   "file_extension": ".py",
   "mimetype": "text/x-python",
   "name": "python",
   "nbconvert_exporter": "python",
   "pygments_lexer": "ipython2",
   "version": "2.7.6"
  }
 },
 "nbformat": 4,
 "nbformat_minor": 5
}
