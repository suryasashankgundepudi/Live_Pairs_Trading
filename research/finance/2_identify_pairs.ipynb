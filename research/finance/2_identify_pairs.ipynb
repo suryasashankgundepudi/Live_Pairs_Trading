{
 "cells": [
  {
   "cell_type": "code",
   "execution_count": null,
   "id": "initial_id",
   "metadata": {
    "collapsed": true
   },
   "outputs": [],
   "source": [
    "#Find Tickers"
   ]
  },
  {
   "cell_type": "code",
   "execution_count": null,
   "outputs": [],
   "source": [
    "import numpy as np\n",
    "import pandas as pd\n",
    "import yfinance as yf\n",
    "import datetime\n",
    "import matplotlib.pyplot as plt\n",
    "import seaborn\n",
    "from statsmodels.tsa.stattools import coint"
   ],
   "metadata": {
    "collapsed": false
   },
   "id": "c772e278604d213d"
  },
  {
   "cell_type": "code",
   "execution_count": null,
   "outputs": [],
   "source": [
    "filename='data/finance.csv'\n",
    "df = pd.read_csv(filename, index_col = 0)\n",
    "df.head()"
   ],
   "metadata": {
    "collapsed": false
   },
   "id": "fe29a793cb8e1dc9"
  },
  {
   "cell_type": "code",
   "execution_count": null,
   "outputs": [],
   "source": [
    "df.shape"
   ],
   "metadata": {
    "collapsed": false
   },
   "id": "6737716c29907aef"
  },
  {
   "cell_type": "code",
   "execution_count": null,
   "outputs": [],
   "source": [
    "def convert_volume(value):\n",
    "    if 'M' in value:\n",
    "        return float(value.replace('M', '')) * 1e6  # Convert to millions\n",
    "    elif 'k' in value:\n",
    "        return float(value.replace('k', '')) * 1e3  # Convert to thousands\n",
    "    else:\n",
    "        return float(value)  # No conversion needed\n",
    "\n",
    "# Apply the conversion function to the 'Volume' column\n",
    "df['Avg Vol (3 month)'] = df['Avg Vol (3 month)'].apply(convert_volume)"
   ],
   "metadata": {
    "collapsed": false
   },
   "id": "4cd1dc5d1cc728c4"
  },
  {
   "cell_type": "code",
   "execution_count": null,
   "outputs": [],
   "source": [
    "# Define a volume cap\n",
    "volume_cap = 1000000\n",
    "\n",
    "df['Avg Vol (3 month)'] = pd.to_numeric(df['Avg Vol (3 month)'], errors='coerce')\n",
    "df['Price (Intraday)'] = pd.to_numeric(df['Price (Intraday)'], errors='coerce')\n",
    "\n",
    "df = df[['Symbol','Avg Vol (3 month)','Price (Intraday)']].sort_values(by='Avg Vol (3 month)', ascending=False)\n",
    "\n",
    "high_volume = df[\"Avg Vol (3 month)\"]>volume_cap\n",
    "df_h = df[high_volume]\n",
    "tickers = df_h.Symbol.tolist()\n",
    "tickers"
   ],
   "metadata": {
    "collapsed": false
   },
   "id": "90249a81e4831ecd"
  },
  {
   "cell_type": "code",
   "execution_count": null,
   "outputs": [],
   "source": [
    "#period = '1y' #valid periods: 1d,5d,1mo,3mo,6mo,1y,2y,5y,10y,ytd,max\n",
    "#interval = '1d' #valid intervals: 1m,2m,5m,15m,30m,60m,90m,1h,1d,5d,1wk,1mo,3mo\n",
    "#df = yf.download(tickers, period=period, interval=interval)[\"Close\"]\n",
    "\n",
    "\n",
    "# Enable to use start & end dates:\n",
    "start = datetime.date.today() - datetime.timedelta(days=430)\n",
    "end = datetime.date.today() - datetime.timedelta(days=60)\n",
    "\n",
    "df = yf.download(tickers, start, end)[\"Close\"]\n",
    "\n",
    "df.info()"
   ],
   "metadata": {
    "collapsed": false
   },
   "id": "fe5c45090d088845"
  },
  {
   "cell_type": "code",
   "execution_count": null,
   "outputs": [],
   "source": [
    "df.head()"
   ],
   "metadata": {
    "collapsed": false
   },
   "id": "f2942170c7799d02"
  },
  {
   "cell_type": "code",
   "execution_count": null,
   "outputs": [],
   "source": [
    "df = df.dropna(axis=0, how='all') # check if necessary\n",
    "df = df.dropna(axis=1) # check if necessary\n",
    "new_tickers = df.columns.tolist()\n",
    "print(f\"we have {len(new_tickers)} tickers left\")\n",
    "file_name = \"finance_close_prices.pkl\"\n",
    "df.to_pickle(file_name)\n",
    "df.info()"
   ],
   "metadata": {
    "collapsed": false
   },
   "id": "8e6f39404f428895"
  },
  {
   "cell_type": "code",
   "execution_count": null,
   "outputs": [],
   "source": [
    "# let's define a function to loop through the tickers and do a cointegration test for each combination\n",
    "def cointegration_test(data, p_value=0.05):\n",
    "    n = data.shape[1]\n",
    "    # create matrix to be filled later\n",
    "    stats = np.zeros((n, n))\n",
    "    pvalues = np.ones((n, n))\n",
    "    keys = data.keys() # get the info axis, returns columns if object is a dataframe\n",
    "    pairs = []\n",
    "    for i in range(n):\n",
    "        for j in range(i+1, n):\n",
    "            result = coint(data[keys[i]], data[keys[j]])\n",
    "            test_stat = result[0]\n",
    "            pvalue = result[1]\n",
    "            stats[i, j] = test_stat\n",
    "            pvalues[i, j] = pvalue\n",
    "\n",
    "            if pvalue < p_value: # pick only statistically significant ones\n",
    "                pairs.append((keys[i], keys[j]))\n",
    "\n",
    "    return stats, pvalues, pairs\n"
   ],
   "metadata": {
    "collapsed": false
   },
   "id": "72c4465baa524c6c"
  },
  {
   "cell_type": "code",
   "execution_count": null,
   "outputs": [],
   "source": [
    "p_value = 0.05  # A p-value less than 0.05 is typically considered to be statistically significant\n",
    "\n",
    "scores, pvalues, pairs = cointegration_test(df,p_value)\n",
    "\n",
    "fig, ax = plt.subplots(figsize=(10, 10))\n",
    "seaborn.heatmap(\n",
    "    pvalues,\n",
    "    xticklabels=new_tickers,\n",
    "    yticklabels=new_tickers,\n",
    "    cmap=\"ocean\",\n",
    "    mask=(pvalues >= 0.05),\n",
    "    square=True\n",
    ")\n",
    "print(pairs)"
   ],
   "metadata": {
    "collapsed": false
   },
   "id": "a07cae7d5a28e6c7"
  },
  {
   "cell_type": "code",
   "execution_count": null,
   "outputs": [],
   "source": [
    "mask_matrix = (pvalues >= 0.05) # possible to increase the level of significance\n",
    "\n",
    "mask_df = pd.DataFrame(mask_matrix, index= new_tickers, columns = new_tickers)\n",
    "scores_df = pd.DataFrame(scores, index= new_tickers, columns = new_tickers)\n",
    "pvalues_df = pd.DataFrame(pvalues, index= new_tickers, columns = new_tickers)\n",
    "\n",
    "df_f = pvalues_df[~mask_df].dropna(how='all', axis=1)\n",
    "df_f = df_f.dropna(how='all')\n",
    "\n",
    "def gold_apply(x):\n",
    "    color = {True: \"background-color: #c78f2e\", False: \"color : white\"}\n",
    "    is_color = (x > 0).replace(color)\n",
    "    return is_color\n",
    "\n",
    "\n",
    "fig, ax = plt.subplots(figsize=(10, 10))\n",
    "seaborn.heatmap(\n",
    "    df_f,\n",
    "    xticklabels=df_f.columns,\n",
    "    yticklabels=df_f.index,\n",
    "    cmap=\"summer\",\n",
    "    square=True\n",
    ")\n",
    "df_f.style.format(precision=3) \\\n",
    "    .apply(gold_apply)"
   ],
   "metadata": {
    "collapsed": false
   },
   "id": "3f3c787ed5dab76e"
  },
  {
   "cell_type": "code",
   "execution_count": null,
   "outputs": [],
   "source": [
    "x_list = df_f.index.tolist()\n",
    "y_list = df_f.columns.tolist()\n",
    "\n",
    "new_pairs_list = [] # list of pairs as tuples (A,B)\n",
    "\n",
    "for i in range(len(x_list)):\n",
    "    for j in range(len(y_list)):\n",
    "        if df_f.iloc[i,j]>0:\n",
    "            new_pairs_list.append((x_list[i], y_list[j]))\n",
    "\n",
    "new_pairs_list"
   ],
   "metadata": {
    "collapsed": false
   },
   "id": "9e281ec5f91b62b4"
  },
  {
   "cell_type": "code",
   "execution_count": null,
   "outputs": [],
   "source": [
    "new_pairs_str =[] # list of pairs as string A-B\n",
    "\n",
    "for column in df_f:\n",
    "    toprint = df_f.index[df_f[column]>0].tolist()\n",
    "    new_pairs_str.append([column + \"-\" + s for s in toprint])\n",
    "\n",
    "new_pairs_str"
   ],
   "metadata": {
    "collapsed": false
   },
   "id": "a37e1544060b6aa1"
  },
  {
   "cell_type": "code",
   "execution_count": null,
   "outputs": [],
   "source": [
    "new_pairs_dic= {} # list of pairs as dictionary {'A':['B','C']}\n",
    "\n",
    "for column in df_f:\n",
    "    new_pairs_dic[column] = df_f.index[df_f[column]>0].tolist()\n",
    "\n",
    "new_pairs_dic"
   ],
   "metadata": {
    "collapsed": false
   },
   "id": "863c75efe5fbd86e"
  },
  {
   "cell_type": "code",
   "execution_count": null,
   "outputs": [],
   "source": [
    "df_f.to_pickle(\"pairs_to_download.pkl\")"
   ],
   "metadata": {
    "collapsed": false
   },
   "id": "81c6b912deab7ba9"
  }
 ],
 "metadata": {
  "kernelspec": {
   "display_name": "Python 3",
   "language": "python",
   "name": "python3"
  },
  "language_info": {
   "codemirror_mode": {
    "name": "ipython",
    "version": 2
   },
   "file_extension": ".py",
   "mimetype": "text/x-python",
   "name": "python",
   "nbconvert_exporter": "python",
   "pygments_lexer": "ipython2",
   "version": "2.7.6"
  }
 },
 "nbformat": 4,
 "nbformat_minor": 5
}
