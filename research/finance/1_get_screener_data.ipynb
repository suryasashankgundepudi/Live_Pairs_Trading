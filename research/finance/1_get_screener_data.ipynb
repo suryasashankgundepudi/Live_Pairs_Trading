{
 "cells": [
  {
   "cell_type": "markdown",
   "source": [
    "# Franco's Code"
   ],
   "metadata": {
    "collapsed": false
   },
   "id": "6637a3c20d86adef"
  },
  {
   "cell_type": "code",
   "execution_count": 38,
   "outputs": [],
   "source": [
    "import os\n",
    "\n",
    "# Importing the necessary modules\n",
    "import pandas as pd\n",
    "import time\n",
    "import warnings\n",
    "from selenium import webdriver\n",
    "from selenium.webdriver.chrome.service import Service\n",
    "from selenium.webdriver.chrome.options import Options\n",
    "from webdriver_manager.chrome import ChromeDriverManager\n",
    "\n",
    "warnings.filterwarnings('ignore')\n",
    "\n",
    "# Setting up the options for the webdriver\n",
    "options = Options()\n",
    "options.add_experimental_option(\"detach\", True)\n",
    "driver = webdriver.Chrome(service=Service(ChromeDriverManager().install()),\n",
    "                          options=options)\n"
   ],
   "metadata": {
    "collapsed": false,
    "ExecuteTime": {
     "end_time": "2023-10-07T14:13:56.131255700Z",
     "start_time": "2023-10-07T14:13:49.858570Z"
    }
   },
   "id": "904aa0ac9e194443"
  },
  {
   "cell_type": "code",
   "execution_count": 39,
   "outputs": [],
   "source": [
    "def get_yahoo_table(yahoo_link, xpath):\n",
    "    \"\"\"Load a Yahoo Finance page and extract a table as a pandas DataFrame.\n",
    "\n",
    "    :param yahoo_link: Yahoo Finance link to the page\n",
    "    :param xpath: XPath of the table element\n",
    "\n",
    "    :return: pandas DataFrame containing the table data\n",
    "    \"\"\"\n",
    "    # Open a web browser to the provided Yahoo Finance link\n",
    "    driver.get(yahoo_link)\n",
    "\n",
    "    # Wait for the page to fully load (you might need to adjust the time)\n",
    "    time.sleep(5)\n",
    "\n",
    "    # Try to find the table on the page using the provided description (XPath)\n",
    "    try:\n",
    "        table_element = driver.find_element('xpath', xpath)\n",
    "    except:\n",
    "        # If the table is not found, show a message and return nothing\n",
    "        print(\"Table element not found.\")\n",
    "        return None\n",
    "\n",
    "    # Get the contents of the table in a format that computers can understand\n",
    "    table_html = table_element.get_attribute('outerHTML')\n",
    "\n",
    "    # Convert the table's contents into a structured format that can be easily worked with\n",
    "    table_df = pd.read_html(table_html)[0]\n",
    "\n",
    "    # Return the structured table as a result\n",
    "    return table_df\n"
   ],
   "metadata": {
    "collapsed": false,
    "ExecuteTime": {
     "end_time": "2023-10-07T14:13:56.146212800Z",
     "start_time": "2023-10-07T14:13:56.137922700Z"
    }
   },
   "id": "1601d5db77650549"
  },
  {
   "cell_type": "code",
   "execution_count": 40,
   "outputs": [],
   "source": [
    "# You will get this link by going to yahoo finance and doing the screener thing\n",
    "yahoo_link = \"https://finance.yahoo.com/screener/unsaved/7d812a11-7160-460b-8e6a-d2b34e009d41?offset=0&count=100\"\n",
    "# This should be the same for everyone but if you face issue drop a whatsapp message in the group\n",
    "table_xpath = \"/html/body/div[1]/div/div/div[1]/div/div[2]/div/div/div[6]/div/div/section/div/div[2]/div[1]\"\n",
    "\n",
    "table_data = get_yahoo_table(yahoo_link, table_xpath)\n",
    "    "
   ],
   "metadata": {
    "collapsed": false,
    "ExecuteTime": {
     "end_time": "2023-10-07T14:14:05.490262Z",
     "start_time": "2023-10-07T14:13:56.148205500Z"
    }
   },
   "id": "315b7e9085f59bff"
  },
  {
   "cell_type": "code",
   "execution_count": 41,
   "outputs": [
    {
     "data": {
      "text/plain": "   Symbol                                    Name  Price (Intraday)   Change  \\\n0   BRK-B                 Berkshire Hathaway Inc.            346.34     1.28   \n1   BRK-A                 Berkshire Hathaway Inc.         525425.00  1879.94   \n2       V                               Visa Inc.            235.04     1.56   \n3     JPM                    JPMorgan Chase & Co.            145.10     2.20   \n4      MA                 Mastercard Incorporated            397.97     3.77   \n..    ...                                     ...               ...      ...   \n95    ING                          ING Groep N.V.             13.52     0.27   \n96  BBVXF   Banco Bilbao Vizcaya Argentaria, S.A.              7.65     0.00   \n97   BBVA   Banco Bilbao Vizcaya Argentaria, S.A.              8.00     0.06   \n98    PNC  The PNC Financial Services Group, Inc.            120.32    -0.06   \n99  ANZGY              ANZ Group Holdings Limited             16.36     0.36   \n\n   % Change   Volume Avg Vol (3 month) Market Cap  PE Ratio (TTM)  \\\n0    +0.37%   2.224M            3.074M   755.326B            8.70   \n1    +0.36%     7889              7779   755.325B            8.80   \n2    +0.67%   6.398M            5.229M   488.836B           29.87   \n3    +1.54%  10.158M            9.104M   421.674B            9.33   \n4    +0.96%   2.484M            2.291M   374.972B           37.30   \n..      ...      ...               ...        ...             ...   \n95   +2.04%   1.841M            2.342M    47.339B            7.82   \n96    0.00%     5764            139465    48.291B            6.22   \n97   +0.74%   1.042M             1.04M    48.291B            6.50   \n98   -0.05%   2.077M            2.166M    47.918B            8.25   \n99   +2.25%   122935             64270    49.068B           11.28   \n\n    52 Week Range  \n0             NaN  \n1             NaN  \n2             NaN  \n3             NaN  \n4             NaN  \n..            ...  \n95            NaN  \n96            NaN  \n97            NaN  \n98            NaN  \n99            NaN  \n\n[100 rows x 10 columns]",
      "text/html": "<div>\n<style scoped>\n    .dataframe tbody tr th:only-of-type {\n        vertical-align: middle;\n    }\n\n    .dataframe tbody tr th {\n        vertical-align: top;\n    }\n\n    .dataframe thead th {\n        text-align: right;\n    }\n</style>\n<table border=\"1\" class=\"dataframe\">\n  <thead>\n    <tr style=\"text-align: right;\">\n      <th></th>\n      <th>Symbol</th>\n      <th>Name</th>\n      <th>Price (Intraday)</th>\n      <th>Change</th>\n      <th>% Change</th>\n      <th>Volume</th>\n      <th>Avg Vol (3 month)</th>\n      <th>Market Cap</th>\n      <th>PE Ratio (TTM)</th>\n      <th>52 Week Range</th>\n    </tr>\n  </thead>\n  <tbody>\n    <tr>\n      <th>0</th>\n      <td>BRK-B</td>\n      <td>Berkshire Hathaway Inc.</td>\n      <td>346.34</td>\n      <td>1.28</td>\n      <td>+0.37%</td>\n      <td>2.224M</td>\n      <td>3.074M</td>\n      <td>755.326B</td>\n      <td>8.70</td>\n      <td>NaN</td>\n    </tr>\n    <tr>\n      <th>1</th>\n      <td>BRK-A</td>\n      <td>Berkshire Hathaway Inc.</td>\n      <td>525425.00</td>\n      <td>1879.94</td>\n      <td>+0.36%</td>\n      <td>7889</td>\n      <td>7779</td>\n      <td>755.325B</td>\n      <td>8.80</td>\n      <td>NaN</td>\n    </tr>\n    <tr>\n      <th>2</th>\n      <td>V</td>\n      <td>Visa Inc.</td>\n      <td>235.04</td>\n      <td>1.56</td>\n      <td>+0.67%</td>\n      <td>6.398M</td>\n      <td>5.229M</td>\n      <td>488.836B</td>\n      <td>29.87</td>\n      <td>NaN</td>\n    </tr>\n    <tr>\n      <th>3</th>\n      <td>JPM</td>\n      <td>JPMorgan Chase &amp; Co.</td>\n      <td>145.10</td>\n      <td>2.20</td>\n      <td>+1.54%</td>\n      <td>10.158M</td>\n      <td>9.104M</td>\n      <td>421.674B</td>\n      <td>9.33</td>\n      <td>NaN</td>\n    </tr>\n    <tr>\n      <th>4</th>\n      <td>MA</td>\n      <td>Mastercard Incorporated</td>\n      <td>397.97</td>\n      <td>3.77</td>\n      <td>+0.96%</td>\n      <td>2.484M</td>\n      <td>2.291M</td>\n      <td>374.972B</td>\n      <td>37.30</td>\n      <td>NaN</td>\n    </tr>\n    <tr>\n      <th>...</th>\n      <td>...</td>\n      <td>...</td>\n      <td>...</td>\n      <td>...</td>\n      <td>...</td>\n      <td>...</td>\n      <td>...</td>\n      <td>...</td>\n      <td>...</td>\n      <td>...</td>\n    </tr>\n    <tr>\n      <th>95</th>\n      <td>ING</td>\n      <td>ING Groep N.V.</td>\n      <td>13.52</td>\n      <td>0.27</td>\n      <td>+2.04%</td>\n      <td>1.841M</td>\n      <td>2.342M</td>\n      <td>47.339B</td>\n      <td>7.82</td>\n      <td>NaN</td>\n    </tr>\n    <tr>\n      <th>96</th>\n      <td>BBVXF</td>\n      <td>Banco Bilbao Vizcaya Argentaria, S.A.</td>\n      <td>7.65</td>\n      <td>0.00</td>\n      <td>0.00%</td>\n      <td>5764</td>\n      <td>139465</td>\n      <td>48.291B</td>\n      <td>6.22</td>\n      <td>NaN</td>\n    </tr>\n    <tr>\n      <th>97</th>\n      <td>BBVA</td>\n      <td>Banco Bilbao Vizcaya Argentaria, S.A.</td>\n      <td>8.00</td>\n      <td>0.06</td>\n      <td>+0.74%</td>\n      <td>1.042M</td>\n      <td>1.04M</td>\n      <td>48.291B</td>\n      <td>6.50</td>\n      <td>NaN</td>\n    </tr>\n    <tr>\n      <th>98</th>\n      <td>PNC</td>\n      <td>The PNC Financial Services Group, Inc.</td>\n      <td>120.32</td>\n      <td>-0.06</td>\n      <td>-0.05%</td>\n      <td>2.077M</td>\n      <td>2.166M</td>\n      <td>47.918B</td>\n      <td>8.25</td>\n      <td>NaN</td>\n    </tr>\n    <tr>\n      <th>99</th>\n      <td>ANZGY</td>\n      <td>ANZ Group Holdings Limited</td>\n      <td>16.36</td>\n      <td>0.36</td>\n      <td>+2.25%</td>\n      <td>122935</td>\n      <td>64270</td>\n      <td>49.068B</td>\n      <td>11.28</td>\n      <td>NaN</td>\n    </tr>\n  </tbody>\n</table>\n<p>100 rows × 10 columns</p>\n</div>"
     },
     "execution_count": 41,
     "metadata": {},
     "output_type": "execute_result"
    }
   ],
   "source": [
    "table_data"
   ],
   "metadata": {
    "collapsed": false,
    "ExecuteTime": {
     "end_time": "2023-10-07T14:14:05.506722500Z",
     "start_time": "2023-10-07T14:14:05.490262Z"
    }
   },
   "id": "5ddc7aaa95390be4"
  },
  {
   "cell_type": "code",
   "execution_count": 42,
   "outputs": [
    {
     "data": {
      "text/plain": "(100, 10)"
     },
     "execution_count": 42,
     "metadata": {},
     "output_type": "execute_result"
    }
   ],
   "source": [
    "table_data.shape"
   ],
   "metadata": {
    "collapsed": false,
    "ExecuteTime": {
     "end_time": "2023-10-07T14:14:05.521898200Z",
     "start_time": "2023-10-07T14:14:05.506722500Z"
    }
   },
   "id": "f133ab0048ad1f8d"
  },
  {
   "cell_type": "code",
   "execution_count": 43,
   "outputs": [
    {
     "ename": "AttributeError",
     "evalue": "module 'os' has no attribute 'makedev'",
     "output_type": "error",
     "traceback": [
      "\u001B[1;31m---------------------------------------------------------------------------\u001B[0m",
      "\u001B[1;31mAttributeError\u001B[0m                            Traceback (most recent call last)",
      "Cell \u001B[1;32mIn[43], line 2\u001B[0m\n\u001B[0;32m      1\u001B[0m \u001B[38;5;28;01mif\u001B[39;00m \u001B[38;5;129;01mnot\u001B[39;00m os\u001B[38;5;241m.\u001B[39mpath\u001B[38;5;241m.\u001B[39mexists(\u001B[38;5;124m\"\u001B[39m\u001B[38;5;124mdata/\u001B[39m\u001B[38;5;124m\"\u001B[39m):\n\u001B[1;32m----> 2\u001B[0m     os\u001B[38;5;241m.\u001B[39mmakedev(\u001B[38;5;124m\"\u001B[39m\u001B[38;5;124mdata/\u001B[39m\u001B[38;5;124m\"\u001B[39m)\n\u001B[0;32m      3\u001B[0m     \u001B[38;5;28mprint\u001B[39m(\u001B[38;5;124m\"\u001B[39m\u001B[38;5;124mData Directory Created!\u001B[39m\u001B[38;5;124m\"\u001B[39m)\n",
      "\u001B[1;31mAttributeError\u001B[0m: module 'os' has no attribute 'makedev'"
     ]
    }
   ],
   "source": [
    "if not os.path.exists(\"data/\"):\n",
    "    os.makedev(\"data/\")\n",
    "    print(\"Data Directory Created!\")"
   ],
   "metadata": {
    "collapsed": false,
    "ExecuteTime": {
     "end_time": "2023-10-07T14:14:05.654088600Z",
     "start_time": "2023-10-07T14:14:05.521898200Z"
    }
   },
   "id": "ab3455b8e924736c"
  },
  {
   "cell_type": "code",
   "execution_count": null,
   "outputs": [],
   "source": [
    "file_name = \"finance.csv\"\n",
    "table_data.to_csv(\"data/\" + file_name)"
   ],
   "metadata": {
    "collapsed": false,
    "ExecuteTime": {
     "start_time": "2023-10-07T14:14:05.559908500Z"
    }
   },
   "id": "c313b4acaecf19bc"
  },
  {
   "cell_type": "code",
   "execution_count": null,
   "outputs": [],
   "source": [
    "table_data.columns"
   ],
   "metadata": {
    "collapsed": false,
    "ExecuteTime": {
     "start_time": "2023-10-07T14:14:05.559908500Z"
    }
   },
   "id": "aef05ca40fa09b02"
  }
 ],
 "metadata": {
  "kernelspec": {
   "display_name": "Python 3",
   "language": "python",
   "name": "python3"
  },
  "language_info": {
   "codemirror_mode": {
    "name": "ipython",
    "version": 2
   },
   "file_extension": ".py",
   "mimetype": "text/x-python",
   "name": "python",
   "nbconvert_exporter": "python",
   "pygments_lexer": "ipython2",
   "version": "2.7.6"
  }
 },
 "nbformat": 4,
 "nbformat_minor": 5
}
