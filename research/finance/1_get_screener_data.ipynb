{
 "cells": [
  {
   "cell_type": "markdown",
   "source": [
    "# Franco's Code"
   ],
   "metadata": {
    "collapsed": false
   },
   "id": "6637a3c20d86adef"
  },
  {
   "cell_type": "code",
   "execution_count": 7,
   "outputs": [],
   "source": [
    "import os\n",
    "\n",
    "# Importing the necessary modules\n",
    "import pandas as pd\n",
    "import time\n",
    "import warnings\n",
    "from selenium import webdriver\n",
    "from selenium.webdriver.chrome.service import Service\n",
    "from selenium.webdriver.chrome.options import Options\n",
    "from webdriver_manager.chrome import ChromeDriverManager\n",
    "\n",
    "warnings.filterwarnings('ignore')\n",
    "\n",
    "# Setting up the options for the webdriver\n",
    "options = Options()\n",
    "options.add_experimental_option(\"detach\", True)\n",
    "driver = webdriver.Chrome(service=Service(ChromeDriverManager().install()),\n",
    "                          options=options)\n"
   ],
   "metadata": {
    "collapsed": false,
    "ExecuteTime": {
     "end_time": "2023-10-09T22:58:38.879915600Z",
     "start_time": "2023-10-09T22:58:30.105920600Z"
    }
   },
   "id": "904aa0ac9e194443"
  },
  {
   "cell_type": "code",
   "execution_count": 8,
   "outputs": [],
   "source": [
    "def get_yahoo_table(yahoo_link, xpath):\n",
    "    \"\"\"Load a Yahoo Finance page and extract a table as a pandas DataFrame.\n",
    "\n",
    "    :param yahoo_link: Yahoo Finance link to the page\n",
    "    :param xpath: XPath of the table element\n",
    "\n",
    "    :return: pandas DataFrame containing the table data\n",
    "    \"\"\"\n",
    "    # Open a web browser to the provided Yahoo Finance link\n",
    "    driver.get(yahoo_link)\n",
    "\n",
    "    # Wait for the page to fully load (you might need to adjust the time)\n",
    "    time.sleep(5)\n",
    "\n",
    "    # Try to find the table on the page using the provided description (XPath)\n",
    "    try:\n",
    "        table_element = driver.find_element('xpath', xpath)\n",
    "    except:\n",
    "        # If the table is not found, show a message and return nothing\n",
    "        print(\"Table element not found.\")\n",
    "        return None\n",
    "\n",
    "    # Get the contents of the table in a format that computers can understand\n",
    "    table_html = table_element.get_attribute('outerHTML')\n",
    "\n",
    "    # Convert the table's contents into a structured format that can be easily worked with\n",
    "    table_df = pd.read_html(table_html)[0]\n",
    "\n",
    "    # Return the structured table as a result\n",
    "    return table_df\n"
   ],
   "metadata": {
    "collapsed": false,
    "ExecuteTime": {
     "end_time": "2023-10-09T22:58:38.892264Z",
     "start_time": "2023-10-09T22:58:38.887769300Z"
    }
   },
   "id": "1601d5db77650549"
  },
  {
   "cell_type": "code",
   "execution_count": 9,
   "outputs": [],
   "source": [
    "# You will get this link by going to yahoo finance and doing the screener thing\n",
    "yahoo_link = \"https://finance.yahoo.com/screener/unsaved/7d812a11-7160-460b-8e6a-d2b34e009d41?offset=0&count=100\"\n",
    "# This should be the same for everyone but if you face issue drop a whatsapp message in the group\n",
    "table_xpath = \"/html/body/div[1]/div/div/div[1]/div/div[2]/div/div/div[6]/div/div/section/div/div[2]/div[1]\"\n",
    "\n",
    "table_data = get_yahoo_table(yahoo_link, table_xpath)\n",
    "    "
   ],
   "metadata": {
    "collapsed": false,
    "ExecuteTime": {
     "end_time": "2023-10-09T22:58:48.490070Z",
     "start_time": "2023-10-09T22:58:38.894264100Z"
    }
   },
   "id": "315b7e9085f59bff"
  },
  {
   "cell_type": "code",
   "execution_count": 10,
   "outputs": [
    {
     "data": {
      "text/plain": "   Symbol                                      Name  Price (Intraday)  \\\n0   BRK-B                   Berkshire Hathaway Inc.            345.45   \n1   BRK-A                   Berkshire Hathaway Inc.         523690.12   \n2       V                                 Visa Inc.            234.44   \n3     JPM                      JPMorgan Chase & Co.            144.77   \n4      MA                   Mastercard Incorporated            394.74   \n..    ...                                       ...               ...   \n95  WEBNF               Westpac Banking Corporation             13.63   \n96   BBVA     Banco Bilbao Vizcaya Argentaria, S.A.              7.87   \n97  HKXCY  Hong Kong Exchanges and Clearing Limited             37.03   \n98    MET                             MetLife, Inc.             61.90   \n99    ING                            ING Groep N.V.             13.28   \n\n     Change % Change  Volume Avg Vol (3 month) Market Cap  PE Ratio (TTM)  \\\n0     -0.89   -0.26%  2.754M            3.074M   753.385B            8.68   \n1  -1734.88   -0.33%    9421              7779   752.831B            8.77   \n2     -0.60   -0.26%  5.372M            5.229M   487.588B           29.79   \n3     -0.33   -0.23%  6.959M            9.104M   420.715B            9.31   \n4     -3.23   -0.81%  2.475M            2.291M   371.929B           37.00   \n..      ...      ...     ...               ...        ...             ...   \n95    -0.28   -2.01%    3565              5082    47.755B           12.39   \n96    -0.13   -1.63%  725543             1.04M    47.506B            6.40   \n97    -0.11   -0.30%   44310             71834    46.948B           31.92   \n98     0.58   +0.95%  2.795M            3.675M     46.55B          143.95   \n99    -0.24   -1.78%  1.158M            2.342M    46.498B            7.68   \n\n    52 Week Range  \n0             NaN  \n1             NaN  \n2             NaN  \n3             NaN  \n4             NaN  \n..            ...  \n95            NaN  \n96            NaN  \n97            NaN  \n98            NaN  \n99            NaN  \n\n[100 rows x 10 columns]",
      "text/html": "<div>\n<style scoped>\n    .dataframe tbody tr th:only-of-type {\n        vertical-align: middle;\n    }\n\n    .dataframe tbody tr th {\n        vertical-align: top;\n    }\n\n    .dataframe thead th {\n        text-align: right;\n    }\n</style>\n<table border=\"1\" class=\"dataframe\">\n  <thead>\n    <tr style=\"text-align: right;\">\n      <th></th>\n      <th>Symbol</th>\n      <th>Name</th>\n      <th>Price (Intraday)</th>\n      <th>Change</th>\n      <th>% Change</th>\n      <th>Volume</th>\n      <th>Avg Vol (3 month)</th>\n      <th>Market Cap</th>\n      <th>PE Ratio (TTM)</th>\n      <th>52 Week Range</th>\n    </tr>\n  </thead>\n  <tbody>\n    <tr>\n      <th>0</th>\n      <td>BRK-B</td>\n      <td>Berkshire Hathaway Inc.</td>\n      <td>345.45</td>\n      <td>-0.89</td>\n      <td>-0.26%</td>\n      <td>2.754M</td>\n      <td>3.074M</td>\n      <td>753.385B</td>\n      <td>8.68</td>\n      <td>NaN</td>\n    </tr>\n    <tr>\n      <th>1</th>\n      <td>BRK-A</td>\n      <td>Berkshire Hathaway Inc.</td>\n      <td>523690.12</td>\n      <td>-1734.88</td>\n      <td>-0.33%</td>\n      <td>9421</td>\n      <td>7779</td>\n      <td>752.831B</td>\n      <td>8.77</td>\n      <td>NaN</td>\n    </tr>\n    <tr>\n      <th>2</th>\n      <td>V</td>\n      <td>Visa Inc.</td>\n      <td>234.44</td>\n      <td>-0.60</td>\n      <td>-0.26%</td>\n      <td>5.372M</td>\n      <td>5.229M</td>\n      <td>487.588B</td>\n      <td>29.79</td>\n      <td>NaN</td>\n    </tr>\n    <tr>\n      <th>3</th>\n      <td>JPM</td>\n      <td>JPMorgan Chase &amp; Co.</td>\n      <td>144.77</td>\n      <td>-0.33</td>\n      <td>-0.23%</td>\n      <td>6.959M</td>\n      <td>9.104M</td>\n      <td>420.715B</td>\n      <td>9.31</td>\n      <td>NaN</td>\n    </tr>\n    <tr>\n      <th>4</th>\n      <td>MA</td>\n      <td>Mastercard Incorporated</td>\n      <td>394.74</td>\n      <td>-3.23</td>\n      <td>-0.81%</td>\n      <td>2.475M</td>\n      <td>2.291M</td>\n      <td>371.929B</td>\n      <td>37.00</td>\n      <td>NaN</td>\n    </tr>\n    <tr>\n      <th>...</th>\n      <td>...</td>\n      <td>...</td>\n      <td>...</td>\n      <td>...</td>\n      <td>...</td>\n      <td>...</td>\n      <td>...</td>\n      <td>...</td>\n      <td>...</td>\n      <td>...</td>\n    </tr>\n    <tr>\n      <th>95</th>\n      <td>WEBNF</td>\n      <td>Westpac Banking Corporation</td>\n      <td>13.63</td>\n      <td>-0.28</td>\n      <td>-2.01%</td>\n      <td>3565</td>\n      <td>5082</td>\n      <td>47.755B</td>\n      <td>12.39</td>\n      <td>NaN</td>\n    </tr>\n    <tr>\n      <th>96</th>\n      <td>BBVA</td>\n      <td>Banco Bilbao Vizcaya Argentaria, S.A.</td>\n      <td>7.87</td>\n      <td>-0.13</td>\n      <td>-1.63%</td>\n      <td>725543</td>\n      <td>1.04M</td>\n      <td>47.506B</td>\n      <td>6.40</td>\n      <td>NaN</td>\n    </tr>\n    <tr>\n      <th>97</th>\n      <td>HKXCY</td>\n      <td>Hong Kong Exchanges and Clearing Limited</td>\n      <td>37.03</td>\n      <td>-0.11</td>\n      <td>-0.30%</td>\n      <td>44310</td>\n      <td>71834</td>\n      <td>46.948B</td>\n      <td>31.92</td>\n      <td>NaN</td>\n    </tr>\n    <tr>\n      <th>98</th>\n      <td>MET</td>\n      <td>MetLife, Inc.</td>\n      <td>61.90</td>\n      <td>0.58</td>\n      <td>+0.95%</td>\n      <td>2.795M</td>\n      <td>3.675M</td>\n      <td>46.55B</td>\n      <td>143.95</td>\n      <td>NaN</td>\n    </tr>\n    <tr>\n      <th>99</th>\n      <td>ING</td>\n      <td>ING Groep N.V.</td>\n      <td>13.28</td>\n      <td>-0.24</td>\n      <td>-1.78%</td>\n      <td>1.158M</td>\n      <td>2.342M</td>\n      <td>46.498B</td>\n      <td>7.68</td>\n      <td>NaN</td>\n    </tr>\n  </tbody>\n</table>\n<p>100 rows × 10 columns</p>\n</div>"
     },
     "execution_count": 10,
     "metadata": {},
     "output_type": "execute_result"
    }
   ],
   "source": [
    "table_data"
   ],
   "metadata": {
    "collapsed": false,
    "ExecuteTime": {
     "end_time": "2023-10-09T22:58:48.556049Z",
     "start_time": "2023-10-09T22:58:48.517996100Z"
    }
   },
   "id": "5ddc7aaa95390be4"
  },
  {
   "cell_type": "code",
   "execution_count": 11,
   "outputs": [
    {
     "data": {
      "text/plain": "(100, 10)"
     },
     "execution_count": 11,
     "metadata": {},
     "output_type": "execute_result"
    }
   ],
   "source": [
    "table_data.shape"
   ],
   "metadata": {
    "collapsed": false,
    "ExecuteTime": {
     "end_time": "2023-10-09T22:58:48.565542Z",
     "start_time": "2023-10-09T22:58:48.526202700Z"
    }
   },
   "id": "f133ab0048ad1f8d"
  },
  {
   "cell_type": "code",
   "execution_count": 12,
   "outputs": [
    {
     "name": "stdout",
     "output_type": "stream",
     "text": [
      "Data Directory Created!\n"
     ]
    }
   ],
   "source": [
    "if not os.path.exists(\"data/\"):\n",
    "    os.mkdir(\"data/\")\n",
    "    print(\"Data Directory Created!\")"
   ],
   "metadata": {
    "collapsed": false,
    "ExecuteTime": {
     "end_time": "2023-10-09T22:58:48.566539300Z",
     "start_time": "2023-10-09T22:58:48.544645Z"
    }
   },
   "id": "ab3455b8e924736c"
  },
  {
   "cell_type": "code",
   "execution_count": 13,
   "outputs": [],
   "source": [
    "file_name = \"finance.csv\"\n",
    "table_data.to_csv(\"data/\" + file_name)"
   ],
   "metadata": {
    "collapsed": false,
    "ExecuteTime": {
     "end_time": "2023-10-09T22:58:48.684339Z",
     "start_time": "2023-10-09T22:58:48.556049Z"
    }
   },
   "id": "c313b4acaecf19bc"
  },
  {
   "cell_type": "code",
   "execution_count": 14,
   "outputs": [
    {
     "data": {
      "text/plain": "Index(['Symbol', 'Name', 'Price (Intraday)', 'Change', '% Change', 'Volume',\n       'Avg Vol (3 month)', 'Market Cap', 'PE Ratio (TTM)', '52 Week Range'],\n      dtype='object')"
     },
     "execution_count": 14,
     "metadata": {},
     "output_type": "execute_result"
    }
   ],
   "source": [
    "table_data.columns"
   ],
   "metadata": {
    "collapsed": false,
    "ExecuteTime": {
     "end_time": "2023-10-09T22:58:48.686330500Z",
     "start_time": "2023-10-09T22:58:48.580566900Z"
    }
   },
   "id": "aef05ca40fa09b02"
  }
 ],
 "metadata": {
  "kernelspec": {
   "display_name": "Python 3",
   "language": "python",
   "name": "python3"
  },
  "language_info": {
   "codemirror_mode": {
    "name": "ipython",
    "version": 2
   },
   "file_extension": ".py",
   "mimetype": "text/x-python",
   "name": "python",
   "nbconvert_exporter": "python",
   "pygments_lexer": "ipython2",
   "version": "2.7.6"
  }
 },
 "nbformat": 4,
 "nbformat_minor": 5
}
