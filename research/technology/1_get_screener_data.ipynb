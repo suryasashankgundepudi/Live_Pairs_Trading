{
 "cells": [
  {
   "cell_type": "markdown",
   "source": [
    "# Reading Stock Screeners based on Industry \n",
    "\n",
    "What we aim to do here is to get a list of all the companies and their technicals/fundamentals. \n",
    "\n",
    "## Steps followed\n",
    "1. Import necessary libraries and setup chromedriver\n",
    "2. Define a function that will get the Yahoo Finance\n",
    "    1. Load the page\n",
    "    2. Find the table in the page\n",
    "    3. Extract the table\n",
    "    4. Read the table as a dataframe \n",
    "3. Save the dataframe"
   ],
   "metadata": {
    "collapsed": false
   },
   "id": "8d0e6c51fe3fdfa1"
  },
  {
   "cell_type": "code",
   "execution_count": 1,
   "outputs": [
    {
     "ename": "ModuleNotFoundError",
     "evalue": "No module named 'pandas'",
     "output_type": "error",
     "traceback": [
      "\u001B[1;31m---------------------------------------------------------------------------\u001B[0m",
      "\u001B[1;31mModuleNotFoundError\u001B[0m                       Traceback (most recent call last)",
      "Cell \u001B[1;32mIn[1], line 4\u001B[0m\n\u001B[0;32m      1\u001B[0m \u001B[38;5;28;01mimport\u001B[39;00m \u001B[38;5;21;01mos\u001B[39;00m\n\u001B[0;32m      3\u001B[0m \u001B[38;5;66;03m# Importing the necessary modules\u001B[39;00m\n\u001B[1;32m----> 4\u001B[0m \u001B[38;5;28;01mimport\u001B[39;00m \u001B[38;5;21;01mpandas\u001B[39;00m \u001B[38;5;28;01mas\u001B[39;00m \u001B[38;5;21;01mpd\u001B[39;00m\n\u001B[0;32m      5\u001B[0m \u001B[38;5;28;01mimport\u001B[39;00m \u001B[38;5;21;01mtime\u001B[39;00m\n\u001B[0;32m      6\u001B[0m \u001B[38;5;28;01mimport\u001B[39;00m \u001B[38;5;21;01mwarnings\u001B[39;00m\n",
      "\u001B[1;31mModuleNotFoundError\u001B[0m: No module named 'pandas'"
     ]
    }
   ],
   "source": [
    "import os\n",
    "\n",
    "# Importing the necessary modules\n",
    "import pandas as pd\n",
    "import time\n",
    "import warnings\n",
    "from selenium import webdriver\n",
    "from selenium.webdriver.chrome.service import Service\n",
    "from selenium.webdriver.chrome.options import Options\n",
    "from webdriver_manager.chrome import ChromeDriverManager\n",
    "from selenium.webdriver.common.by import By\n",
    "\n",
    "warnings.filterwarnings('ignore')"
   ],
   "metadata": {
    "collapsed": false,
    "ExecuteTime": {
     "end_time": "2023-10-31T00:10:53.330457500Z",
     "start_time": "2023-10-31T00:10:53.298033800Z"
    }
   },
   "id": "392ac019e4439d98"
  },
  {
   "cell_type": "code",
   "execution_count": 4,
   "outputs": [],
   "source": [
    "# Setting up the options for the webdriver\n",
    "options = Options()\n",
    "options.add_experimental_option(\"detach\", True)\n",
    "driver = webdriver.Chrome(service=Service(ChromeDriverManager().install()),\n",
    "                          options=options)"
   ],
   "metadata": {
    "collapsed": false,
    "ExecuteTime": {
     "end_time": "2023-09-20T00:47:45.393437300Z",
     "start_time": "2023-09-20T00:47:40.053589700Z"
    }
   },
   "id": "6138ae6b478abc14"
  },
  {
   "cell_type": "code",
   "execution_count": 5,
   "outputs": [],
   "source": [
    "def get_yahoo_table(yahoo_link, xpath):\n",
    "    \"\"\"Load a Yahoo Finance page and extract a table as a pandas DataFrame.\n",
    "\n",
    "    :param yahoo_link: Yahoo Finance link to the page\n",
    "    :param xpath: XPath of the table element\n",
    "\n",
    "    :return: pandas DataFrame containing the table data\n",
    "    \"\"\"\n",
    "    # Open a web browser to the provided Yahoo Finance link\n",
    "    driver.get(yahoo_link)\n",
    "\n",
    "    # Wait for the page to fully load (you might need to adjust the time)\n",
    "    time.sleep(5)\n",
    "    driver.execute_script(\"window.scrollBy(0, 500);\")\n",
    "    driver.find_element(\"xpath\", '//*[@id=\"scr-res-table\"]/div[1]/table/thead/tr/th[6]').click()\n",
    "    time.sleep(5)\n",
    "    driver.find_element(\"xpath\", '//*[@id=\"scr-res-table\"]/div[1]/table/thead/tr/th[6]').click()\n",
    "    time.sleep(5)\n",
    "\n",
    "\n",
    "    # Try to find the table on the page using the provided description (XPath)\n",
    "    try:\n",
    "        table_element = driver.find_element('xpath', xpath)\n",
    "    except:\n",
    "        # If the table is not found, show a message and return nothing\n",
    "        print(\"Table element not found.\")\n",
    "        return None\n",
    "\n",
    "    # Get the contents of the table in a format that computers can understand\n",
    "    table_html = table_element.get_attribute('outerHTML')\n",
    "\n",
    "    # Convert th/e table's contents into a structured format that can be easily worked with\n",
    "    table_df = pd.read_html(table_html)[0]\n",
    "\n",
    "    # Return the structured table as a result\n",
    "    return table_df"
   ],
   "metadata": {
    "collapsed": false,
    "ExecuteTime": {
     "end_time": "2023-09-20T00:47:45.403341600Z",
     "start_time": "2023-09-20T00:47:45.394353300Z"
    }
   },
   "id": "ec711351647c4476"
  },
  {
   "cell_type": "code",
   "execution_count": 6,
   "outputs": [],
   "source": [
    "# You will get this link by going to yahoo finance and doing the screener thing\n",
    "yahoo_link = \"https://finance.yahoo.com/screener/unsaved/6c46aa22-e5e2-42b1-a272-ab6fdd5a4aa3?offset=0&count=100\"\n",
    "# This should be the same for everyone but if you face issue drop a whatsapp message in the group\n",
    "table_xpath = '//*[@id=\"scr-res-table\"]/div[1]/table'\n",
    "\n",
    "\n",
    "table_data = get_yahoo_table(yahoo_link, table_xpath)\n"
   ],
   "metadata": {
    "collapsed": false,
    "ExecuteTime": {
     "end_time": "2023-09-20T00:48:05.126371500Z",
     "start_time": "2023-09-20T00:47:45.398341400Z"
    }
   },
   "id": "3a969616c39efa51"
  },
  {
   "cell_type": "code",
   "execution_count": 7,
   "outputs": [
    {
     "data": {
      "text/plain": "   Symbol                              Name  Price (Intraday)  Change  \\\n0    INTC                 Intel Corporation             36.34   -1.65   \n1    AAPL                        Apple Inc.            179.07    1.10   \n2     AMD      Advanced Micro Devices, Inc.            101.61   -0.76   \n3    NVDA                NVIDIA Corporation            435.20   -4.46   \n4    PLTR        Palantir Technologies Inc.             15.15   -0.31   \n..    ...                               ...               ...     ...   \n95   SSNC  SS&C Technologies Holdings, Inc.             55.32   -0.18   \n96    NOW                  ServiceNow, Inc.            572.33   -6.18   \n97   KLAC                   KLA Corporation            457.31    0.80   \n98    MSI          Motorola Solutions, Inc.            285.80   -1.60   \n99    SAP                            SAP SE            134.70   -0.54   \n\n   % Change   Volume Avg Vol (3 month) Market Cap  PE Ratio (TTM)  \\\n0    -4.34%   53.18M           38.242M   152.192B             NaN   \n1    +0.62%  50.448M           57.543M       2.8T           30.05   \n2    -0.74%  41.536M           61.521M   164.168B             NaN   \n3    -1.01%  37.136M           49.922M     1.075T          105.38   \n4    -2.01%  37.498M           63.544M      32.6B             NaN   \n..      ...      ...               ...        ...             ...   \n95   -0.32%   870771            1.008M    13.724B           22.86   \n96   -1.07%   829523            1.085M   116.755B           82.47   \n97   +0.18%   663463            975574    62.523B           18.94   \n98   -0.56%   466822            747666    47.734B           32.40   \n99   -0.40%   652136            867509   157.559B           84.19   \n\n    52 Week Range  \n0             NaN  \n1             NaN  \n2             NaN  \n3             NaN  \n4             NaN  \n..            ...  \n95            NaN  \n96            NaN  \n97            NaN  \n98            NaN  \n99            NaN  \n\n[100 rows x 10 columns]",
      "text/html": "<div>\n<style scoped>\n    .dataframe tbody tr th:only-of-type {\n        vertical-align: middle;\n    }\n\n    .dataframe tbody tr th {\n        vertical-align: top;\n    }\n\n    .dataframe thead th {\n        text-align: right;\n    }\n</style>\n<table border=\"1\" class=\"dataframe\">\n  <thead>\n    <tr style=\"text-align: right;\">\n      <th></th>\n      <th>Symbol</th>\n      <th>Name</th>\n      <th>Price (Intraday)</th>\n      <th>Change</th>\n      <th>% Change</th>\n      <th>Volume</th>\n      <th>Avg Vol (3 month)</th>\n      <th>Market Cap</th>\n      <th>PE Ratio (TTM)</th>\n      <th>52 Week Range</th>\n    </tr>\n  </thead>\n  <tbody>\n    <tr>\n      <th>0</th>\n      <td>INTC</td>\n      <td>Intel Corporation</td>\n      <td>36.34</td>\n      <td>-1.65</td>\n      <td>-4.34%</td>\n      <td>53.18M</td>\n      <td>38.242M</td>\n      <td>152.192B</td>\n      <td>NaN</td>\n      <td>NaN</td>\n    </tr>\n    <tr>\n      <th>1</th>\n      <td>AAPL</td>\n      <td>Apple Inc.</td>\n      <td>179.07</td>\n      <td>1.10</td>\n      <td>+0.62%</td>\n      <td>50.448M</td>\n      <td>57.543M</td>\n      <td>2.8T</td>\n      <td>30.05</td>\n      <td>NaN</td>\n    </tr>\n    <tr>\n      <th>2</th>\n      <td>AMD</td>\n      <td>Advanced Micro Devices, Inc.</td>\n      <td>101.61</td>\n      <td>-0.76</td>\n      <td>-0.74%</td>\n      <td>41.536M</td>\n      <td>61.521M</td>\n      <td>164.168B</td>\n      <td>NaN</td>\n      <td>NaN</td>\n    </tr>\n    <tr>\n      <th>3</th>\n      <td>NVDA</td>\n      <td>NVIDIA Corporation</td>\n      <td>435.20</td>\n      <td>-4.46</td>\n      <td>-1.01%</td>\n      <td>37.136M</td>\n      <td>49.922M</td>\n      <td>1.075T</td>\n      <td>105.38</td>\n      <td>NaN</td>\n    </tr>\n    <tr>\n      <th>4</th>\n      <td>PLTR</td>\n      <td>Palantir Technologies Inc.</td>\n      <td>15.15</td>\n      <td>-0.31</td>\n      <td>-2.01%</td>\n      <td>37.498M</td>\n      <td>63.544M</td>\n      <td>32.6B</td>\n      <td>NaN</td>\n      <td>NaN</td>\n    </tr>\n    <tr>\n      <th>...</th>\n      <td>...</td>\n      <td>...</td>\n      <td>...</td>\n      <td>...</td>\n      <td>...</td>\n      <td>...</td>\n      <td>...</td>\n      <td>...</td>\n      <td>...</td>\n      <td>...</td>\n    </tr>\n    <tr>\n      <th>95</th>\n      <td>SSNC</td>\n      <td>SS&amp;C Technologies Holdings, Inc.</td>\n      <td>55.32</td>\n      <td>-0.18</td>\n      <td>-0.32%</td>\n      <td>870771</td>\n      <td>1.008M</td>\n      <td>13.724B</td>\n      <td>22.86</td>\n      <td>NaN</td>\n    </tr>\n    <tr>\n      <th>96</th>\n      <td>NOW</td>\n      <td>ServiceNow, Inc.</td>\n      <td>572.33</td>\n      <td>-6.18</td>\n      <td>-1.07%</td>\n      <td>829523</td>\n      <td>1.085M</td>\n      <td>116.755B</td>\n      <td>82.47</td>\n      <td>NaN</td>\n    </tr>\n    <tr>\n      <th>97</th>\n      <td>KLAC</td>\n      <td>KLA Corporation</td>\n      <td>457.31</td>\n      <td>0.80</td>\n      <td>+0.18%</td>\n      <td>663463</td>\n      <td>975574</td>\n      <td>62.523B</td>\n      <td>18.94</td>\n      <td>NaN</td>\n    </tr>\n    <tr>\n      <th>98</th>\n      <td>MSI</td>\n      <td>Motorola Solutions, Inc.</td>\n      <td>285.80</td>\n      <td>-1.60</td>\n      <td>-0.56%</td>\n      <td>466822</td>\n      <td>747666</td>\n      <td>47.734B</td>\n      <td>32.40</td>\n      <td>NaN</td>\n    </tr>\n    <tr>\n      <th>99</th>\n      <td>SAP</td>\n      <td>SAP SE</td>\n      <td>134.70</td>\n      <td>-0.54</td>\n      <td>-0.40%</td>\n      <td>652136</td>\n      <td>867509</td>\n      <td>157.559B</td>\n      <td>84.19</td>\n      <td>NaN</td>\n    </tr>\n  </tbody>\n</table>\n<p>100 rows × 10 columns</p>\n</div>"
     },
     "execution_count": 7,
     "metadata": {},
     "output_type": "execute_result"
    }
   ],
   "source": [
    "table_data"
   ],
   "metadata": {
    "collapsed": false,
    "ExecuteTime": {
     "end_time": "2023-09-20T00:48:05.184027400Z",
     "start_time": "2023-09-20T00:48:05.128372200Z"
    }
   },
   "id": "f4918cd5c7ab592e"
  },
  {
   "cell_type": "code",
   "execution_count": 8,
   "outputs": [],
   "source": [
    "table_data.shape\n",
    "\n",
    "# transform string ending with k and M to pure integer\n",
    "def volume_string_to_int(str):\n",
    "    multipliers = {'k':1000, 'M':1000000}\n",
    "    if str[-1].isdigit():\n",
    "        return int(str)\n",
    "    mult = multipliers[str[-1]]\n",
    "    return int(float(str[:-1])*mult)"
   ],
   "metadata": {
    "collapsed": false,
    "ExecuteTime": {
     "end_time": "2023-09-20T00:48:05.184027400Z",
     "start_time": "2023-09-20T00:48:05.164275500Z"
    }
   },
   "id": "c700c19b2d08d314"
  },
  {
   "cell_type": "code",
   "execution_count": 9,
   "outputs": [],
   "source": [
    "if not os.path.exists(\"data/\"):\n",
    "    os.mkdir(\"data/\")\n",
    "    print(\"Data Directory Created!\")"
   ],
   "metadata": {
    "collapsed": false,
    "ExecuteTime": {
     "end_time": "2023-09-20T00:48:05.190951Z",
     "start_time": "2023-09-20T00:48:05.170173700Z"
    }
   },
   "id": "eb2a4ff9e0d8e871"
  },
  {
   "cell_type": "code",
   "execution_count": 10,
   "outputs": [],
   "source": [
    "file_name = \"utilities.csv\"\n",
    "table_data.to_csv(\"data/\" + file_name)"
   ],
   "metadata": {
    "collapsed": false,
    "ExecuteTime": {
     "end_time": "2023-09-20T00:48:05.194459300Z",
     "start_time": "2023-09-20T00:48:05.177027100Z"
    }
   },
   "id": "2068c73576404928"
  },
  {
   "cell_type": "code",
   "execution_count": 11,
   "outputs": [
    {
     "data": {
      "text/plain": "Index(['Symbol', 'Name', 'Price (Intraday)', 'Change', '% Change', 'Volume',\n       'Avg Vol (3 month)', 'Market Cap', 'PE Ratio (TTM)', '52 Week Range'],\n      dtype='object')"
     },
     "execution_count": 11,
     "metadata": {},
     "output_type": "execute_result"
    }
   ],
   "source": [
    "table_data.columns"
   ],
   "metadata": {
    "collapsed": false,
    "ExecuteTime": {
     "end_time": "2023-09-20T00:48:05.208039Z",
     "start_time": "2023-09-20T00:48:05.195459800Z"
    }
   },
   "id": "87d10d7f69677fc5"
  },
  {
   "cell_type": "code",
   "execution_count": 11,
   "outputs": [],
   "source": [],
   "metadata": {
    "collapsed": false,
    "ExecuteTime": {
     "end_time": "2023-09-20T00:48:05.252500100Z",
     "start_time": "2023-09-20T00:48:05.203460600Z"
    }
   },
   "id": "6ce76b203d47d98"
  }
 ],
 "metadata": {
  "kernelspec": {
   "display_name": "Python 3",
   "language": "python",
   "name": "python3"
  },
  "language_info": {
   "codemirror_mode": {
    "name": "ipython",
    "version": 2
   },
   "file_extension": ".py",
   "mimetype": "text/x-python",
   "name": "python",
   "nbconvert_exporter": "python",
   "pygments_lexer": "ipython2",
   "version": "2.7.6"
  }
 },
 "nbformat": 4,
 "nbformat_minor": 5
}
