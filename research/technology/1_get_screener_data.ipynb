{
 "cells": [
  {
   "cell_type": "markdown",
   "source": [
    "# Reading Stock Screeners based on Industry \n",
    "\n",
    "What we aim to do here is to get a list of all the companies and their technicals/fundamentals. \n",
    "\n",
    "## Steps followed\n",
    "1. Import necessary libraries and setup chromedriver\n",
    "2. Define a function that will get the Yahoo Finance\n",
    "    1. Load the page\n",
    "    2. Find the table in the page\n",
    "    3. Extract the table\n",
    "    4. Read the table as a dataframe \n",
    "3. Save the dataframe"
   ],
   "metadata": {
    "collapsed": false
   },
   "id": "8d0e6c51fe3fdfa1"
  },
  {
   "cell_type": "code",
   "execution_count": 34,
   "outputs": [],
   "source": [
    "import os\n",
    "\n",
    "# Importing the necessary modules\n",
    "import pandas as pd\n",
    "import time\n",
    "import warnings\n",
    "from selenium import webdriver\n",
    "from selenium.webdriver.chrome.service import Service\n",
    "from selenium.webdriver.chrome.options import Options\n",
    "from webdriver_manager.chrome import ChromeDriverManager\n",
    "\n",
    "warnings.filterwarnings('ignore')\n",
    "\n",
    "# Setting up the options for the webdriver\n",
    "options = Options()\n",
    "options.add_experimental_option(\"detach\", True)\n",
    "driver = webdriver.Chrome(service=Service(ChromeDriverManager().install()),\n",
    "                          options=options)\n"
   ],
   "metadata": {
    "collapsed": false,
    "ExecuteTime": {
     "end_time": "2023-09-19T14:29:02.624438700Z",
     "start_time": "2023-09-19T14:28:56.791184Z"
    }
   },
   "id": "392ac019e4439d98"
  },
  {
   "cell_type": "code",
   "execution_count": 35,
   "outputs": [],
   "source": [
    "def get_yahoo_table(yahoo_link, xpath):\n",
    "    \"\"\"Load a Yahoo Finance page and extract a table as a pandas DataFrame.\n",
    "\n",
    "    :param yahoo_link: Yahoo Finance link to the page\n",
    "    :param xpath: XPath of the table element\n",
    "\n",
    "    :return: pandas DataFrame containing the table data\n",
    "    \"\"\"\n",
    "    # Open a web browser to the provided Yahoo Finance link\n",
    "    driver.get(yahoo_link)\n",
    "\n",
    "    # Wait for the page to fully load (you might need to adjust the time)\n",
    "    time.sleep(5)\n",
    "\n",
    "    # Try to find the table on the page using the provided description (XPath)\n",
    "    try:\n",
    "        table_element = driver.find_element('xpath', xpath)\n",
    "    except:\n",
    "        # If the table is not found, show a message and return nothing\n",
    "        print(\"Table element not found.\")\n",
    "        return None\n",
    "\n",
    "    # Get the contents of the table in a format that computers can understand\n",
    "    table_html = table_element.get_attribute('outerHTML')\n",
    "\n",
    "    # Convert the table's contents into a structured format that can be easily worked with\n",
    "    table_df = pd.read_html(table_html)[0]\n",
    "\n",
    "    # Return the structured table as a result\n",
    "    return table_df\n",
    "\n",
    "\n",
    "def volume_string_to_int(str):\n",
    "    multipliers = {'k':1000, 'M':1000000}\n",
    "    if str[-1].isdigit():\n",
    "        return int(str)\n",
    "    mult = multipliers[str[-1]]\n",
    "    return int(float(str[:-1])*mult)\n"
   ],
   "metadata": {
    "collapsed": false,
    "ExecuteTime": {
     "end_time": "2023-09-19T14:29:03.818624600Z",
     "start_time": "2023-09-19T14:29:03.812107800Z"
    }
   },
   "id": "ec711351647c4476"
  },
  {
   "cell_type": "code",
   "execution_count": 36,
   "outputs": [],
   "source": [
    "# You will get this link by going to yahoo finance and doing the screener thing\n",
    "yahoo_link = \"https://finance.yahoo.com/screener/unsaved/6c46aa22-e5e2-42b1-a272-ab6fdd5a4aa3?offset=0&count=100\"\n",
    "\n",
    "# This should be the same for everyone but if you face issue drop a whatsapp message in the group\n",
    "table_xpath = \"/html/body/div[1]/div/div/div[1]/div/div[2]/div/div/div[6]/div/div/section/div/div[2]/div[1]\"\n",
    "\n",
    "table_data = get_yahoo_table(yahoo_link, table_xpath)\n"
   ],
   "metadata": {
    "collapsed": false,
    "ExecuteTime": {
     "end_time": "2023-09-19T14:29:12.610111700Z",
     "start_time": "2023-09-19T14:29:04.470017600Z"
    }
   },
   "id": "3a969616c39efa51"
  },
  {
   "cell_type": "code",
   "execution_count": 37,
   "outputs": [
    {
     "data": {
      "text/plain": "   Symbol                                               Name  \\\n0    AAPL                                         Apple Inc.   \n1    MSFT                              Microsoft Corporation   \n2    NVDA                                 NVIDIA Corporation   \n3     TSM  Taiwan Semiconductor Manufacturing Company Lim...   \n4    AVGO                                      Broadcom Inc.   \n..    ...                                                ...   \n95  FJTSY                                    Fujitsu Limited   \n96  HXGBF                                  Hexagon AB (publ)   \n97   KEYS                        Keysight Technologies, Inc.   \n98  HXGBY                                  Hexagon AB (publ)   \n99   FICO                             Fair Isaac Corporation   \n\n    Price (Intraday)  Change % Change    Volume Avg Vol (3 month) Market Cap  \\\n0             177.60   -0.37   -0.21%   13.662M           57.543M     2.776T   \n1             325.49   -3.57   -1.08%    4.601M             24.9M     2.418T   \n2             435.01   -4.65   -1.06%    9.846M           49.922M     1.074T   \n3              88.34   -0.49   -0.55%    1.313M            8.921M   458.167B   \n4             845.11   -4.89   -0.58%  260.404k            2.392M   348.845B   \n..               ...     ...      ...       ...               ...        ...   \n95             25.47    0.33   +1.31%    406903             91458    24.159B   \n96              8.81    0.00    0.00%       148              4923    23.894B   \n97            131.75   -1.00   -0.75%     92839            1.349M    23.396B   \n98              8.50   -0.06   -0.70%      1687            189100    22.986B   \n99            900.97   -2.15   -0.24%      8606            165173    22.396B   \n\n    PE Ratio (TTM)  52 Week Range  \n0            29.79            NaN  \n1            33.66            NaN  \n2           105.32            NaN  \n3            15.53            NaN  \n4            26.03            NaN  \n..             ...            ...  \n95           18.06            NaN  \n96           20.99            NaN  \n97           20.98            NaN  \n98           20.24            NaN  \n99           55.55            NaN  \n\n[100 rows x 10 columns]",
      "text/html": "<div>\n<style scoped>\n    .dataframe tbody tr th:only-of-type {\n        vertical-align: middle;\n    }\n\n    .dataframe tbody tr th {\n        vertical-align: top;\n    }\n\n    .dataframe thead th {\n        text-align: right;\n    }\n</style>\n<table border=\"1\" class=\"dataframe\">\n  <thead>\n    <tr style=\"text-align: right;\">\n      <th></th>\n      <th>Symbol</th>\n      <th>Name</th>\n      <th>Price (Intraday)</th>\n      <th>Change</th>\n      <th>% Change</th>\n      <th>Volume</th>\n      <th>Avg Vol (3 month)</th>\n      <th>Market Cap</th>\n      <th>PE Ratio (TTM)</th>\n      <th>52 Week Range</th>\n    </tr>\n  </thead>\n  <tbody>\n    <tr>\n      <th>0</th>\n      <td>AAPL</td>\n      <td>Apple Inc.</td>\n      <td>177.60</td>\n      <td>-0.37</td>\n      <td>-0.21%</td>\n      <td>13.662M</td>\n      <td>57.543M</td>\n      <td>2.776T</td>\n      <td>29.79</td>\n      <td>NaN</td>\n    </tr>\n    <tr>\n      <th>1</th>\n      <td>MSFT</td>\n      <td>Microsoft Corporation</td>\n      <td>325.49</td>\n      <td>-3.57</td>\n      <td>-1.08%</td>\n      <td>4.601M</td>\n      <td>24.9M</td>\n      <td>2.418T</td>\n      <td>33.66</td>\n      <td>NaN</td>\n    </tr>\n    <tr>\n      <th>2</th>\n      <td>NVDA</td>\n      <td>NVIDIA Corporation</td>\n      <td>435.01</td>\n      <td>-4.65</td>\n      <td>-1.06%</td>\n      <td>9.846M</td>\n      <td>49.922M</td>\n      <td>1.074T</td>\n      <td>105.32</td>\n      <td>NaN</td>\n    </tr>\n    <tr>\n      <th>3</th>\n      <td>TSM</td>\n      <td>Taiwan Semiconductor Manufacturing Company Lim...</td>\n      <td>88.34</td>\n      <td>-0.49</td>\n      <td>-0.55%</td>\n      <td>1.313M</td>\n      <td>8.921M</td>\n      <td>458.167B</td>\n      <td>15.53</td>\n      <td>NaN</td>\n    </tr>\n    <tr>\n      <th>4</th>\n      <td>AVGO</td>\n      <td>Broadcom Inc.</td>\n      <td>845.11</td>\n      <td>-4.89</td>\n      <td>-0.58%</td>\n      <td>260.404k</td>\n      <td>2.392M</td>\n      <td>348.845B</td>\n      <td>26.03</td>\n      <td>NaN</td>\n    </tr>\n    <tr>\n      <th>...</th>\n      <td>...</td>\n      <td>...</td>\n      <td>...</td>\n      <td>...</td>\n      <td>...</td>\n      <td>...</td>\n      <td>...</td>\n      <td>...</td>\n      <td>...</td>\n      <td>...</td>\n    </tr>\n    <tr>\n      <th>95</th>\n      <td>FJTSY</td>\n      <td>Fujitsu Limited</td>\n      <td>25.47</td>\n      <td>0.33</td>\n      <td>+1.31%</td>\n      <td>406903</td>\n      <td>91458</td>\n      <td>24.159B</td>\n      <td>18.06</td>\n      <td>NaN</td>\n    </tr>\n    <tr>\n      <th>96</th>\n      <td>HXGBF</td>\n      <td>Hexagon AB (publ)</td>\n      <td>8.81</td>\n      <td>0.00</td>\n      <td>0.00%</td>\n      <td>148</td>\n      <td>4923</td>\n      <td>23.894B</td>\n      <td>20.99</td>\n      <td>NaN</td>\n    </tr>\n    <tr>\n      <th>97</th>\n      <td>KEYS</td>\n      <td>Keysight Technologies, Inc.</td>\n      <td>131.75</td>\n      <td>-1.00</td>\n      <td>-0.75%</td>\n      <td>92839</td>\n      <td>1.349M</td>\n      <td>23.396B</td>\n      <td>20.98</td>\n      <td>NaN</td>\n    </tr>\n    <tr>\n      <th>98</th>\n      <td>HXGBY</td>\n      <td>Hexagon AB (publ)</td>\n      <td>8.50</td>\n      <td>-0.06</td>\n      <td>-0.70%</td>\n      <td>1687</td>\n      <td>189100</td>\n      <td>22.986B</td>\n      <td>20.24</td>\n      <td>NaN</td>\n    </tr>\n    <tr>\n      <th>99</th>\n      <td>FICO</td>\n      <td>Fair Isaac Corporation</td>\n      <td>900.97</td>\n      <td>-2.15</td>\n      <td>-0.24%</td>\n      <td>8606</td>\n      <td>165173</td>\n      <td>22.396B</td>\n      <td>55.55</td>\n      <td>NaN</td>\n    </tr>\n  </tbody>\n</table>\n<p>100 rows × 10 columns</p>\n</div>"
     },
     "execution_count": 37,
     "metadata": {},
     "output_type": "execute_result"
    }
   ],
   "source": [
    "table_data"
   ],
   "metadata": {
    "collapsed": false,
    "ExecuteTime": {
     "end_time": "2023-09-19T14:29:13.111891Z",
     "start_time": "2023-09-19T14:29:13.098441700Z"
    }
   },
   "id": "f4918cd5c7ab592e"
  },
  {
   "cell_type": "code",
   "execution_count": 51,
   "outputs": [
    {
     "data": {
      "text/plain": "   Symbol                             Name  Price (Intraday)  Change % Change  \\\n0    AAPL                       Apple Inc.            177.60   -0.37   -0.21%   \n12    AMD     Advanced Micro Devices, Inc.            101.76   -0.61   -0.60%   \n71   PLTR       Palantir Technologies Inc.             15.07   -0.39   -2.49%   \n2    NVDA               NVIDIA Corporation            435.01   -4.65   -1.06%   \n27    ARM                 Arm Holdings plc             54.94   -3.06   -5.28%   \n..    ...                              ...               ...     ...      ...   \n96  HXGBF                Hexagon AB (publ)              8.81    0.00    0.00%   \n57  IFNNF         Infineon Technologies AG             32.46   -1.54   -4.53%   \n22  SNEJF           Sony Group Corporation             88.73    0.00    0.00%   \n55  CNSWF      Constellation Software Inc.           2109.00    1.00   +0.05%   \n79  RNECF  Renesas Electronics Corporation             15.93    0.00    0.00%   \n\n     Volume Avg Vol (3 month) Market Cap  PE Ratio (TTM)  52 Week Range  \\\n0   13.662M           57.543M     2.776T           29.79            NaN   \n12  11.410M           61.521M   164.394B             NaN            NaN   \n71  10.626M           63.544M    32.428B             NaN            NaN   \n2    9.846M           49.922M     1.074T          105.32            NaN   \n27   9.712M           79.856M    56.527B          144.97            NaN   \n..      ...               ...        ...             ...            ...   \n96      148              4923    23.894B           20.99            NaN   \n57      118              1984    42.286B           12.88            NaN   \n22       42              5709   109.429B           18.18            NaN   \n55       27               558    44.693B           91.74            NaN   \n79       20              6380    28.376B           12.54            NaN   \n\n    Volume_Number  \n0        13662000  \n12       11410000  \n71       10626000  \n2         9846000  \n27        9712000  \n..            ...  \n96            148  \n57            118  \n22             42  \n55             27  \n79             20  \n\n[100 rows x 11 columns]",
      "text/html": "<div>\n<style scoped>\n    .dataframe tbody tr th:only-of-type {\n        vertical-align: middle;\n    }\n\n    .dataframe tbody tr th {\n        vertical-align: top;\n    }\n\n    .dataframe thead th {\n        text-align: right;\n    }\n</style>\n<table border=\"1\" class=\"dataframe\">\n  <thead>\n    <tr style=\"text-align: right;\">\n      <th></th>\n      <th>Symbol</th>\n      <th>Name</th>\n      <th>Price (Intraday)</th>\n      <th>Change</th>\n      <th>% Change</th>\n      <th>Volume</th>\n      <th>Avg Vol (3 month)</th>\n      <th>Market Cap</th>\n      <th>PE Ratio (TTM)</th>\n      <th>52 Week Range</th>\n      <th>Volume_Number</th>\n    </tr>\n  </thead>\n  <tbody>\n    <tr>\n      <th>0</th>\n      <td>AAPL</td>\n      <td>Apple Inc.</td>\n      <td>177.60</td>\n      <td>-0.37</td>\n      <td>-0.21%</td>\n      <td>13.662M</td>\n      <td>57.543M</td>\n      <td>2.776T</td>\n      <td>29.79</td>\n      <td>NaN</td>\n      <td>13662000</td>\n    </tr>\n    <tr>\n      <th>12</th>\n      <td>AMD</td>\n      <td>Advanced Micro Devices, Inc.</td>\n      <td>101.76</td>\n      <td>-0.61</td>\n      <td>-0.60%</td>\n      <td>11.410M</td>\n      <td>61.521M</td>\n      <td>164.394B</td>\n      <td>NaN</td>\n      <td>NaN</td>\n      <td>11410000</td>\n    </tr>\n    <tr>\n      <th>71</th>\n      <td>PLTR</td>\n      <td>Palantir Technologies Inc.</td>\n      <td>15.07</td>\n      <td>-0.39</td>\n      <td>-2.49%</td>\n      <td>10.626M</td>\n      <td>63.544M</td>\n      <td>32.428B</td>\n      <td>NaN</td>\n      <td>NaN</td>\n      <td>10626000</td>\n    </tr>\n    <tr>\n      <th>2</th>\n      <td>NVDA</td>\n      <td>NVIDIA Corporation</td>\n      <td>435.01</td>\n      <td>-4.65</td>\n      <td>-1.06%</td>\n      <td>9.846M</td>\n      <td>49.922M</td>\n      <td>1.074T</td>\n      <td>105.32</td>\n      <td>NaN</td>\n      <td>9846000</td>\n    </tr>\n    <tr>\n      <th>27</th>\n      <td>ARM</td>\n      <td>Arm Holdings plc</td>\n      <td>54.94</td>\n      <td>-3.06</td>\n      <td>-5.28%</td>\n      <td>9.712M</td>\n      <td>79.856M</td>\n      <td>56.527B</td>\n      <td>144.97</td>\n      <td>NaN</td>\n      <td>9712000</td>\n    </tr>\n    <tr>\n      <th>...</th>\n      <td>...</td>\n      <td>...</td>\n      <td>...</td>\n      <td>...</td>\n      <td>...</td>\n      <td>...</td>\n      <td>...</td>\n      <td>...</td>\n      <td>...</td>\n      <td>...</td>\n      <td>...</td>\n    </tr>\n    <tr>\n      <th>96</th>\n      <td>HXGBF</td>\n      <td>Hexagon AB (publ)</td>\n      <td>8.81</td>\n      <td>0.00</td>\n      <td>0.00%</td>\n      <td>148</td>\n      <td>4923</td>\n      <td>23.894B</td>\n      <td>20.99</td>\n      <td>NaN</td>\n      <td>148</td>\n    </tr>\n    <tr>\n      <th>57</th>\n      <td>IFNNF</td>\n      <td>Infineon Technologies AG</td>\n      <td>32.46</td>\n      <td>-1.54</td>\n      <td>-4.53%</td>\n      <td>118</td>\n      <td>1984</td>\n      <td>42.286B</td>\n      <td>12.88</td>\n      <td>NaN</td>\n      <td>118</td>\n    </tr>\n    <tr>\n      <th>22</th>\n      <td>SNEJF</td>\n      <td>Sony Group Corporation</td>\n      <td>88.73</td>\n      <td>0.00</td>\n      <td>0.00%</td>\n      <td>42</td>\n      <td>5709</td>\n      <td>109.429B</td>\n      <td>18.18</td>\n      <td>NaN</td>\n      <td>42</td>\n    </tr>\n    <tr>\n      <th>55</th>\n      <td>CNSWF</td>\n      <td>Constellation Software Inc.</td>\n      <td>2109.00</td>\n      <td>1.00</td>\n      <td>+0.05%</td>\n      <td>27</td>\n      <td>558</td>\n      <td>44.693B</td>\n      <td>91.74</td>\n      <td>NaN</td>\n      <td>27</td>\n    </tr>\n    <tr>\n      <th>79</th>\n      <td>RNECF</td>\n      <td>Renesas Electronics Corporation</td>\n      <td>15.93</td>\n      <td>0.00</td>\n      <td>0.00%</td>\n      <td>20</td>\n      <td>6380</td>\n      <td>28.376B</td>\n      <td>12.54</td>\n      <td>NaN</td>\n      <td>20</td>\n    </tr>\n  </tbody>\n</table>\n<p>100 rows × 11 columns</p>\n</div>"
     },
     "execution_count": 51,
     "metadata": {},
     "output_type": "execute_result"
    }
   ],
   "source": [
    "table_data.shape\n",
    "\n",
    "table_data['Volume_Number'] = table_data['Volume'].apply(volume_string_to_int)\n",
    "table_data.sort_values(by=['Volume_Number'], ascending=False)"
   ],
   "metadata": {
    "collapsed": false,
    "ExecuteTime": {
     "end_time": "2023-09-19T14:39:21.133664Z",
     "start_time": "2023-09-19T14:39:21.053794700Z"
    }
   },
   "id": "c700c19b2d08d314"
  },
  {
   "cell_type": "code",
   "execution_count": 52,
   "outputs": [],
   "source": [
    "if not os.path.exists(\"data/\"):\n",
    "    os.mkdir(\"data/\")\n",
    "    print(\"Data Directory Created!\")"
   ],
   "metadata": {
    "collapsed": false,
    "ExecuteTime": {
     "end_time": "2023-09-19T14:39:47.714676100Z",
     "start_time": "2023-09-19T14:39:47.688658900Z"
    }
   },
   "id": "eb2a4ff9e0d8e871"
  },
  {
   "cell_type": "code",
   "execution_count": 53,
   "outputs": [],
   "source": [
    "file_name = \"utilities.csv\"\n",
    "table_data.to_csv(\"data/\" + file_name)"
   ],
   "metadata": {
    "collapsed": false,
    "ExecuteTime": {
     "end_time": "2023-09-19T14:39:50.613510500Z",
     "start_time": "2023-09-19T14:39:50.598201900Z"
    }
   },
   "id": "2068c73576404928"
  },
  {
   "cell_type": "code",
   "execution_count": 54,
   "outputs": [
    {
     "data": {
      "text/plain": "Index(['Symbol', 'Name', 'Price (Intraday)', 'Change', '% Change', 'Volume',\n       'Avg Vol (3 month)', 'Market Cap', 'PE Ratio (TTM)', '52 Week Range',\n       'Volume_Number'],\n      dtype='object')"
     },
     "execution_count": 54,
     "metadata": {},
     "output_type": "execute_result"
    }
   ],
   "source": [
    "table_data.columns"
   ],
   "metadata": {
    "collapsed": false,
    "ExecuteTime": {
     "end_time": "2023-09-19T14:39:51.840583Z",
     "start_time": "2023-09-19T14:39:51.830173900Z"
    }
   },
   "id": "87d10d7f69677fc5"
  },
  {
   "cell_type": "code",
   "execution_count": null,
   "outputs": [],
   "source": [],
   "metadata": {
    "collapsed": false
   },
   "id": "6ce76b203d47d98"
  }
 ],
 "metadata": {
  "kernelspec": {
   "display_name": "Python 3",
   "language": "python",
   "name": "python3"
  },
  "language_info": {
   "codemirror_mode": {
    "name": "ipython",
    "version": 2
   },
   "file_extension": ".py",
   "mimetype": "text/x-python",
   "name": "python",
   "nbconvert_exporter": "python",
   "pygments_lexer": "ipython2",
   "version": "2.7.6"
  }
 },
 "nbformat": 4,
 "nbformat_minor": 5
}
